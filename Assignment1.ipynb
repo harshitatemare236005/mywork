{
 "cells": [
  {
   "cell_type": "code",
   "execution_count": 15,
   "id": "e6c33645",
   "metadata": {},
   "outputs": [
    {
     "name": "stdout",
     "output_type": "stream",
     "text": [
      "Enter any no. : 7\n",
      "[(1, 1), (2, 4), (3, 9), (4, 16), (5, 25), (6, 36), (7, 49)]\n",
      "{1: 1, 2: 4, 3: 9, 4: 16, 5: 25, 6: 36, 7: 49}\n"
     ]
    }
   ],
   "source": [
    "#Q1: With a given integral number n, write a program to generate a dictionary that contains (i, i*i) such that is an integral\n",
    "# number between 1 and n (both included). and then the program should print the dictionary. Suppose the following input is \n",
    "# supplied to the program: 8 Then, the output should be: {1: 1, 2: 4, 3: 9, 4: 16, 5: 25, 6: 36, 7: 49, 8: 64}\n",
    "\n",
    "n= int(input(\"Enter any no. : \"))\n",
    "l1=[]\n",
    "for x in range(n):\n",
    "    l1.append((int(x+1),(x+1)*(x+1)))\n",
    "print(l1)\n",
    "\n",
    "\n",
    "d1 = dict(l1)\n",
    "print(d1)"
   ]
  },
  {
   "cell_type": "code",
   "execution_count": 17,
   "id": "fb99fe95",
   "metadata": {},
   "outputs": [
    {
     "name": "stdout",
     "output_type": "stream",
     "text": [
      "Enter any no. : 5\n",
      "23,45,67,89,12\n",
      "['23', '45', '67', '89', '12']\n",
      "('23', '45', '67', '89', '12')\n"
     ]
    }
   ],
   "source": [
    "# Q2: Write a program that accepts a sequence of comma-separated numbers from the console and generates a list and a tuple that\n",
    "# contains every number. Suppose the following input is supplied to the program: 34,67,55,33,12,98 Then, the output should be:\n",
    "# ['34', '67', '55', '33', '12', '98'] ('34', '67', '55', '33', '12', '98')\n",
    "\n",
    "n= int(input(\"Enter any no. : \"))\n",
    "l1=[x for x in input().split(\",\")]\n",
    "\n",
    "print(l1)\n",
    "\n",
    "t1 = tuple(l1)\n",
    "print(t1)"
   ]
  },
  {
   "cell_type": "code",
   "execution_count": 20,
   "id": "7c53093f",
   "metadata": {},
   "outputs": [
    {
     "name": "stdout",
     "output_type": "stream",
     "text": [
      "Enter no. of row : 3\n",
      "Enter no. of col : 5\n",
      "[[0, 0, 0, 0, 0], [0, 1, 2, 3, 4], [0, 2, 4, 6, 8]]\n"
     ]
    }
   ],
   "source": [
    "# Q3: Write a program that takes 2 digits, X,Y as input, and generates a 2-dimensional array realized using lists. The element\n",
    "# value in the i-th row and j-th column of the array should be i*j. Note: i=0,1.., X-1; j=0,1,¡-Y-1. Example Suppose the \n",
    "# following inputs are given to the program: 3,5 Then, the output of the program should be: [[0, 0, 0, 0, 0], [0, 1, 2, 3, 4],\n",
    "# [0, 2, 4, 6, 8]]\n",
    "\n",
    "n = int(input(\"Enter no. of row : \"))\n",
    "m = int(input(\"Enter no. of col : \"))\n",
    "l1=[]\n",
    "for x in range(n):\n",
    "    l2=[]\n",
    "    for y in range(m):\n",
    "        l2.append(x*y)\n",
    "    l1.append(l2)\n",
    "    \n",
    "print(l1)"
   ]
  },
  {
   "cell_type": "code",
   "execution_count": 2,
   "id": "f08353a5",
   "metadata": {},
   "outputs": [
    {
     "name": "stdout",
     "output_type": "stream",
     "text": [
      "Enter a sentence: Learning Python to know\n",
      "Frequency of the alphabets in the sentence is:  {'l': 1, 'e': 1, 'a': 1, 'r': 1, 'n': 4, 'i': 1, 'g': 1, 'p': 1, 'y': 1, 't': 2, 'h': 1, 'o': 3, 'k': 1, 'w': 1}\n"
     ]
    }
   ],
   "source": [
    "# Q4:Write a program that accepts a sequence of lines as input and prints the frequency of alphabets.\n",
    "\n",
    "str=input(\"Enter a sentence: \")\n",
    "count={}\n",
    "\n",
    "# loop through the entire string, if alphabet is encountered for the first time, add it to the dictionary and set its value to 1, \n",
    "#else increase its count by 1\n",
    "for i in str:\n",
    "    i=i.lower()\n",
    "    if i not in \"abcdefghijklmnopqrstuvwxyz\":\n",
    "        continue\n",
    "    else:\n",
    "        if i in count:\n",
    "            count[i]+=1\n",
    "        else:\n",
    "            count[i]=1\n",
    "print(\"Frequency of the alphabets in the sentence is: \",count)\n",
    "\n",
    "        "
   ]
  },
  {
   "cell_type": "code",
   "execution_count": 5,
   "id": "7fb6cf19",
   "metadata": {},
   "outputs": [
    {
     "name": "stdout",
     "output_type": "stream",
     "text": [
      "Enter the first string: Chocolates\n",
      "Enter the second string: Biscuits\n",
      "Chocolates  is the string of maximum length\n"
     ]
    }
   ],
   "source": [
    "# Q5: Define a function that can accept two strings as input and print the string with maximum length in the console. If two strings have the same length, then the function should print all strings line by line.\n",
    "\n",
    "def maxLength(a,b):\n",
    "\n",
    "    if len(a)>len(b):\n",
    "        print(a,\" is the string of maximum length\")\n",
    "    elif len(b)>len(a):\n",
    "        print(b,\" is the string of maximum length\")\n",
    "    else:\n",
    "        print(\"Both strings are of same length\")\n",
    "        print(a)\n",
    "        print(b)\n",
    "        \n",
    "# main \n",
    "str1=input(\"Enter the first string: \")\n",
    "str2=input(\"Enter the second string: \")\n",
    "maxLength(str1,str2)"
   ]
  },
  {
   "cell_type": "code",
   "execution_count": null,
   "id": "283dbdce",
   "metadata": {},
   "outputs": [],
   "source": []
  }
 ],
 "metadata": {
  "kernelspec": {
   "display_name": "Python 3 (ipykernel)",
   "language": "python",
   "name": "python3"
  },
  "language_info": {
   "codemirror_mode": {
    "name": "ipython",
    "version": 3
   },
   "file_extension": ".py",
   "mimetype": "text/x-python",
   "name": "python",
   "nbconvert_exporter": "python",
   "pygments_lexer": "ipython3",
   "version": "3.11.4"
  }
 },
 "nbformat": 4,
 "nbformat_minor": 5
}
