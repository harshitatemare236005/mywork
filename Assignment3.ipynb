{
 "cells": [
  {
   "cell_type": "code",
   "execution_count": 1,
   "id": "25a59736-4b9e-4aae-8349-c581ee7ffd5a",
   "metadata": {
    "scrolled": true
   },
   "outputs": [
    {
     "name": "stdout",
     "output_type": "stream",
     "text": [
      "foo:  [ 0  1  2  3  4  5  6  7  8  9 10 11 12 13 14 15 16 17 18 19 20 21 22 23\n",
      " 24 25 26 27 28 29]\n",
      "shape of foo is:  (30,)\n"
     ]
    }
   ],
   "source": [
    "#Q1 A\n",
    "import numpy as np\n",
    "foo=np.arange(0,30)\n",
    "print(\"foo: \",foo)\n",
    "print(\"shape of foo is: \",foo.shape)"
   ]
  },
  {
   "cell_type": "code",
   "execution_count": 2,
   "id": "605e063a-9a20-47a2-8dea-942128284b21",
   "metadata": {},
   "outputs": [
    {
     "name": "stdout",
     "output_type": "stream",
     "text": [
      "[[ 0  1  2  3  4  5  6  7  8  9 10 11 12 13 14]\n",
      " [15 16 17 18 19 20 21 22 23 24 25 26 27 28 29]]\n",
      "shape of bar:  (2, 15)\n"
     ]
    }
   ],
   "source": [
    "#B\n",
    "bar=foo.reshape(2,-1)\n",
    "print(bar)\n",
    "print(\"shape of bar: \",bar.shape)"
   ]
  },
  {
   "cell_type": "code",
   "execution_count": 3,
   "id": "d4893253-6bec-4d20-ab86-7206ab540ecf",
   "metadata": {},
   "outputs": [
    {
     "name": "stdout",
     "output_type": "stream",
     "text": [
      "[[[ 0  1  2  3  4]\n",
      "  [ 5  6  7  8  9]]\n",
      "\n",
      " [[10 11 12 13 14]\n",
      "  [15 16 17 18 19]]\n",
      "\n",
      " [[20 21 22 23 24]\n",
      "  [25 26 27 28 29]]]\n",
      "shape of bar:  (3, 2, 5)\n"
     ]
    }
   ],
   "source": [
    "#C\n",
    "baz=foo.reshape(3,2,-1)\n",
    "print(baz)\n",
    "print(\"shape of bar: \",baz.shape)"
   ]
  },
  {
   "cell_type": "code",
   "execution_count": 4,
   "id": "8d55cc86-9f33-4431-8648-3b0292b536b0",
   "metadata": {},
   "outputs": [
    {
     "name": "stdout",
     "output_type": "stream",
     "text": [
      "bar:  [[ 0  1  2  3  4  5  6  7  8  9 10 11 12 13 14]\n",
      " [-1 16 17 18 19 20 21 22 23 24 25 26 27 28 29]]\n",
      "baz:  [[[ 0  1  2  3  4]\n",
      "  [ 5  6  7  8  9]]\n",
      "\n",
      " [[10 11 12 13 14]\n",
      "  [-1 16 17 18 19]]\n",
      "\n",
      " [[20 21 22 23 24]\n",
      "  [25 26 27 28 29]]]\n",
      "foo:  [ 0  1  2  3  4  5  6  7  8  9 10 11 12 13 14 -1 16 17 18 19 20 21 22 23\n",
      " 24 25 26 27 28 29]\n"
     ]
    },
    {
     "data": {
      "text/plain": [
       "\"NumPy's reshape function provides a new view of the original array's data, not creating a physical copy in memory. \\nThus changing bar changed foo and bazas well\""
      ]
     },
     "execution_count": 4,
     "metadata": {},
     "output_type": "execute_result"
    }
   ],
   "source": [
    "#D\n",
    "bar[1][0]=-1\n",
    "print(\"bar: \", bar)\n",
    "print(\"baz: \", baz)\n",
    "print(\"foo: \", foo)\n",
    "\n",
    "'''NumPy's reshape function provides a new view of the original array's data, not creating a physical copy in memory. \n",
    "Thus changing bar changed foo and bazas well'''"
   ]
  },
  {
   "cell_type": "code",
   "execution_count": 5,
   "id": "16684f87-85a7-4c86-aa8d-3a29290f8c4a",
   "metadata": {},
   "outputs": [
    {
     "name": "stdout",
     "output_type": "stream",
     "text": [
      "sum over 2nd dimension:  [[ 10  35]\n",
      " [ 60  69]\n",
      " [110 135]]\n",
      "sum over 3rd dimension:  [[ 5  7  9 11 13]\n",
      " [ 9 27 29 31 33]\n",
      " [45 47 49 51 53]]\n",
      "sum over 1st dimension:  [[30 33 36 39 42]\n",
      " [29 48 51 54 57]]\n",
      "sum over 3rd dimension:  [59 81 87 93 99]\n"
     ]
    }
   ],
   "source": [
    "#E\n",
    "print(\"sum over 2nd dimension: \",baz.sum(axis=2))\n",
    "print(\"sum over 3rd dimension: \",baz.sum(axis=1))\n",
    "c=baz.sum(axis=0)\n",
    "print(\"sum over 1st dimension: \",c)\n",
    "print(\"sum over 3rd dimension: \",c.sum(axis=0))\n"
   ]
  },
  {
   "cell_type": "code",
   "execution_count": 6,
   "id": "cccb3bde-266a-4ac5-ab9b-cef590592a4f",
   "metadata": {},
   "outputs": [
    {
     "name": "stdout",
     "output_type": "stream",
     "text": [
      "2nd row of bar:  [-1 16 17 18 19 20 21 22 23 24 25 26 27 28 29]\n",
      "last col of bar:  [14 29]\n",
      "top right 2x2 submatrix of bar:  [[13 14]\n",
      " [28 29]]\n"
     ]
    }
   ],
   "source": [
    "#F\n",
    "print(\"2nd row of bar: \",bar[1,:])\n",
    "print(\"last col of bar: \",bar[:,-1])\n",
    "print(\"top right 2x2 submatrix of bar: \",bar[:,-2:15])\n"
   ]
  },
  {
   "cell_type": "code",
   "execution_count": 7,
   "id": "6658a684-3040-4e8f-92e8-6c72a2cecf48",
   "metadata": {},
   "outputs": [
    {
     "name": "stdout",
     "output_type": "stream",
     "text": [
      "[ 1  2  3  4  5  6  7  8  9 10]\n"
     ]
    }
   ],
   "source": [
    "#Q2 A\n",
    "print(np.arange(10)+1)"
   ]
  },
  {
   "cell_type": "code",
   "execution_count": 8,
   "id": "5309b992-5ac1-4d24-897e-3aaee672af69",
   "metadata": {},
   "outputs": [
    {
     "name": "stdout",
     "output_type": "stream",
     "text": [
      "[[ 2  3  4  5  6  7  8  9 10 11]\n",
      " [ 3  4  5  6  7  8  9 10 11 12]\n",
      " [ 4  5  6  7  8  9 10 11 12 13]\n",
      " [ 5  6  7  8  9 10 11 12 13 14]\n",
      " [ 6  7  8  9 10 11 12 13 14 15]\n",
      " [ 7  8  9 10 11 12 13 14 15 16]\n",
      " [ 8  9 10 11 12 13 14 15 16 17]\n",
      " [ 9 10 11 12 13 14 15 16 17 18]\n",
      " [10 11 12 13 14 15 16 17 18 19]\n",
      " [11 12 13 14 15 16 17 18 19 20]]\n"
     ]
    }
   ],
   "source": [
    "#B \n",
    "a=np.arange(10)+2\n",
    "b=a.copy()\n",
    "for i in range(1,10):\n",
    "    b=np.append(b,a+i)\n",
    "print(b.reshape(10,10))\n",
    "    \n",
    "        "
   ]
  },
  {
   "cell_type": "code",
   "execution_count": 9,
   "id": "af0e3690-047c-4772-9aa3-55a2f52ce7a4",
   "metadata": {},
   "outputs": [
    {
     "name": "stdout",
     "output_type": "stream",
     "text": [
      "[[ 0.50123586  0.48359386  0.72853528 22.88724312  1.25223387]\n",
      " [ 0.35176019  0.43061354  0.36238378  1.87243504  0.21358935]\n",
      " [ 0.69022481  4.94352186  0.39054684  1.04327082  0.54337876]\n",
      " [ 0.37010852  2.63602536  1.36653423  0.24878292  1.55246453]\n",
      " [ 0.40757871  0.3163112   0.19502083  1.00677264 13.50327109]\n",
      " [ 1.49864212  0.42995724  0.79190351  0.23606221  0.10804967]\n",
      " [ 6.35336819  0.96778335  1.42574405  1.54538167  6.09373883]\n",
      " [ 2.81228696  2.68009687  0.29857105  0.45821223  0.45541527]\n",
      " [ 0.9419448   1.22519342  1.17440504  0.40220542  0.19563257]\n",
      " [ 3.58164119  2.58058787  6.40867899  0.67320326  0.8537608 ]\n",
      " [ 2.25842783  0.5645004   0.16892242  0.22212412  0.37260517]\n",
      " [ 0.28160725  1.08916696  8.80188286  0.62599261  0.81390384]\n",
      " [ 0.42346578  4.17196068  2.48720263  3.19972396  1.0810169 ]\n",
      " [ 1.01641247  1.92762267  0.46864295  0.77591683  0.16369544]\n",
      " [ 1.45756411  2.47722815  0.37873919  4.64687419  0.77528676]\n",
      " [ 0.22864137  1.02356845  0.95165647  0.3597182   0.28820895]\n",
      " [ 2.499211    3.26708027  0.35432717  0.60643979  1.67047712]\n",
      " [ 0.50709241  1.99424106  1.25400112  0.97171043  2.11602939]\n",
      " [ 1.95821748  1.10058354  4.56780239  2.65294281  0.24702636]\n",
      " [ 0.17243474  0.26096288  1.28798141  3.59398699  0.66604327]\n",
      " [ 2.4786962   0.55911724  2.51437784  1.71886657  1.51911399]\n",
      " [ 0.90385118  3.05699483  2.0225654   1.26733314  0.58775383]\n",
      " [ 2.31780267  0.35752959  0.16700156  3.05339112  0.33821346]\n",
      " [ 1.79622851  1.19147162  1.04168819  0.08774452  0.6191851 ]\n",
      " [ 1.25961876  3.92207654  5.20120257  0.63486798  1.07485054]\n",
      " [ 0.71358557  0.34396266  4.6152435   1.67653426  6.09786053]\n",
      " [ 0.07377681  1.09316267  2.31586865  1.93963099  2.27136874]\n",
      " [ 0.25595635  2.01818402  0.59788517  0.6911342   0.6809437 ]\n",
      " [ 0.74233139  4.8362321   3.36783131  0.69804243  0.45735277]\n",
      " [ 0.53701582  0.24874736  2.32692222  1.23975855  0.09922774]\n",
      " [ 0.74756955  1.37384659  2.62535555  0.74001337  0.9925369 ]\n",
      " [ 0.41739005  3.04971242  0.77088939  2.03445182  1.94009285]\n",
      " [ 0.32629557  2.85199579  2.95032993  0.99312601  0.69787609]\n",
      " [ 0.07400728  0.60187257  1.06012485  0.67905373  0.67721979]\n",
      " [ 1.21527281  2.57790895  1.44824721  2.25884931  0.90868393]\n",
      " [ 0.68646801  0.15252503  0.31649429  0.4708127   0.53074565]\n",
      " [ 2.88686182  0.55508905  3.63114822  0.44229983  0.35196141]\n",
      " [ 1.04881145  6.93242633  0.53048122  0.59435544  1.06803614]\n",
      " [ 0.28242667  0.5670513   0.26241729  1.56590484  0.26010287]\n",
      " [ 0.70599486  0.50772572  0.11133655  0.73544464  1.36715521]\n",
      " [ 1.90774204  0.49662885  1.11670812  0.29081945  1.20742504]\n",
      " [ 1.14142761  1.38845773  2.91412954  0.71044508  2.82180653]\n",
      " [ 1.99119183  0.8688619   1.11567254  1.93457541  1.85423976]\n",
      " [ 4.22254775  1.33550729  1.96455921  0.29017377  5.68440061]\n",
      " [ 1.05425482  0.77244712  0.1608154   0.70274766  0.79803085]\n",
      " [ 0.55268548  4.12132484  0.43553413  1.10889113  0.26040797]\n",
      " [ 0.18777756  1.22004362  2.79139521  1.02823918  3.68648426]\n",
      " [ 1.49785139  0.28159586  0.67870201  3.71464213  1.42122013]\n",
      " [ 4.48951579  0.59377539  3.08349912  0.31391507  0.11901998]\n",
      " [ 1.19182704  4.58768     1.36152543  0.76578434  2.55573907]]\n"
     ]
    }
   ],
   "source": [
    "#C\n",
    "import numpy.random as npr\n",
    "data=np.exp(npr.randn(50,5))\n",
    "print(data)"
   ]
  },
  {
   "cell_type": "code",
   "execution_count": 10,
   "id": "b32330ec-b1b1-453f-88ad-76545ade7c10",
   "metadata": {},
   "outputs": [
    {
     "name": "stdout",
     "output_type": "stream",
     "text": [
      "mean of each column:  [1.32037297 1.74069109 1.74726868 1.64821696 1.51829767]\n",
      "standard deviation of each column:  [1.26915312 1.54011804 1.75807058 3.1976699  2.21511482]\n"
     ]
    }
   ],
   "source": [
    "#D\n",
    "m=np.mean(data,axis=0)\n",
    "print(\"mean of each column: \",m)\n",
    "s=np.std(data,axis=0)\n",
    "print(\"standard deviation of each column: \",s)"
   ]
  },
  {
   "cell_type": "code",
   "execution_count": 11,
   "id": "2e0412da-88e1-41a9-8222-28759fcddf7b",
   "metadata": {},
   "outputs": [
    {
     "name": "stdout",
     "output_type": "stream",
     "text": [
      "[-5.27355937e-17  1.19904087e-16 -2.59237076e-16  1.40998324e-16\n",
      " -5.88418203e-17]\n",
      "[1. 1. 1. 1. 1.]\n"
     ]
    }
   ],
   "source": [
    "#E\n",
    "data=data-m\n",
    "data=data/s\n",
    "print(np.mean(data,axis=0))\n",
    "print(np.std(data,axis=0))"
   ]
  },
  {
   "cell_type": "raw",
   "id": "885fa04c-4686-4fd1-adcf-b2f201ae6bed",
   "metadata": {},
   "source": [
    "Q3 Write a function isprime that takes in a positive integer N, and determines whether or not it is prime.\n",
    "Return the N if it's prime and return nothing if it isn't.\n",
    "Then, using a list comprehension and isprime, create a list myprimes that contains all the prime numbers less\n",
    "than 500."
   ]
  },
  {
   "cell_type": "code",
   "execution_count": 26,
   "id": "a6cfbcc2-724a-4a12-9ca2-773afc23b1ec",
   "metadata": {},
   "outputs": [
    {
     "name": "stdout",
     "output_type": "stream",
     "text": [
      "Enter a number: 45\n",
      "None\n",
      "\n",
      "Prime numbers less than 500\n",
      "[1, 2, 3, 5, 7, 11, 13, 17, 19, 23, 29, 31, 37, 41, 43, 47, 53, 59, 61, 67, 71, 73, 79, 83, 89, 97, 101, 103, 107, 109, 113, 127, 131, 137, 139, 149, 151, 157, 163, 167, 173, 179, 181, 191, 193, 197, 199, 211, 223, 227, 229, 233, 239, 241, 251, 257, 263, 269, 271, 277, 281, 283, 293, 307, 311, 313, 317, 331, 337, 347, 349, 353, 359, 367, 373, 379, 383, 389, 397, 401, 409, 419, 421, 431, 433, 439, 443, 449, 457, 461, 463, 467, 479, 487, 491, 499]\n"
     ]
    }
   ],
   "source": [
    "def isPrime(n):\n",
    "    s=int(np.sqrt(n))+1\n",
    "    prime=True\n",
    "    for i in range(2,s):\n",
    "        if n%i==0:\n",
    "            prime=False\n",
    "            break\n",
    "    if prime:\n",
    "        return n\n",
    "\n",
    "n = int(input(\"Enter a number: \"))\n",
    "print(isPrime(n))\n",
    "\n",
    "print()\n",
    "\n",
    "print(\"Prime numbers less than 500\")\n",
    "print([isPrime(i) for i in range(1,500) if isPrime(i)!=None])\n"
   ]
  },
  {
   "cell_type": "code",
   "execution_count": 28,
   "id": "4d85fc00-8909-4b67-aa4d-d68117ca6f89",
   "metadata": {},
   "outputs": [
    {
     "data": {
      "text/html": [
       "<div>\n",
       "<style scoped>\n",
       "    .dataframe tbody tr th:only-of-type {\n",
       "        vertical-align: middle;\n",
       "    }\n",
       "\n",
       "    .dataframe tbody tr th {\n",
       "        vertical-align: top;\n",
       "    }\n",
       "\n",
       "    .dataframe thead th {\n",
       "        text-align: right;\n",
       "    }\n",
       "</style>\n",
       "<table border=\"1\" class=\"dataframe\">\n",
       "  <thead>\n",
       "    <tr style=\"text-align: right;\">\n",
       "      <th></th>\n",
       "      <th>group</th>\n",
       "      <th>ounces</th>\n",
       "    </tr>\n",
       "  </thead>\n",
       "  <tbody>\n",
       "    <tr>\n",
       "      <th>0</th>\n",
       "      <td>a</td>\n",
       "      <td>4.0</td>\n",
       "    </tr>\n",
       "    <tr>\n",
       "      <th>1</th>\n",
       "      <td>A</td>\n",
       "      <td>3.0</td>\n",
       "    </tr>\n",
       "    <tr>\n",
       "      <th>2</th>\n",
       "      <td>a</td>\n",
       "      <td>12.0</td>\n",
       "    </tr>\n",
       "    <tr>\n",
       "      <th>3</th>\n",
       "      <td>b</td>\n",
       "      <td>6.0</td>\n",
       "    </tr>\n",
       "    <tr>\n",
       "      <th>4</th>\n",
       "      <td>b</td>\n",
       "      <td>7.5</td>\n",
       "    </tr>\n",
       "    <tr>\n",
       "      <th>5</th>\n",
       "      <td>B</td>\n",
       "      <td>8.0</td>\n",
       "    </tr>\n",
       "    <tr>\n",
       "      <th>6</th>\n",
       "      <td>c</td>\n",
       "      <td>3.0</td>\n",
       "    </tr>\n",
       "    <tr>\n",
       "      <th>7</th>\n",
       "      <td>C</td>\n",
       "      <td>5.0</td>\n",
       "    </tr>\n",
       "    <tr>\n",
       "      <th>8</th>\n",
       "      <td>c</td>\n",
       "      <td>6.0</td>\n",
       "    </tr>\n",
       "    <tr>\n",
       "      <th>9</th>\n",
       "      <td>c</td>\n",
       "      <td>NaN</td>\n",
       "    </tr>\n",
       "  </tbody>\n",
       "</table>\n",
       "</div>"
      ],
      "text/plain": [
       "  group  ounces\n",
       "0     a     4.0\n",
       "1     A     3.0\n",
       "2     a    12.0\n",
       "3     b     6.0\n",
       "4     b     7.5\n",
       "5     B     8.0\n",
       "6     c     3.0\n",
       "7     C     5.0\n",
       "8     c     6.0\n",
       "9     c     NaN"
      ]
     },
     "execution_count": 28,
     "metadata": {},
     "output_type": "execute_result"
    }
   ],
   "source": [
    "#Q4\n",
    "import pandas as pd\n",
    "import numpy as np \n",
    "\n",
    "data = pd.DataFrame({'group':['a', 'A', 'a', 'b','b', 'B', 'c', 'C','c','c'],'ounces':[4,\n",
    "3, 12, 6, 7.5, 8, 3, 5, 6,np.NaN]})\n",
    "\n",
    "\n",
    "data\n"
   ]
  },
  {
   "cell_type": "code",
   "execution_count": 29,
   "id": "232f04b2-812a-401b-b94d-9d25aa7667ad",
   "metadata": {},
   "outputs": [
    {
     "data": {
      "text/html": [
       "<div>\n",
       "<style scoped>\n",
       "    .dataframe tbody tr th:only-of-type {\n",
       "        vertical-align: middle;\n",
       "    }\n",
       "\n",
       "    .dataframe tbody tr th {\n",
       "        vertical-align: top;\n",
       "    }\n",
       "\n",
       "    .dataframe thead th {\n",
       "        text-align: right;\n",
       "    }\n",
       "</style>\n",
       "<table border=\"1\" class=\"dataframe\">\n",
       "  <thead>\n",
       "    <tr style=\"text-align: right;\">\n",
       "      <th></th>\n",
       "      <th>ounces</th>\n",
       "    </tr>\n",
       "  </thead>\n",
       "  <tbody>\n",
       "    <tr>\n",
       "      <th>count</th>\n",
       "      <td>9.000000</td>\n",
       "    </tr>\n",
       "    <tr>\n",
       "      <th>mean</th>\n",
       "      <td>6.055556</td>\n",
       "    </tr>\n",
       "    <tr>\n",
       "      <th>std</th>\n",
       "      <td>2.855307</td>\n",
       "    </tr>\n",
       "    <tr>\n",
       "      <th>min</th>\n",
       "      <td>3.000000</td>\n",
       "    </tr>\n",
       "    <tr>\n",
       "      <th>25%</th>\n",
       "      <td>4.000000</td>\n",
       "    </tr>\n",
       "    <tr>\n",
       "      <th>50%</th>\n",
       "      <td>6.000000</td>\n",
       "    </tr>\n",
       "    <tr>\n",
       "      <th>75%</th>\n",
       "      <td>7.500000</td>\n",
       "    </tr>\n",
       "    <tr>\n",
       "      <th>max</th>\n",
       "      <td>12.000000</td>\n",
       "    </tr>\n",
       "  </tbody>\n",
       "</table>\n",
       "</div>"
      ],
      "text/plain": [
       "          ounces\n",
       "count   9.000000\n",
       "mean    6.055556\n",
       "std     2.855307\n",
       "min     3.000000\n",
       "25%     4.000000\n",
       "50%     6.000000\n",
       "75%     7.500000\n",
       "max    12.000000"
      ]
     },
     "execution_count": 29,
     "metadata": {},
     "output_type": "execute_result"
    }
   ],
   "source": [
    "#a\n",
    "data.describe()\n"
   ]
  },
  {
   "cell_type": "code",
   "execution_count": 30,
   "id": "d4c02b23-15be-4730-ad69-f0cea16d0913",
   "metadata": {},
   "outputs": [
    {
     "name": "stdout",
     "output_type": "stream",
     "text": [
      "<class 'pandas.core.frame.DataFrame'>\n",
      "RangeIndex: 10 entries, 0 to 9\n",
      "Data columns (total 2 columns):\n",
      " #   Column  Non-Null Count  Dtype  \n",
      "---  ------  --------------  -----  \n",
      " 0   group   10 non-null     object \n",
      " 1   ounces  9 non-null      float64\n",
      "dtypes: float64(1), object(1)\n",
      "memory usage: 292.0+ bytes\n"
     ]
    }
   ],
   "source": [
    "#b\n",
    "'''The info() method prints information about the DataFrame. \n",
    "The information contains the number of columns, column labels, column data types, memory usage, range index, and the number of cells in \n",
    "each column (non-null values).Note: the info() method actually prints the info.'''\n",
    "data.info()"
   ]
  },
  {
   "cell_type": "code",
   "execution_count": 31,
   "id": "690c69e6-e2b4-4094-83e8-252fb47a06cb",
   "metadata": {},
   "outputs": [
    {
     "data": {
      "text/html": [
       "<div>\n",
       "<style scoped>\n",
       "    .dataframe tbody tr th:only-of-type {\n",
       "        vertical-align: middle;\n",
       "    }\n",
       "\n",
       "    .dataframe tbody tr th {\n",
       "        vertical-align: top;\n",
       "    }\n",
       "\n",
       "    .dataframe thead th {\n",
       "        text-align: right;\n",
       "    }\n",
       "</style>\n",
       "<table border=\"1\" class=\"dataframe\">\n",
       "  <thead>\n",
       "    <tr style=\"text-align: right;\">\n",
       "      <th></th>\n",
       "      <th>group</th>\n",
       "      <th>ounces</th>\n",
       "    </tr>\n",
       "  </thead>\n",
       "  <tbody>\n",
       "    <tr>\n",
       "      <th>1</th>\n",
       "      <td>A</td>\n",
       "      <td>3.0</td>\n",
       "    </tr>\n",
       "    <tr>\n",
       "      <th>6</th>\n",
       "      <td>c</td>\n",
       "      <td>3.0</td>\n",
       "    </tr>\n",
       "    <tr>\n",
       "      <th>0</th>\n",
       "      <td>a</td>\n",
       "      <td>4.0</td>\n",
       "    </tr>\n",
       "    <tr>\n",
       "      <th>7</th>\n",
       "      <td>C</td>\n",
       "      <td>5.0</td>\n",
       "    </tr>\n",
       "    <tr>\n",
       "      <th>3</th>\n",
       "      <td>b</td>\n",
       "      <td>6.0</td>\n",
       "    </tr>\n",
       "    <tr>\n",
       "      <th>8</th>\n",
       "      <td>c</td>\n",
       "      <td>6.0</td>\n",
       "    </tr>\n",
       "    <tr>\n",
       "      <th>4</th>\n",
       "      <td>b</td>\n",
       "      <td>7.5</td>\n",
       "    </tr>\n",
       "    <tr>\n",
       "      <th>5</th>\n",
       "      <td>B</td>\n",
       "      <td>8.0</td>\n",
       "    </tr>\n",
       "    <tr>\n",
       "      <th>2</th>\n",
       "      <td>a</td>\n",
       "      <td>12.0</td>\n",
       "    </tr>\n",
       "    <tr>\n",
       "      <th>9</th>\n",
       "      <td>c</td>\n",
       "      <td>NaN</td>\n",
       "    </tr>\n",
       "  </tbody>\n",
       "</table>\n",
       "</div>"
      ],
      "text/plain": [
       "  group  ounces\n",
       "1     A     3.0\n",
       "6     c     3.0\n",
       "0     a     4.0\n",
       "7     C     5.0\n",
       "3     b     6.0\n",
       "8     c     6.0\n",
       "4     b     7.5\n",
       "5     B     8.0\n",
       "2     a    12.0\n",
       "9     c     NaN"
      ]
     },
     "execution_count": 31,
     "metadata": {},
     "output_type": "execute_result"
    }
   ],
   "source": [
    "#c) sort the data frame by ‘ounces’ - inplace = True\n",
    "\n",
    "''' The inplace=True parameter is a boolean parameter that is used to modify the original data frame in place. \n",
    "By default, the DataFrame.sort_values() function returns a new data frame with the specified columns sorted.'''\n",
    "\n",
    "data.sort_values(by='ounces',inplace=True)\n",
    "data"
   ]
  },
  {
   "cell_type": "code",
   "execution_count": 32,
   "id": "ef25e851-c69b-4777-a8a3-ccf3b3b0abc6",
   "metadata": {},
   "outputs": [
    {
     "data": {
      "text/html": [
       "<div>\n",
       "<style scoped>\n",
       "    .dataframe tbody tr th:only-of-type {\n",
       "        vertical-align: middle;\n",
       "    }\n",
       "\n",
       "    .dataframe tbody tr th {\n",
       "        vertical-align: top;\n",
       "    }\n",
       "\n",
       "    .dataframe thead th {\n",
       "        text-align: right;\n",
       "    }\n",
       "</style>\n",
       "<table border=\"1\" class=\"dataframe\">\n",
       "  <thead>\n",
       "    <tr style=\"text-align: right;\">\n",
       "      <th></th>\n",
       "      <th>group</th>\n",
       "      <th>ounces</th>\n",
       "    </tr>\n",
       "  </thead>\n",
       "  <tbody>\n",
       "    <tr>\n",
       "      <th>6</th>\n",
       "      <td>c</td>\n",
       "      <td>3.0</td>\n",
       "    </tr>\n",
       "    <tr>\n",
       "      <th>8</th>\n",
       "      <td>c</td>\n",
       "      <td>6.0</td>\n",
       "    </tr>\n",
       "    <tr>\n",
       "      <th>9</th>\n",
       "      <td>c</td>\n",
       "      <td>NaN</td>\n",
       "    </tr>\n",
       "    <tr>\n",
       "      <th>3</th>\n",
       "      <td>b</td>\n",
       "      <td>6.0</td>\n",
       "    </tr>\n",
       "    <tr>\n",
       "      <th>4</th>\n",
       "      <td>b</td>\n",
       "      <td>7.5</td>\n",
       "    </tr>\n",
       "    <tr>\n",
       "      <th>0</th>\n",
       "      <td>a</td>\n",
       "      <td>4.0</td>\n",
       "    </tr>\n",
       "    <tr>\n",
       "      <th>2</th>\n",
       "      <td>a</td>\n",
       "      <td>12.0</td>\n",
       "    </tr>\n",
       "    <tr>\n",
       "      <th>7</th>\n",
       "      <td>C</td>\n",
       "      <td>5.0</td>\n",
       "    </tr>\n",
       "    <tr>\n",
       "      <th>5</th>\n",
       "      <td>B</td>\n",
       "      <td>8.0</td>\n",
       "    </tr>\n",
       "    <tr>\n",
       "      <th>1</th>\n",
       "      <td>A</td>\n",
       "      <td>3.0</td>\n",
       "    </tr>\n",
       "  </tbody>\n",
       "</table>\n",
       "</div>"
      ],
      "text/plain": [
       "  group  ounces\n",
       "6     c     3.0\n",
       "8     c     6.0\n",
       "9     c     NaN\n",
       "3     b     6.0\n",
       "4     b     7.5\n",
       "0     a     4.0\n",
       "2     a    12.0\n",
       "7     C     5.0\n",
       "5     B     8.0\n",
       "1     A     3.0"
      ]
     },
     "execution_count": 32,
     "metadata": {},
     "output_type": "execute_result"
    }
   ],
   "source": [
    "#d) sort the data frame by ‘group’ in descending order and then by ‘ounces’ in ascending order inplace=False\n",
    "\n",
    "data.sort_values(by=['group','ounces'],ascending=[False,True],inplace=False)"
   ]
  },
  {
   "cell_type": "code",
   "execution_count": 33,
   "id": "f17fc5a3-601f-45d0-88fb-d3152fc77d0f",
   "metadata": {},
   "outputs": [
    {
     "data": {
      "text/html": [
       "<div>\n",
       "<style scoped>\n",
       "    .dataframe tbody tr th:only-of-type {\n",
       "        vertical-align: middle;\n",
       "    }\n",
       "\n",
       "    .dataframe tbody tr th {\n",
       "        vertical-align: top;\n",
       "    }\n",
       "\n",
       "    .dataframe thead th {\n",
       "        text-align: right;\n",
       "    }\n",
       "</style>\n",
       "<table border=\"1\" class=\"dataframe\">\n",
       "  <thead>\n",
       "    <tr style=\"text-align: right;\">\n",
       "      <th></th>\n",
       "      <th>group</th>\n",
       "      <th>ounces</th>\n",
       "    </tr>\n",
       "  </thead>\n",
       "  <tbody>\n",
       "  </tbody>\n",
       "</table>\n",
       "</div>"
      ],
      "text/plain": [
       "Empty DataFrame\n",
       "Columns: [group, ounces]\n",
       "Index: []"
      ]
     },
     "execution_count": 33,
     "metadata": {},
     "output_type": "execute_result"
    }
   ],
   "source": [
    "#e) fetch all the duplicated rows if any\n",
    "\n",
    "''' data.duplicated() - returns boolean value based on all columns(i.e rows where all the column values are same).'''\n",
    "\n",
    "data[data.duplicated()]\n"
   ]
  },
  {
   "cell_type": "code",
   "execution_count": 34,
   "id": "163d43be-0030-44f9-9741-a9c24efecdfc",
   "metadata": {},
   "outputs": [
    {
     "data": {
      "text/html": [
       "<div>\n",
       "<style scoped>\n",
       "    .dataframe tbody tr th:only-of-type {\n",
       "        vertical-align: middle;\n",
       "    }\n",
       "\n",
       "    .dataframe tbody tr th {\n",
       "        vertical-align: top;\n",
       "    }\n",
       "\n",
       "    .dataframe thead th {\n",
       "        text-align: right;\n",
       "    }\n",
       "</style>\n",
       "<table border=\"1\" class=\"dataframe\">\n",
       "  <thead>\n",
       "    <tr style=\"text-align: right;\">\n",
       "      <th></th>\n",
       "      <th>group</th>\n",
       "      <th>ounces</th>\n",
       "    </tr>\n",
       "  </thead>\n",
       "  <tbody>\n",
       "    <tr>\n",
       "      <th>1</th>\n",
       "      <td>A</td>\n",
       "      <td>3.0</td>\n",
       "    </tr>\n",
       "    <tr>\n",
       "      <th>6</th>\n",
       "      <td>c</td>\n",
       "      <td>3.0</td>\n",
       "    </tr>\n",
       "    <tr>\n",
       "      <th>0</th>\n",
       "      <td>a</td>\n",
       "      <td>4.0</td>\n",
       "    </tr>\n",
       "    <tr>\n",
       "      <th>7</th>\n",
       "      <td>C</td>\n",
       "      <td>5.0</td>\n",
       "    </tr>\n",
       "    <tr>\n",
       "      <th>3</th>\n",
       "      <td>b</td>\n",
       "      <td>6.0</td>\n",
       "    </tr>\n",
       "    <tr>\n",
       "      <th>8</th>\n",
       "      <td>c</td>\n",
       "      <td>6.0</td>\n",
       "    </tr>\n",
       "    <tr>\n",
       "      <th>4</th>\n",
       "      <td>b</td>\n",
       "      <td>7.5</td>\n",
       "    </tr>\n",
       "    <tr>\n",
       "      <th>5</th>\n",
       "      <td>B</td>\n",
       "      <td>8.0</td>\n",
       "    </tr>\n",
       "    <tr>\n",
       "      <th>2</th>\n",
       "      <td>a</td>\n",
       "      <td>12.0</td>\n",
       "    </tr>\n",
       "    <tr>\n",
       "      <th>9</th>\n",
       "      <td>c</td>\n",
       "      <td>NaN</td>\n",
       "    </tr>\n",
       "  </tbody>\n",
       "</table>\n",
       "</div>"
      ],
      "text/plain": [
       "  group  ounces\n",
       "1     A     3.0\n",
       "6     c     3.0\n",
       "0     a     4.0\n",
       "7     C     5.0\n",
       "3     b     6.0\n",
       "8     c     6.0\n",
       "4     b     7.5\n",
       "5     B     8.0\n",
       "2     a    12.0\n",
       "9     c     NaN"
      ]
     },
     "execution_count": 34,
     "metadata": {},
     "output_type": "execute_result"
    }
   ],
   "source": [
    "#f) drop all the duplicate rows\n",
    "''' Pandas drop_duplicates() function removes duplicate rows from the DataFrame '''\n",
    "\n",
    "data.drop_duplicates()"
   ]
  },
  {
   "cell_type": "code",
   "execution_count": 35,
   "id": "34e76ec3-7578-413e-90f0-41150d3c0d4a",
   "metadata": {},
   "outputs": [
    {
     "data": {
      "text/plain": [
       "1    a\n",
       "6    c\n",
       "0    a\n",
       "7    c\n",
       "3    b\n",
       "8    c\n",
       "4    b\n",
       "5    b\n",
       "2    a\n",
       "9    c\n",
       "Name: group, dtype: object"
      ]
     },
     "execution_count": 35,
     "metadata": {},
     "output_type": "execute_result"
    }
   ],
   "source": [
    "#g) convert all group letters to lowercase letters\n",
    "\n",
    "''' The apply() method applies a function along an axis of the dataframe'''\n",
    "\n",
    "data['group'].apply(lambda x: x.lower())"
   ]
  },
  {
   "cell_type": "code",
   "execution_count": 36,
   "id": "67143d43-bd47-4ffa-b137-d204481a8395",
   "metadata": {},
   "outputs": [
    {
     "data": {
      "text/html": [
       "<div>\n",
       "<style scoped>\n",
       "    .dataframe tbody tr th:only-of-type {\n",
       "        vertical-align: middle;\n",
       "    }\n",
       "\n",
       "    .dataframe tbody tr th {\n",
       "        vertical-align: top;\n",
       "    }\n",
       "\n",
       "    .dataframe thead th {\n",
       "        text-align: right;\n",
       "    }\n",
       "</style>\n",
       "<table border=\"1\" class=\"dataframe\">\n",
       "  <thead>\n",
       "    <tr style=\"text-align: right;\">\n",
       "      <th></th>\n",
       "      <th>ounces</th>\n",
       "    </tr>\n",
       "    <tr>\n",
       "      <th>group</th>\n",
       "      <th></th>\n",
       "    </tr>\n",
       "  </thead>\n",
       "  <tbody>\n",
       "    <tr>\n",
       "      <th>A</th>\n",
       "      <td>3.00</td>\n",
       "    </tr>\n",
       "    <tr>\n",
       "      <th>B</th>\n",
       "      <td>8.00</td>\n",
       "    </tr>\n",
       "    <tr>\n",
       "      <th>C</th>\n",
       "      <td>5.00</td>\n",
       "    </tr>\n",
       "    <tr>\n",
       "      <th>a</th>\n",
       "      <td>8.00</td>\n",
       "    </tr>\n",
       "    <tr>\n",
       "      <th>b</th>\n",
       "      <td>6.75</td>\n",
       "    </tr>\n",
       "    <tr>\n",
       "      <th>c</th>\n",
       "      <td>4.50</td>\n",
       "    </tr>\n",
       "  </tbody>\n",
       "</table>\n",
       "</div>"
      ],
      "text/plain": [
       "       ounces\n",
       "group        \n",
       "A        3.00\n",
       "B        8.00\n",
       "C        5.00\n",
       "a        8.00\n",
       "b        6.75\n",
       "c        4.50"
      ]
     },
     "execution_count": 36,
     "metadata": {},
     "output_type": "execute_result"
    }
   ],
   "source": [
    "#h) compute the average ounces for all unique letters\n",
    "\n",
    "'''groupby() - Pandas groupby is used for grouping the data according to the categories and applying a function to the categories'''\n",
    "\n",
    "data.groupby(['group']).mean()\n"
   ]
  },
  {
   "cell_type": "code",
   "execution_count": 37,
   "id": "495f34ed-5c38-4a34-ba71-f17ca165b13e",
   "metadata": {},
   "outputs": [
    {
     "name": "stdout",
     "output_type": "stream",
     "text": [
      "  group  ounces\n",
      "3     b     6.0\n",
      "8     c     6.0\n",
      "4     b     7.5\n",
      "5     B     8.0\n",
      "2     a    12.0\n",
      "\n",
      "\n",
      "\n",
      "Number of ounces > 5:   5\n",
      "\n",
      "\n",
      "\n",
      "value counts where ounces > 5: \n"
     ]
    },
    {
     "data": {
      "text/html": [
       "<div>\n",
       "<style scoped>\n",
       "    .dataframe tbody tr th:only-of-type {\n",
       "        vertical-align: middle;\n",
       "    }\n",
       "\n",
       "    .dataframe tbody tr th {\n",
       "        vertical-align: top;\n",
       "    }\n",
       "\n",
       "    .dataframe thead th {\n",
       "        text-align: right;\n",
       "    }\n",
       "</style>\n",
       "<table border=\"1\" class=\"dataframe\">\n",
       "  <thead>\n",
       "    <tr style=\"text-align: right;\">\n",
       "      <th></th>\n",
       "      <th>group</th>\n",
       "    </tr>\n",
       "    <tr>\n",
       "      <th>ounces</th>\n",
       "      <th></th>\n",
       "    </tr>\n",
       "  </thead>\n",
       "  <tbody>\n",
       "    <tr>\n",
       "      <th>6.0</th>\n",
       "      <td>2</td>\n",
       "    </tr>\n",
       "    <tr>\n",
       "      <th>7.5</th>\n",
       "      <td>1</td>\n",
       "    </tr>\n",
       "    <tr>\n",
       "      <th>8.0</th>\n",
       "      <td>1</td>\n",
       "    </tr>\n",
       "    <tr>\n",
       "      <th>12.0</th>\n",
       "      <td>1</td>\n",
       "    </tr>\n",
       "  </tbody>\n",
       "</table>\n",
       "</div>"
      ],
      "text/plain": [
       "        group\n",
       "ounces       \n",
       "6.0         2\n",
       "7.5         1\n",
       "8.0         1\n",
       "12.0        1"
      ]
     },
     "execution_count": 37,
     "metadata": {},
     "output_type": "execute_result"
    }
   ],
   "source": [
    "#i) compute value counts where ounces >5\n",
    "print(data[data.ounces>5])\n",
    "\n",
    "print(\"\\n\\n\")\n",
    "\n",
    "print(\"Number of ounces > 5:  \", data[data.ounces>5]['ounces'].count())\n",
    "\n",
    "print(\"\\n\\n\")\n",
    "\n",
    "print('value counts where ounces > 5: ')\n",
    "data[data.ounces>5].groupby(['ounces']).count()\n",
    "\n"
   ]
  },
  {
   "cell_type": "code",
   "execution_count": 38,
   "id": "3b7879a1-a0db-43d0-971d-6ffacf7126f6",
   "metadata": {},
   "outputs": [
    {
     "data": {
      "text/plain": [
       "1     3.0\n",
       "6     6.0\n",
       "0    10.0\n",
       "7    15.0\n",
       "3    21.0\n",
       "8    27.0\n",
       "4    34.5\n",
       "5    42.5\n",
       "2    54.5\n",
       "9     NaN\n",
       "Name: ounces, dtype: float64"
      ]
     },
     "execution_count": 38,
     "metadata": {},
     "output_type": "execute_result"
    }
   ],
   "source": [
    "#j) compute the cumulative sum of ounces for all rows\n",
    "\n",
    "data['ounces'].cumsum()"
   ]
  },
  {
   "cell_type": "code",
   "execution_count": 39,
   "id": "b0699d16-e869-4f6d-916d-453f17e0ac14",
   "metadata": {},
   "outputs": [
    {
     "data": {
      "text/plain": [
       "10"
      ]
     },
     "execution_count": 39,
     "metadata": {},
     "output_type": "execute_result"
    }
   ],
   "source": [
    "#k) data.shape[0]\n",
    "\n",
    "''' data.shape - shape of the table - 10X2 '''\n",
    "\n",
    "data.shape[0]\n"
   ]
  },
  {
   "cell_type": "code",
   "execution_count": 40,
   "id": "44a392b4-a14e-4108-9f8d-cf2a9f603cda",
   "metadata": {},
   "outputs": [
    {
     "name": "stdout",
     "output_type": "stream",
     "text": [
      "No. of Null value rows dropped : \n"
     ]
    },
    {
     "data": {
      "text/plain": [
       "1"
      ]
     },
     "execution_count": 40,
     "metadata": {},
     "output_type": "execute_result"
    }
   ],
   "source": [
    "#l) data.shape[0] -data.dropna()- shape[0]\n",
    "''' The dropna() method removes the rows that contains NULL values.'''\n",
    " \n",
    "x=data.dropna()\n",
    "\n",
    "print(\"No. of Null value rows dropped : \")\n",
    "data.shape[0] - x.shape[0]\n",
    "\n",
    "\n"
   ]
  },
  {
   "cell_type": "code",
   "execution_count": 41,
   "id": "4b926554-47b2-45e8-b790-51cbe20c9edd",
   "metadata": {},
   "outputs": [
    {
     "data": {
      "text/html": [
       "<div>\n",
       "<style scoped>\n",
       "    .dataframe tbody tr th:only-of-type {\n",
       "        vertical-align: middle;\n",
       "    }\n",
       "\n",
       "    .dataframe tbody tr th {\n",
       "        vertical-align: top;\n",
       "    }\n",
       "\n",
       "    .dataframe thead th {\n",
       "        text-align: right;\n",
       "    }\n",
       "</style>\n",
       "<table border=\"1\" class=\"dataframe\">\n",
       "  <thead>\n",
       "    <tr style=\"text-align: right;\">\n",
       "      <th></th>\n",
       "      <th>group</th>\n",
       "      <th>ounces</th>\n",
       "    </tr>\n",
       "  </thead>\n",
       "  <tbody>\n",
       "    <tr>\n",
       "      <th>1</th>\n",
       "      <td>False</td>\n",
       "      <td>False</td>\n",
       "    </tr>\n",
       "    <tr>\n",
       "      <th>6</th>\n",
       "      <td>False</td>\n",
       "      <td>False</td>\n",
       "    </tr>\n",
       "    <tr>\n",
       "      <th>0</th>\n",
       "      <td>False</td>\n",
       "      <td>False</td>\n",
       "    </tr>\n",
       "    <tr>\n",
       "      <th>7</th>\n",
       "      <td>False</td>\n",
       "      <td>False</td>\n",
       "    </tr>\n",
       "    <tr>\n",
       "      <th>3</th>\n",
       "      <td>False</td>\n",
       "      <td>False</td>\n",
       "    </tr>\n",
       "    <tr>\n",
       "      <th>8</th>\n",
       "      <td>False</td>\n",
       "      <td>False</td>\n",
       "    </tr>\n",
       "    <tr>\n",
       "      <th>4</th>\n",
       "      <td>False</td>\n",
       "      <td>False</td>\n",
       "    </tr>\n",
       "    <tr>\n",
       "      <th>5</th>\n",
       "      <td>False</td>\n",
       "      <td>False</td>\n",
       "    </tr>\n",
       "    <tr>\n",
       "      <th>2</th>\n",
       "      <td>False</td>\n",
       "      <td>False</td>\n",
       "    </tr>\n",
       "    <tr>\n",
       "      <th>9</th>\n",
       "      <td>False</td>\n",
       "      <td>True</td>\n",
       "    </tr>\n",
       "  </tbody>\n",
       "</table>\n",
       "</div>"
      ],
      "text/plain": [
       "   group  ounces\n",
       "1  False   False\n",
       "6  False   False\n",
       "0  False   False\n",
       "7  False   False\n",
       "3  False   False\n",
       "8  False   False\n",
       "4  False   False\n",
       "5  False   False\n",
       "2  False   False\n",
       "9  False    True"
      ]
     },
     "execution_count": 41,
     "metadata": {},
     "output_type": "execute_result"
    }
   ],
   "source": [
    "#m) isnull()\n",
    "'''The isnull() method returns a DataFrame object where all the values are replaced with a Boolean value True for NULL values, and otherwise False.'''\n",
    "\n",
    "''' In summary, isna() and isnull() are two Pandas functions that are used to identify missing values in a DataFrame. \n",
    "They are essentially the same function, except that isnull() is a method of Pandas Series objects,while isna() is a method of \n",
    "both Series and DataFrame objects.'''\n",
    "\n",
    "\n",
    "data.isnull()"
   ]
  },
  {
   "cell_type": "code",
   "execution_count": 42,
   "id": "343c988e-1858-4dfc-9c20-7f54f15da400",
   "metadata": {},
   "outputs": [
    {
     "name": "stdout",
     "output_type": "stream",
     "text": [
      "['A' 'c' 'a' 'C' 'b' 'B']\n",
      "[ 3.   4.   5.   6.   7.5  8.  12.   nan]\n"
     ]
    }
   ],
   "source": [
    "#n) unique\n",
    "\n",
    "'''The unique function in pandas is used to find the unique values in pandas Series'''\n",
    "\n",
    "print(data['group'].unique())\n",
    "print(data['ounces'].unique())"
   ]
  },
  {
   "cell_type": "code",
   "execution_count": null,
   "id": "6c77fcdd",
   "metadata": {},
   "outputs": [],
   "source": []
  }
 ],
 "metadata": {
  "kernelspec": {
   "display_name": "Python 3 (ipykernel)",
   "language": "python",
   "name": "python3"
  },
  "language_info": {
   "codemirror_mode": {
    "name": "ipython",
    "version": 3
   },
   "file_extension": ".py",
   "mimetype": "text/x-python",
   "name": "python",
   "nbconvert_exporter": "python",
   "pygments_lexer": "ipython3",
   "version": "3.11.4"
  }
 },
 "nbformat": 4,
 "nbformat_minor": 5
}
