{
 "cells": [
  {
   "cell_type": "code",
   "execution_count": 1,
   "metadata": {
    "id": "AmqLms_cZ5D1"
   },
   "outputs": [],
   "source": [
    "class Node:\n",
    "    def __init__(self,value):\n",
    "        self.data = value\n",
    "        self.next = None"
   ]
  },
  {
   "cell_type": "code",
   "execution_count": 2,
   "metadata": {
    "id": "MqUeR4oAFq2P"
   },
   "outputs": [],
   "source": [
    "#a\n",
    "class S_L_L:\n",
    "    def __init__(self):\n",
    "        self.head = None\n",
    "        self.n =  0\n",
    "\n",
    "  # Que 3\n",
    "    def __len__(self):\n",
    "        return self.n\n",
    "\n",
    "  #b\n",
    "    def p_i(self):\n",
    "        if self.head == None:\n",
    "            return \"Empty List\"\n",
    "        temp = self.head\n",
    "        print(\"First element :\",temp.data)\n",
    "        count = 0\n",
    "        while temp.next != None:\n",
    "            if count == self.n//2 :\n",
    "                print(\"Middle element :\",temp.data)\n",
    "                count +=1\n",
    "                temp = temp.next\n",
    "        print(\"Last elment :\",temp.data)\n",
    "\n",
    "      #c\n",
    "    def insrt_h(self,value):\n",
    "        n_node = Node(value)\n",
    "        n_node.next = self.head\n",
    "        self.head = n_node\n",
    "\n",
    "        self.n +=1\n",
    "      #d\n",
    "    def sh_3(self,value):\n",
    "        temp = self.head\n",
    "        if temp == None :\n",
    "            return \"Empty List\"\n",
    "        if temp.next == None:\n",
    "            return \"List has only one Item\"\n",
    "        count = 1\n",
    "        n_node = Node(value)\n",
    "        while temp != None:\n",
    "            if count == 2 :\n",
    "                n_node.next = temp.next\n",
    "                temp.next = n_node\n",
    "                return self.traverse()\n",
    "            count +=1\n",
    "            temp = temp.next\n",
    "\n",
    "    #e\n",
    "    def del_h(self):\n",
    "        temp = self.head\n",
    "        if temp == None:\n",
    "            return \"Empty List\"\n",
    "        self.head = temp.next\n",
    "        self.n -= 1\n",
    "        return self.traverse()\n",
    "\n",
    "      #f\n",
    "    def del_m(self):\n",
    "        if self.head == None:\n",
    "            return \"Empty List\"\n",
    "        temp = self.head\n",
    "        count = 0\n",
    "        while temp != None:\n",
    "            if count == self.n//2 -1 :\n",
    "                temp.next = temp.next.next\n",
    "            count +=1\n",
    "            temp = temp.next\n",
    "        self.n -= 1\n",
    "        return self.traverse()\n",
    "\n",
    "      #g\n",
    "    def del_t(self):\n",
    "        if self.head == None:\n",
    "            return \"Empty List\"\n",
    "        temp = self.head\n",
    "        while temp.next.next != None:\n",
    "            temp = temp.next\n",
    "        temp.next = None\n",
    "        self.n -= 1\n",
    "        return self.traverse()\n",
    "\n",
    "\n",
    "    def traverse(self):\n",
    "        temp = self.head\n",
    "        if temp == None:\n",
    "            return \"EMPTY LIST\"\n",
    "        str1 = \"\"\n",
    "        while temp != None:\n",
    "            str1 = str1 + str(temp.data) +\"->\"\n",
    "            temp = temp.next\n",
    "\n",
    "        return str1[:-2]\n",
    "\n",
    "    def insrt_t(self,value):\n",
    "        if self.head == None:\n",
    "            return self.insrt_h(value)\n",
    "\n",
    "        temp = self.head\n",
    "\n",
    "        while temp.next != None:\n",
    "            temp = temp.next\n",
    "\n",
    "        n_node = Node(value)\n",
    "        temp.next = n_node\n",
    "\n",
    "        self.n +=1\n",
    "\n",
    "      # Que 2\n",
    "    def sort_a(self):\n",
    "\n",
    "        temp = self.head\n",
    "        if temp == None:\n",
    "            return \"Empty List\"\n",
    "        if temp.next == None:\n",
    "            return self.traverse()\n",
    "\n",
    "        for i in range(self.n):\n",
    "            f = 0\n",
    "            temp = self.head\n",
    "            while temp.next != None:\n",
    "                if temp.data > temp.next.data:\n",
    "                    a = temp.data\n",
    "                    temp.data = temp.next.data\n",
    "                    temp.next.data = a\n",
    "                    f+=1\n",
    "            temp = temp.next\n",
    "            if f == 0:\n",
    "                break\n",
    "        return self.traverse()\n",
    "\n",
    "      # Que 4\n",
    "    def srh(self,value):\n",
    "        temp = self.head\n",
    "        if temp == None:\n",
    "            return \"Empty List\"\n",
    "        while (temp != None) or (temp.next != None) or(temp.data != value):\n",
    "            temp = temp.next\n",
    "        if temp == None:\n",
    "            return \"Not Found\"\n",
    "        else:\n",
    "            return \"Found\"\n",
    "\n",
    "\n"
   ]
  },
  {
   "cell_type": "code",
   "execution_count": 3,
   "metadata": {
    "id": "_RwmMjySeskW"
   },
   "outputs": [],
   "source": [
    "L = S_L_L()"
   ]
  },
  {
   "cell_type": "code",
   "execution_count": 4,
   "metadata": {
    "colab": {
     "base_uri": "https://localhost:8080/",
     "height": 36
    },
    "id": "0wnGndR1G-g2",
    "outputId": "57096f8d-c101-4778-96f9-82cce2881ffd"
   },
   "outputs": [
    {
     "data": {
      "text/plain": [
       "'EMPTY LIST'"
      ]
     },
     "execution_count": 4,
     "metadata": {},
     "output_type": "execute_result"
    }
   ],
   "source": [
    "L.traverse()"
   ]
  },
  {
   "cell_type": "code",
   "execution_count": 5,
   "metadata": {
    "id": "ZRw1UGuJIkW2"
   },
   "outputs": [],
   "source": [
    "L.insrt_t(1)\n",
    "L.insrt_t(7)\n",
    "L.insrt_t(3)\n",
    "L.insrt_t(5)\n",
    "L.insrt_t(2)\n",
    "L.insrt_t(6)"
   ]
  },
  {
   "cell_type": "code",
   "execution_count": null,
   "metadata": {
    "colab": {
     "base_uri": "https://localhost:8080/"
    },
    "id": "uKygI8unJl8R",
    "outputId": "580dd66e-2ab7-4d51-c248-b3c6c3347321"
   },
   "outputs": [
    {
     "name": "stdout",
     "output_type": "stream",
     "text": [
      "First element : 1\n"
     ]
    }
   ],
   "source": [
    "L.p_i()"
   ]
  },
  {
   "cell_type": "code",
   "execution_count": null,
   "metadata": {
    "colab": {
     "base_uri": "https://localhost:8080/",
     "height": 36
    },
    "id": "COYs7vbWIKpY",
    "outputId": "6bace833-c7e5-4d12-e955-b48b0f20a38f"
   },
   "outputs": [],
   "source": [
    "L.sh_3(33)"
   ]
  },
  {
   "cell_type": "code",
   "execution_count": null,
   "metadata": {
    "colab": {
     "base_uri": "https://localhost:8080/",
     "height": 36
    },
    "id": "1MIvOMenLfOo",
    "outputId": "eacb5300-ace3-4eea-ce99-c256d3dd45cf"
   },
   "outputs": [],
   "source": [
    "L.del_h()"
   ]
  },
  {
   "cell_type": "code",
   "execution_count": null,
   "metadata": {
    "colab": {
     "base_uri": "https://localhost:8080/",
     "height": 36
    },
    "id": "jDB9HyVPMuIa",
    "outputId": "3dd0067f-324d-4725-bf95-7852ac31bbef"
   },
   "outputs": [],
   "source": [
    "L.del_m()"
   ]
  },
  {
   "cell_type": "code",
   "execution_count": null,
   "metadata": {
    "colab": {
     "base_uri": "https://localhost:8080/",
     "height": 36
    },
    "id": "Q1T7r1H9Oaiy",
    "outputId": "b026da2e-b787-4597-d0ba-cbd6f2076f4a"
   },
   "outputs": [],
   "source": [
    "L.del_t()"
   ]
  },
  {
   "cell_type": "code",
   "execution_count": null,
   "metadata": {
    "colab": {
     "base_uri": "https://localhost:8080/",
     "height": 36
    },
    "id": "QeJ-rbqXPiQN",
    "outputId": "686e735f-acc0-4485-cfc5-417d7e988ce4"
   },
   "outputs": [],
   "source": [
    "L.sort_a()"
   ]
  },
  {
   "cell_type": "code",
   "execution_count": 20,
   "metadata": {
    "colab": {
     "base_uri": "https://localhost:8080/",
     "height": 263
    },
    "id": "0cixVteASN3O",
    "outputId": "682a05e4-5b3b-40bc-be87-7f7902e88ec7"
   },
   "outputs": [
    {
     "ename": "AttributeError",
     "evalue": "'NoneType' object has no attribute 'next'",
     "output_type": "error",
     "traceback": [
      "\u001b[1;31m---------------------------------------------------------------------------\u001b[0m",
      "\u001b[1;31mAttributeError\u001b[0m                            Traceback (most recent call last)",
      "Cell \u001b[1;32mIn[20], line 1\u001b[0m\n\u001b[1;32m----> 1\u001b[0m L\u001b[38;5;241m.\u001b[39msrh(\u001b[38;5;241m6\u001b[39m)\n",
      "Cell \u001b[1;32mIn[15], line 137\u001b[0m, in \u001b[0;36mS_L_L.srh\u001b[1;34m(self, value)\u001b[0m\n\u001b[0;32m    135\u001b[0m \u001b[38;5;28;01mif\u001b[39;00m temp \u001b[38;5;241m==\u001b[39m \u001b[38;5;28;01mNone\u001b[39;00m:\n\u001b[0;32m    136\u001b[0m     \u001b[38;5;28;01mreturn\u001b[39;00m \u001b[38;5;124m\"\u001b[39m\u001b[38;5;124mEmpty List\u001b[39m\u001b[38;5;124m\"\u001b[39m\n\u001b[1;32m--> 137\u001b[0m \u001b[38;5;28;01mwhile\u001b[39;00m (temp \u001b[38;5;241m!=\u001b[39m \u001b[38;5;28;01mNone\u001b[39;00m) \u001b[38;5;129;01mor\u001b[39;00m (temp\u001b[38;5;241m.\u001b[39mnext \u001b[38;5;241m!=\u001b[39m \u001b[38;5;28;01mNone\u001b[39;00m) \u001b[38;5;129;01mor\u001b[39;00m(temp\u001b[38;5;241m.\u001b[39mdata \u001b[38;5;241m!=\u001b[39m value):\n\u001b[0;32m    138\u001b[0m     temp \u001b[38;5;241m=\u001b[39m temp\u001b[38;5;241m.\u001b[39mnext\n\u001b[0;32m    139\u001b[0m \u001b[38;5;28;01mif\u001b[39;00m temp \u001b[38;5;241m==\u001b[39m \u001b[38;5;28;01mNone\u001b[39;00m:\n",
      "\u001b[1;31mAttributeError\u001b[0m: 'NoneType' object has no attribute 'next'"
     ]
    }
   ],
   "source": [
    "L.srh(6)"
   ]
  },
  {
   "cell_type": "code",
   "execution_count": null,
   "metadata": {
    "id": "0mnw8DotSpJb"
   },
   "outputs": [],
   "source": []
  }
 ],
 "metadata": {
  "colab": {
   "provenance": []
  },
  "kernelspec": {
   "display_name": "Python 3 (ipykernel)",
   "language": "python",
   "name": "python3"
  },
  "language_info": {
   "codemirror_mode": {
    "name": "ipython",
    "version": 3
   },
   "file_extension": ".py",
   "mimetype": "text/x-python",
   "name": "python",
   "nbconvert_exporter": "python",
   "pygments_lexer": "ipython3",
   "version": "3.11.4"
  }
 },
 "nbformat": 4,
 "nbformat_minor": 1
}
