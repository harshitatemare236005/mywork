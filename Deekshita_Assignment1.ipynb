{
 "cells": [
  {
   "cell_type": "markdown",
   "id": "1b9fa872-1e0d-432e-bb24-30a95fc7b971",
   "metadata": {},
   "source": [
    "Q1: With a given integral number n, write a program to generate a dictionary that contains (i, i*i)\n",
    "such that is an integral number between 1 and n (both included). and then the program should print\n",
    "the dictionary.\n",
    "Suppose the following input is supplied to the program: 8\n",
    "Then, the output should be:\n",
    "{1: 1, 2: 4, 3: 9, 4: 16, 5: 25, 6: 36, 7: 49, 8: 64}"
   ]
  },
  {
   "cell_type": "code",
   "execution_count": 4,
   "id": "069238c7-a6fb-43f9-ba7a-b2aee4f29f90",
   "metadata": {},
   "outputs": [
    {
     "name": "stdin",
     "output_type": "stream",
     "text": [
      "Enter an integeral number:  9\n"
     ]
    },
    {
     "name": "stdout",
     "output_type": "stream",
     "text": [
      "The dictionary of squares of numbers in the range entered:  {1: 1, 2: 4, 3: 9, 4: 16, 5: 25, 6: 36, 7: 49, 8: 64, 9: 81}\n"
     ]
    }
   ],
   "source": [
    "n=int(input(\"Enter an integeral number: \"))\n",
    "squaresOfNumbers={}\n",
    "for i in range(1,n+1):\n",
    "    squaresOfNumbers[i]=i*i\n",
    "\n",
    "print(\"The dictionary of squares of numbers in the range entered: \",squaresOfNumbers)\n"
   ]
  },
  {
   "cell_type": "markdown",
   "id": "248a301a-5f76-47ba-908e-6e9d25fa9c7a",
   "metadata": {},
   "source": [
    "Q2: Write a program that accepts a sequence of comma-separated numbers from the console and\n",
    "generates a list and a tuple that contains every number.\n",
    "Suppose the following input is supplied to the program:\n",
    "34,67,55,33,12,98\n",
    "Then, the output should be:\n",
    "['34', '67', '55', '33', '12', '98']\n",
    "('34', '67', '55', '33', '12', '98')"
   ]
  },
  {
   "cell_type": "code",
   "execution_count": 10,
   "id": "2d8ff0c3-f361-4974-b540-9de542e7c8c6",
   "metadata": {},
   "outputs": [
    {
     "name": "stdin",
     "output_type": "stream",
     "text": [
      "Enter a sequence of comma separated numbers:  34,67,55,33,12,98\n"
     ]
    },
    {
     "name": "stdout",
     "output_type": "stream",
     "text": [
      "List of numbers:  ['34', '67', '55', '33', '12', '98']\n",
      "Tuple:  ('34', '67', '55', '33', '12', '98')\n"
     ]
    }
   ],
   "source": [
    "n=input(\"Enter a sequence of comma separated numbers: \")\n",
    "listOfNum=(n.split(\",\"))\n",
    "tupleOfNum=tuple(listOfNum)\n",
    "print(\"List of numbers: \",listOfNum)\n",
    "print(\"Tuple: \",tupleOfNum)\n"
   ]
  },
  {
   "cell_type": "markdown",
   "id": "ea0a686c-e819-40db-855f-e26b7fd47f2e",
   "metadata": {},
   "source": [
    "Q3: Write a program that takes 2 digits, X,Y as input, and generates a 2-dimensional array realized\n",
    "using lists. The element value in the i-th row and j-th column of the array should be i*j.\n",
    "Note: i=0,1.., X-1; j=0,1,¡-Y-1.\n",
    "Example\n",
    "Suppose the following inputs are given to the program:\n",
    "3,5\n",
    "Then, the output of the program should be:\n",
    "[[0, 0, 0, 0, 0], [0, 1, 2, 3, 4], [0, 2, 4, 6, 8]]"
   ]
  },
  {
   "cell_type": "code",
   "execution_count": 1,
   "id": "c971aea6-a0fe-4973-afa2-571870b714bc",
   "metadata": {},
   "outputs": [
    {
     "name": "stdin",
     "output_type": "stream",
     "text": [
      "Enter the number of rows:  3\n",
      "Enter the number of columns:  5\n"
     ]
    },
    {
     "name": "stdout",
     "output_type": "stream",
     "text": [
      "[[0, 0, 0, 0, 0], [0, 1, 2, 3, 4], [0, 2, 4, 6, 8]]\n"
     ]
    }
   ],
   "source": [
    "r=int(input(\"Enter the number of rows: \"))\n",
    "c=int(input(\"Enter the number of columns: \"))\n",
    "\n",
    "# creating a list with all 0's. This will be used to generate the rows with desired property\n",
    "inner_array=[0]*c \n",
    "# creating 2-D array with all 0's\n",
    "array_2D=[[0]*c]*r\n",
    "\n",
    "for i in range(r):\n",
    "    for j in range(c):\n",
    "        #generating each row\n",
    "        inner_array[j]=(i*j)\n",
    "    # replacing the existing row (with all 0's) with the generated rows\n",
    "    array_2D[i]=inner_array\n",
    "    #replacing all the values with 0 again so that this list can be used for the next iteration\n",
    "    inner_array=[0]*c\n",
    "print(array_2D)\n",
    "        "
   ]
  },
  {
   "cell_type": "markdown",
   "id": "e56e228b-628f-4562-9376-2bb30f2e85dc",
   "metadata": {},
   "source": [
    "Q4:Write a program that accepts a sequence of lines as input and prints the frequency of alphabets."
   ]
  },
  {
   "cell_type": "code",
   "execution_count": 1,
   "id": "7dda1f48-7bd7-4375-b487-b3c3a28a46a5",
   "metadata": {
    "scrolled": true
   },
   "outputs": [
    {
     "name": "stdout",
     "output_type": "stream",
     "text": [
      "Enter a sentence: Harshita temare\n",
      "Frequency of the alphabets in the sentence is:  {'h': 2, 'a': 3, 'r': 2, 's': 1, 'i': 1, 't': 2, 'e': 2, 'm': 1}\n"
     ]
    }
   ],
   "source": [
    "str=input(\"Enter a sentence: \")\n",
    "count={}\n",
    "\n",
    "# loop through the entire string, if alphabet is encountered for the first time, add it to the dictionary and set its value to 1, \n",
    "#else increase its count by 1\n",
    "for i in str:\n",
    "    i=i.lower()\n",
    "    if i not in \"abcdefghijklmnopqrstuvwxyz\":\n",
    "        continue\n",
    "    else:\n",
    "        if i in count:\n",
    "            count[i]+=1\n",
    "        else:\n",
    "            count[i]=1\n",
    "print(\"Frequency of the alphabets in the sentence is: \",count)\n",
    "\n"
   ]
  },
  {
   "cell_type": "markdown",
   "id": "9a7ac3dc-380a-454a-a158-f88b0f1e045a",
   "metadata": {},
   "source": [
    "Q5: Define a function that can accept two strings as input and print the string with maximum length\n",
    "in the console. If two strings have the same length, then the function should print all strings line by\n",
    "line."
   ]
  },
  {
   "cell_type": "code",
   "execution_count": 3,
   "id": "30072250-9c0f-4e82-b227-a4e86aed1303",
   "metadata": {},
   "outputs": [
    {
     "name": "stdout",
     "output_type": "stream",
     "text": [
      "Enter the first string: Harshita\n",
      "Enter the second string: temare\n",
      "Harshita  is the string of maximum length\n"
     ]
    }
   ],
   "source": [
    "def maxLength(a,b):\n",
    "    if len(a)>len(b):\n",
    "        print(a,\" is the string of maximum length\")\n",
    "    elif len(b)>len(a):\n",
    "        print(b,\" is the string of maximum length\")\n",
    "    else:\n",
    "        print(\"Both strings are of same length\")\n",
    "        print(a)\n",
    "        print(b)\n",
    "\n",
    "# main \n",
    "str1=input(\"Enter the first string: \")\n",
    "str2=input(\"Enter the second string: \")\n",
    "maxLength(str1,str2)\n",
    "        "
   ]
  },
  {
   "cell_type": "code",
   "execution_count": null,
   "id": "56376ce2-1fd5-4193-a9bd-3e10726693a4",
   "metadata": {},
   "outputs": [],
   "source": []
  }
 ],
 "metadata": {
  "kernelspec": {
   "display_name": "Python 3 (ipykernel)",
   "language": "python",
   "name": "python3"
  },
  "language_info": {
   "codemirror_mode": {
    "name": "ipython",
    "version": 3
   },
   "file_extension": ".py",
   "mimetype": "text/x-python",
   "name": "python",
   "nbconvert_exporter": "python",
   "pygments_lexer": "ipython3",
   "version": "3.11.4"
  }
 },
 "nbformat": 4,
 "nbformat_minor": 5
}
