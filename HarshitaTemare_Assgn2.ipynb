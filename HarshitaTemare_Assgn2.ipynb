{
 "cells": [
  {
   "cell_type": "markdown",
   "id": "6d3cbc33",
   "metadata": {},
   "source": [
    "# Que 1.In python is there any difference between the following:\n",
    "a=123456789 and b= 1.23456789*10**8 explain with justification.\n",
    "What will be the output if both variables a and b are printed?"
   ]
  },
  {
   "cell_type": "code",
   "execution_count": 1,
   "id": "c10c89ef",
   "metadata": {},
   "outputs": [
    {
     "name": "stdout",
     "output_type": "stream",
     "text": [
      "a =  123456789\n",
      "b =  123456788.99999999\n",
      "type of a =  <class 'int'>\n",
      "type of b =  <class 'float'>\n"
     ]
    }
   ],
   "source": [
    "a= 123456789\n",
    "b= 1.23456789*10**8\n",
    "print(\"a = \",a)\n",
    "print(\"b = \",b)\n",
    "print(\"type of a = \" ,type(a))\n",
    "print(\"type of b = \" ,type(b))"
   ]
  },
  {
   "cell_type": "markdown",
   "id": "ac68bf17",
   "metadata": {},
   "source": [
    "Reason: python takes a as integer but b as float"
   ]
  },
  {
   "cell_type": "markdown",
   "id": "bd75b27e",
   "metadata": {},
   "source": [
    "# Que 2. ECG Sequence ?"
   ]
  },
  {
   "cell_type": "code",
   "execution_count": null,
   "id": "79559fde",
   "metadata": {},
   "outputs": [],
   "source": [
    "import math\n",
    "\n",
    "def ecg_seq(n):\n",
    "    seq = [1,2]\n",
    "    i=2\n",
    "    count = 0\n",
    "    while n not in seq:\n",
    "        for k in range(seq[len(seq)-1]):\n",
    "            if k not in seq :\n",
    "                i = k\n",
    "                break\n",
    "            else:\n",
    "                i+=1   \n",
    "        j= seq[len(seq)-1]\n",
    "        if (math.gcd(i,j)>1 and i not in seq):\n",
    "            seq.append(i)\n",
    "            \n",
    "            \n",
    "    print(seq)           \n",
    "    return seq.index(n)\n",
    "                \n",
    "print(ecg_seq(4))"
   ]
  },
  {
   "cell_type": "code",
   "execution_count": null,
   "id": "50d9fc4f",
   "metadata": {},
   "outputs": [],
   "source": []
  },
  {
   "cell_type": "markdown",
   "id": "236f4881",
   "metadata": {},
   "source": [
    "# Que 3. What is the output of the following code? "
   ]
  },
  {
   "cell_type": "code",
   "execution_count": null,
   "id": "6534d086",
   "metadata": {},
   "outputs": [],
   "source": [
    "def mystery(m):\n",
    "    if m==[]:\n",
    "        return(m)\n",
    "    else:\n",
    "        return(mystery(m[1:]) + m[:1])\n",
    "\n",
    "    \n",
    "mystery ([22,14,19,65,82,55])\n"
   ]
  },
  {
   "cell_type": "markdown",
   "id": "e0ba76f4",
   "metadata": {},
   "source": [
    "Reason : In recursive function 'mystery' first element is deleted in every call and when they return it ,they adds it in end"
   ]
  },
  {
   "cell_type": "markdown",
   "id": "a79d57bd",
   "metadata": {},
   "source": [
    "# Q4 Write a function in python to print Fibonacci series"
   ]
  },
  {
   "cell_type": "code",
   "execution_count": null,
   "id": "a7509a4b",
   "metadata": {},
   "outputs": [],
   "source": [
    " def fibb(a,b,n):\n",
    "    if n==0:\n",
    "        return\n",
    "    print(a)\n",
    "    s=a+b\n",
    "    fibb(b,s,n-1)\n",
    "    \n",
    "a=int(input(\"Enter the no. of fibbonacci nos. to be print : \"))\n",
    "fibb(0,1,a)"
   ]
  }
 ],
 "metadata": {
  "kernelspec": {
   "display_name": "Python 3 (ipykernel)",
   "language": "python",
   "name": "python3"
  },
  "language_info": {
   "codemirror_mode": {
    "name": "ipython",
    "version": 3
   },
   "file_extension": ".py",
   "mimetype": "text/x-python",
   "name": "python",
   "nbconvert_exporter": "python",
   "pygments_lexer": "ipython3",
   "version": "3.11.4"
  }
 },
 "nbformat": 4,
 "nbformat_minor": 5
}
