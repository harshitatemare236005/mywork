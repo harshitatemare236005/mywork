{
 "cells": [
  {
   "cell_type": "markdown",
   "metadata": {
    "id": "Cb2qJWqiJT3G"
   },
   "source": [
    "Que 1 )Write a Python program that use both recursive and non-recursive functions for implementing the following\n",
    "searching methods:\n",
    "(a) Linear search (b) Binary search"
   ]
  },
  {
   "cell_type": "markdown",
   "metadata": {
    "id": "Hek8g0WhKsWQ"
   },
   "source": [
    "a) i)Linear Search(Non-Recursive--Iteratively)"
   ]
  },
  {
   "cell_type": "code",
   "execution_count": 1,
   "metadata": {
    "id": "ThtQt-b9IxAh"
   },
   "outputs": [],
   "source": [
    "def l_search(l,t):\n",
    "    for i in l:\n",
    "        if i == t:\n",
    "            return i\n",
    "    return -1"
   ]
  },
  {
   "cell_type": "code",
   "execution_count": 2,
   "metadata": {
    "colab": {
     "base_uri": "https://localhost:8080/"
    },
    "id": "BJ_ePLgLYm1l",
    "outputId": "fcbaf1f2-748a-412c-ff6a-db068a5becc1"
   },
   "outputs": [
    {
     "data": {
      "text/plain": [
       "-1"
      ]
     },
     "execution_count": 2,
     "metadata": {},
     "output_type": "execute_result"
    }
   ],
   "source": [
    "l_search([10, 20, 30, 40, 50] ,60)"
   ]
  },
  {
   "cell_type": "markdown",
   "metadata": {
    "id": "AtjPmS94POi_"
   },
   "source": [
    "ii) Linear Search (Recursively)"
   ]
  },
  {
   "cell_type": "code",
   "execution_count": 3,
   "metadata": {
    "id": "FRq7UYX-PNN3"
   },
   "outputs": [],
   "source": [
    "def lr_search(l,t,i=0):\n",
    "    if len(l) == 0:\n",
    "        return -1\n",
    "    if l[0]==t:\n",
    "        return i\n",
    "    return lr_search(l[1:],t,i+1)"
   ]
  },
  {
   "cell_type": "code",
   "execution_count": 4,
   "metadata": {
    "colab": {
     "base_uri": "https://localhost:8080/"
    },
    "id": "1OFg8l7ZPCvb",
    "outputId": "ed097cd5-1c94-4b86-c74e-389a393f3f41"
   },
   "outputs": [
    {
     "data": {
      "text/plain": [
       "2"
      ]
     },
     "execution_count": 4,
     "metadata": {},
     "output_type": "execute_result"
    }
   ],
   "source": [
    "lr_search([1,2,3,4,5],3)"
   ]
  },
  {
   "cell_type": "code",
   "execution_count": 5,
   "metadata": {
    "colab": {
     "base_uri": "https://localhost:8080/"
    },
    "id": "9GDgJUbsP88a",
    "outputId": "12665379-770e-4a77-e9ac-d2ad878ab047"
   },
   "outputs": [
    {
     "data": {
      "text/plain": [
       "-1"
      ]
     },
     "execution_count": 5,
     "metadata": {},
     "output_type": "execute_result"
    }
   ],
   "source": [
    "lr_search([1, 3, 5, 7, 9],4)"
   ]
  },
  {
   "cell_type": "markdown",
   "metadata": {
    "id": "2SrxVtYAQOZU"
   },
   "source": [
    "b) Binary Search (Non-Recursive--Iteratively)"
   ]
  },
  {
   "cell_type": "code",
   "execution_count": 6,
   "metadata": {
    "id": "qy3BVRakQYuK"
   },
   "outputs": [],
   "source": [
    "\n",
    "def b_search(l,t):\n",
    "    low = 0\n",
    "    high = len(l)-1\n",
    "\n",
    "    while low <= high:\n",
    "        mid = (high + low)//2\n",
    "        if l[mid] == t:\n",
    "            return mid\n",
    "        elif l[mid] > t:\n",
    "            high = mid -1\n",
    "        else :\n",
    "            low = mid+1\n",
    "    return -1"
   ]
  },
  {
   "cell_type": "code",
   "execution_count": 7,
   "metadata": {
    "colab": {
     "base_uri": "https://localhost:8080/"
    },
    "id": "qOUfdbYsaOyC",
    "outputId": "997d421e-f700-4a94-b009-393af3585842"
   },
   "outputs": [
    {
     "data": {
      "text/plain": [
       "4"
      ]
     },
     "execution_count": 7,
     "metadata": {},
     "output_type": "execute_result"
    }
   ],
   "source": [
    "b_search([5, 10, 15, 20, 25, 30, 35, 40] ,25)"
   ]
  },
  {
   "cell_type": "markdown",
   "metadata": {
    "id": "3ffZymnlSQ_-"
   },
   "source": [
    "ii) Binary Search (Recursively)"
   ]
  },
  {
   "cell_type": "code",
   "execution_count": 8,
   "metadata": {
    "id": "WrCAZEXcSKMg"
   },
   "outputs": [],
   "source": [
    "def br_search(l1, low ,high,t):\n",
    "    if low >=high:\n",
    "        if l1[low]==t:\n",
    "            return low\n",
    "        return -1\n",
    "    mid = (low + high)//2\n",
    "    if l1[mid] == t:\n",
    "        return mid\n",
    "    elif l1[mid] > t:\n",
    "        return br_search(l1 ,low,mid-1,t)\n",
    "    else :\n",
    "        return br_search(l1 ,mid+1,high,t)\n"
   ]
  },
  {
   "cell_type": "code",
   "execution_count": 9,
   "metadata": {
    "colab": {
     "base_uri": "https://localhost:8080/"
    },
    "id": "RKFGPRCHZltQ",
    "outputId": "2c3eb6fe-a4eb-4c79-a767-9182be1fabd8"
   },
   "outputs": [
    {
     "data": {
      "text/plain": [
       "3"
      ]
     },
     "execution_count": 9,
     "metadata": {},
     "output_type": "execute_result"
    }
   ],
   "source": [
    "br_search([2, 4, 6, 8, 10, 12, 14, 16],0,4,8)"
   ]
  },
  {
   "cell_type": "markdown",
   "metadata": {
    "id": "QagEkpgZJXxW"
   },
   "source": [
    "Que 2 )Write a Python program to implement the following using arrays (lists) and linked lists\n",
    "(a) List ADT (b) Stack ADT (c) Queue ADT"
   ]
  },
  {
   "cell_type": "markdown",
   "metadata": {
    "id": "B6BuCvDTefzl"
   },
   "source": [
    "a) List (Using list data type)"
   ]
  },
  {
   "cell_type": "code",
   "execution_count": 10,
   "metadata": {
    "id": "VlxaZJpGJbds"
   },
   "outputs": [],
   "source": [
    "a = [1,2,3,4]"
   ]
  },
  {
   "cell_type": "markdown",
   "metadata": {
    "id": "fPB-bDbYexxT"
   },
   "source": [
    "List(Using linked list)"
   ]
  },
  {
   "cell_type": "code",
   "execution_count": 12,
   "metadata": {
    "id": "bHs2Ji2Jequr"
   },
   "outputs": [],
   "source": [
    "class Node:\n",
    "    def __init__(self,value):\n",
    "        self.data = value\n",
    "        self.next = None\n",
    "\n",
    "class List:\n",
    "    def __init__(self):\n",
    "        self.head = None\n",
    "        self.n = 0\n",
    "\n",
    "\n",
    "\n",
    "  # Length of list\n",
    "    def __len__(self):\n",
    "        return self.n\n",
    "\n",
    "  # Insert from end(tail)\n",
    "    def append(self,value):\n",
    "        temp = self.head\n",
    "        n_node = Node(value)\n",
    "        if temp == None:\n",
    "            self.head = n_node\n",
    "            self.n +=1          \n",
    "            return self.head.data\n",
    "        while temp.next != None :\n",
    "            temp = temp.next\n",
    "        temp.next = n_node\n",
    "        self.n += 1\n",
    "        return temp.next.data\n",
    "\n",
    "  # check if Empty\n",
    "    def isEmpty(self):\n",
    "        if self.head == None :\n",
    "            return \"Empty List\"\n",
    "        return False\n",
    "\n",
    "      # Insert from head\n",
    "    def push(self,value):\n",
    "        n_node = Node(value)\n",
    "        n_node.next = self.head\n",
    "        self.head = n_node\n",
    "        self.n +=1\n",
    "        return self.head.data\n",
    "\n",
    "      # Print the list\n",
    "    def traverse(self):\n",
    "        if self.head == None:\n",
    "            return 'Empty list'\n",
    "        temp = self.head\n",
    "        str1 = ''\n",
    "        while temp != None:\n",
    "            str1 = str1 + str(temp.data) + '->'\n",
    "            temp = temp.next\n",
    "        return str1[:-2]\n",
    "\n",
    "      #Delete item i\n",
    "    def remove(self,i):\n",
    "        if self.head == None:\n",
    "            return 'Empty list'\n",
    "        temp = self.head\n",
    "        while temp.next != None :\n",
    "            if temp.next.data == i :\n",
    "                temp.next = temp.next.next\n",
    "                self.n -= 1\n",
    "                return\n",
    "            temp = temp.next\n",
    "        return \"Not Found\"\n",
    "\n",
    "\n",
    "      # Delete element from end\n",
    "    def del_t(self):\n",
    "        temp = self.head\n",
    "        if self.head == None:\n",
    "            return 'Empty list'\n",
    "        while temp.next.next != None:\n",
    "            temp = temp.next\n",
    "        a = temp.data\n",
    "        temp.next = None\n",
    "        self.n -= 1\n",
    "        return a\n",
    "\n",
    "      # Delete element from head\n",
    "    def del_h(self):\n",
    "        if self.head == None:\n",
    "            return 'Empty list'\n",
    "        a = self.head.data\n",
    "        self.head = self.head.next\n",
    "        self.n -= 1\n",
    "        return a\n"
   ]
  },
  {
   "cell_type": "markdown",
   "metadata": {
    "id": "G9-a1qsCaWzE"
   },
   "source": [
    "Append 1, then 2, then 3\n",
    "Insert 1 and 4\n",
    "Remove 2\n",
    "Print size\n",
    "Check if list is empty"
   ]
  },
  {
   "cell_type": "code",
   "execution_count": 13,
   "metadata": {
    "colab": {
     "base_uri": "https://localhost:8080/"
    },
    "id": "E7PptCadaWGw",
    "outputId": "478801c6-cf17-4ed3-d288-205ae73075ef"
   },
   "outputs": [
    {
     "name": "stdout",
     "output_type": "stream",
     "text": [
      "1\n",
      "2\n",
      "3\n",
      "1\n",
      "4\n",
      "4\n",
      "False\n"
     ]
    }
   ],
   "source": [
    "a = List()\n",
    "print(a.append(1))\n",
    "print(a.append(2))\n",
    "print(a.append(3))\n",
    "print(a.push(1))\n",
    "print(a.push(4))\n",
    "a.remove(2)\n",
    "print(len(a))\n",
    "print(a.isEmpty())"
   ]
  },
  {
   "cell_type": "markdown",
   "metadata": {
    "id": "8BudedIQkcoX"
   },
   "source": [
    "b) Stack (Using List)"
   ]
  },
  {
   "cell_type": "code",
   "execution_count": 14,
   "metadata": {
    "id": "34DlQlpDkkhm"
   },
   "outputs": [],
   "source": [
    "class stack:\n",
    "    def __init__(self):\n",
    "        self.l = []\n",
    "\n",
    "    def isEmpty(self):\n",
    "        if self.l == []:\n",
    "            return True\n",
    "        return False\n",
    "\n",
    "  # Insert from top\n",
    "    def push(self,value):\n",
    "        self.l.append(value)\n",
    "        print(self.l)\n",
    "\n",
    "      # Get top element\n",
    "    def peek(self):\n",
    "        return self.l[-1]\n",
    "\n",
    "      # Delete from top\n",
    "    def pop(self):\n",
    "        if self.l == []:\n",
    "            return 'Empty List'\n",
    "        a = self.l[-1]\n",
    "        self.l = self.l[:-1]\n",
    "        return a\n",
    "\n",
    "      # Height of Stack\n",
    "    def __len__(self):\n",
    "        return len(self.l)"
   ]
  },
  {
   "cell_type": "markdown",
   "metadata": {
    "id": "Ppy3iKxpfJEw"
   },
   "source": [
    "Push 1, then 2, then 3,\n",
    "Perform Peek operation,\n",
    "Perform Pop operation,\n",
    "Print size of the stack,\n",
    "Check if stack is empty"
   ]
  },
  {
   "cell_type": "code",
   "execution_count": 15,
   "metadata": {
    "colab": {
     "base_uri": "https://localhost:8080/"
    },
    "id": "Mk3BmhS5fIo8",
    "outputId": "b4f47486-9717-47b6-e0d7-30a9902be2fc"
   },
   "outputs": [
    {
     "name": "stdout",
     "output_type": "stream",
     "text": [
      "[1]\n",
      "[1, 2]\n",
      "[1, 2, 3]\n",
      "3\n",
      "3\n",
      "2\n",
      "False\n"
     ]
    }
   ],
   "source": [
    "s = stack()\n",
    "s.push(1)\n",
    "s.push(2)\n",
    "s.push(3)\n",
    "print(s.peek())\n",
    "print(s.pop())\n",
    "print(len(s))\n",
    "print(s.isEmpty())\n"
   ]
  },
  {
   "cell_type": "markdown",
   "metadata": {
    "id": "z4wvKZ-jmco8"
   },
   "source": [
    "Stack (Using Linked List)"
   ]
  },
  {
   "cell_type": "code",
   "execution_count": 16,
   "metadata": {
    "id": "KHEup3WHkkTd"
   },
   "outputs": [],
   "source": [
    "class Stack:\n",
    "    def __init__(self):\n",
    "        self.top = None\n",
    "        self.n = 0\n",
    "\n",
    "      # check empty stack\n",
    "    def isEmpty(self):\n",
    "        if self.top == None:\n",
    "            return True\n",
    "        return False\n",
    "\n",
    "      # height of stack\n",
    "    def __len__(self):\n",
    "        return self.n\n",
    "\n",
    "      # See top element\n",
    "    def peek(self):\n",
    "        if self.top == None:\n",
    "            return 'Empty Stack'\n",
    "        return self.top.data\n",
    "\n",
    "      # Insert from top\n",
    "    def push(self,value):\n",
    "        n_node = Node(value)\n",
    "        n_node.next = self.top\n",
    "        self.top = n_node\n",
    "        self.n +=1\n",
    "        return\n",
    "\n",
    "      # Delete from top\n",
    "    def pop(self):\n",
    "        if self.top == None:\n",
    "            return 'Empty stack'\n",
    "        a = self.top.data\n",
    "        self.top = self.top.next\n",
    "        self.n -= 1\n",
    "        return a\n",
    "\n",
    "      # Print the Stack\n",
    "    def traverse(self):\n",
    "        if self.top == None:\n",
    "            return 'Empty stack'\n",
    "        temp = self.top\n",
    "        str1 = ''\n",
    "        while temp != None:\n",
    "            str1 = str1 + str(temp.data) + '->'\n",
    "            temp = temp.next\n",
    "        return str1[:-2]\n"
   ]
  },
  {
   "cell_type": "markdown",
   "metadata": {
    "id": "d3ZWnFbxwZ4c"
   },
   "source": [
    "Push 1, then 2, then 3, Perform Peek operation, Perform Pop operation, Print size of the stack, Check if stack is empty"
   ]
  },
  {
   "cell_type": "code",
   "execution_count": 17,
   "metadata": {
    "colab": {
     "base_uri": "https://localhost:8080/"
    },
    "id": "_WpFtAiowZbq",
    "outputId": "c2600be5-b7ef-4489-a058-028bd8ce41b6"
   },
   "outputs": [
    {
     "name": "stdout",
     "output_type": "stream",
     "text": [
      "3\n",
      "3\n",
      "2\n",
      "False\n"
     ]
    }
   ],
   "source": [
    "s = Stack()\n",
    "s.push(1)\n",
    "s.push(2)\n",
    "s.push(3)\n",
    "print(s.peek())\n",
    "print(s.pop())\n",
    "print(len(s))\n",
    "print(s.isEmpty())"
   ]
  },
  {
   "cell_type": "markdown",
   "metadata": {
    "id": "fMwe0vczo_e_"
   },
   "source": [
    "c) Queue (Using List)"
   ]
  },
  {
   "cell_type": "code",
   "execution_count": 18,
   "metadata": {
    "id": "nQr5rvvJmP22"
   },
   "outputs": [],
   "source": [
    "class queue:\n",
    "    def __init__(self):\n",
    "        self.q = []\n",
    "\n",
    "    def isEmpty(self):\n",
    "        if self.q == []:\n",
    "            return True\n",
    "        return False\n",
    "\n",
    "    def peek(self):\n",
    "        if self.isEmpty():\n",
    "            return \"Empty Queue\"\n",
    "        return self.q[0]\n",
    "\n",
    "    def __len__(self):\n",
    "        return len(self.q)\n",
    "\n",
    "      # Insert (from rear)\n",
    "    def enqueue(self,value):\n",
    "        self.q.append(value)\n",
    "        print(self.q)\n",
    "\n",
    "      # Delete (from front)\n",
    "    def dequeue(self):\n",
    "        if self.q == []:\n",
    "            return 'Empty queue'\n",
    "        self.q = self.q[1:]\n",
    "        print(self.q)\n",
    "\n",
    "      # Print the queue\n",
    "    def print(self):\n",
    "        print(self.q)"
   ]
  },
  {
   "cell_type": "markdown",
   "metadata": {
    "id": "LA9XdBF6xpr3"
   },
   "source": [
    "Enqueue 1, then 2, then 3,\n",
    "Perform Peek operation,\n",
    "Perform dequeu operation,\n",
    "Print size of the queue,\n",
    "Check if queue is empty"
   ]
  },
  {
   "cell_type": "code",
   "execution_count": 19,
   "metadata": {
    "colab": {
     "base_uri": "https://localhost:8080/"
    },
    "id": "awaVvGFMxulE",
    "outputId": "2fd8c859-015b-4977-9e57-430f9a67c22f"
   },
   "outputs": [
    {
     "name": "stdout",
     "output_type": "stream",
     "text": [
      "[1]\n",
      "[1, 2]\n",
      "[1, 2, 3]\n",
      "1\n",
      "[2, 3]\n",
      "2\n",
      "False\n"
     ]
    }
   ],
   "source": [
    "q = queue()\n",
    "q.enqueue(1)\n",
    "q.enqueue(2)\n",
    "q.enqueue(3)\n",
    "print(q.peek())\n",
    "q.dequeue()\n",
    "print(len(q))\n",
    "print(q.isEmpty())"
   ]
  },
  {
   "cell_type": "markdown",
   "metadata": {
    "id": "SuyqdaJrtkCM"
   },
   "source": [
    "Queue ( Using Linked list)"
   ]
  },
  {
   "cell_type": "code",
   "execution_count": 20,
   "metadata": {
    "id": "TUrEYOWYtklz"
   },
   "outputs": [],
   "source": [
    "class Queue:\n",
    "    def __init__(self):\n",
    "        self.front = None\n",
    "        self.rear = None\n",
    "        self.n = 0\n",
    "\n",
    "    def __len__(self):\n",
    "        return self.n\n",
    "\n",
    "    def isEmpty(self):\n",
    "        if self.front == None :\n",
    "            return True\n",
    "        return False\n",
    "\n",
    "    def peek(self):\n",
    "        if self.isEmpty():\n",
    "            return \"Empty Queue\"\n",
    "        return self.front.data\n",
    "\n",
    "      # Insert from Rear :\n",
    "    def Enqueue(self,value):\n",
    "        n_node = Node(value)\n",
    "        if self.front == None:\n",
    "            self.front = n_node\n",
    "            self.rear = self.front\n",
    "        else :\n",
    "            self.rear.next = n_node\n",
    "            self.rear = n_node\n",
    "        self.n += 1\n",
    "        return self.rear.data\n",
    "\n",
    "      # Delete from Front\n",
    "    def Dequeue(self):\n",
    "        if self.front == None :\n",
    "            return \"Empty Queue\"\n",
    "        a = self.front.data\n",
    "        self.front = self.front.next\n",
    "        return a\n",
    "\n",
    "      # Print Queue\n",
    "    def traverse(self):\n",
    "        if self.front == None :\n",
    "            return \"Empty Queue\"\n",
    "        temp = self.front\n",
    "        while temp != None:\n",
    "            print (temp.data, end =\" \")\n",
    "            temp = temp.next\n",
    "        return"
   ]
  },
  {
   "cell_type": "markdown",
   "metadata": {
    "id": "f4uIYT1G0PqR"
   },
   "source": [
    "Enqueue 1, then 2, then 3, Perform Peek operation, Perform dequeu operation, Print size of the queue, Check if queue is empty"
   ]
  },
  {
   "cell_type": "code",
   "execution_count": 21,
   "metadata": {
    "colab": {
     "base_uri": "https://localhost:8080/"
    },
    "id": "GHAldp-z0Mdw",
    "outputId": "1459aeda-6dd6-4ee3-9ca5-3e94793a6cea"
   },
   "outputs": [
    {
     "name": "stdout",
     "output_type": "stream",
     "text": [
      "1\n",
      "2\n",
      "3\n",
      "1\n",
      "1\n",
      "3\n",
      "False\n"
     ]
    }
   ],
   "source": [
    "q = Queue()\n",
    "print(q.Enqueue(1))\n",
    "print(q.Enqueue(2))\n",
    "print(q.Enqueue(3))\n",
    "print(q.peek())\n",
    "print(q.Dequeue())\n",
    "print(len(q))\n",
    "print(q.isEmpty())"
   ]
  },
  {
   "cell_type": "markdown",
   "metadata": {
    "id": "HPojUobFJcYq"
   },
   "source": [
    "Que 3) Write a Python program that reads an infix expression and converts the expression to postfix form using stack\n",
    "ADT)."
   ]
  },
  {
   "cell_type": "code",
   "execution_count": 22,
   "metadata": {
    "id": "bZibFy0uJgFw"
   },
   "outputs": [],
   "source": [
    "def prec(c):\n",
    "    if c == '^':\n",
    "        return 3\n",
    "    elif c == '/' or c == '*':\n",
    "        return 2\n",
    "    elif c == '+' or c == '-':\n",
    "        return 1\n",
    "    else:\n",
    "        return -1\n",
    "\n",
    "def associativity(c):\n",
    "    if c == '^':\n",
    "        return 'R'\n",
    "    return 'L'  # Default to left-associative\n",
    "\n",
    "\n",
    "def infix_to_postfix(s):\n",
    "    result = []\n",
    "    stack = []\n",
    "\n",
    "    for i in range(len(s)):\n",
    "        c = s[i]\n",
    "\n",
    "        # If the scanned character is an operand, add it to the output string.\n",
    "        if ('a' <= c <= 'z') or ('A' <= c <= 'Z') or ('0' <= c <= '9'):\n",
    "            result.append(c)\n",
    "        # If the scanned character is an ‘(‘, push it to the stack.\n",
    "        elif c == '(':\n",
    "            stack.append(c)\n",
    "        # If the scanned character is an ‘)’, pop and add to the output string from the stack\n",
    "        # until an ‘(‘ is encountered.\n",
    "        elif c == ')':\n",
    "            while stack and stack[-1] != '(':\n",
    "                result.append(stack.pop())\n",
    "            stack.pop()  # Pop '('\n",
    "        # If an operator is scanned\n",
    "        else:\n",
    "            while stack and (prec(s[i]) < prec(stack[-1]) or \n",
    "                             (prec(s[i]) == prec(stack[-1]) and associativity(s[i]) == 'L')):\n",
    "                result.append(stack.pop())\n",
    "            stack.append(c)\n",
    "\n",
    "    # Pop all the remaining elements from the stack\n",
    "    while stack:\n",
    "        result.append(stack.pop())\n",
    "\n",
    "    return \"\".join(result)"
   ]
  },
  {
   "cell_type": "code",
   "execution_count": 23,
   "metadata": {
    "colab": {
     "base_uri": "https://localhost:8080/"
    },
    "id": "RlBL5aedp2dU",
    "outputId": "03d83b8d-2ea7-42f1-d8ef-c201209adb83"
   },
   "outputs": [
    {
     "name": "stdout",
     "output_type": "stream",
     "text": [
      "342*15-2^/+\n",
      "34+2*15-2^/\n",
      "534+*723+/-\n",
      "342*+51/-\n"
     ]
    }
   ],
   "source": [
    "print(infix_to_postfix(\"3+4*2/(1-5)^2\"))\n",
    "print(infix_to_postfix(\"(3+4)*2/(1-5)^2\"))\n",
    "print(infix_to_postfix(\"5*(3+4)-7/(2+3)\"))\n",
    "print(infix_to_postfix(\"3+4*2-5/1\"))"
   ]
  },
  {
   "cell_type": "markdown",
   "metadata": {
    "id": "8m0ew2mSJlee"
   },
   "source": [
    "Que 4)Write a Python program to implement circular queue ADT ."
   ]
  },
  {
   "cell_type": "code",
   "execution_count": 24,
   "metadata": {
    "id": "mGpMqv03JmAU"
   },
   "outputs": [],
   "source": [
    "class C_Queue:\n",
    "    def __init__(self,size):\n",
    "        self.size = size\n",
    "        self.queue = [None ] *size\n",
    "        self.front = -1\n",
    "        self.rear = -1\n",
    "\n",
    "      # GEt front Element\n",
    "    def peek(self):\n",
    "        return self.queue[self.front]\n",
    "\n",
    "      # Insert from rear\n",
    "    def enqueue(self, value):\n",
    "        if self.front == (self.rear+1)%self.size:\n",
    "            return \"Queue is Full\"\n",
    "        # If queue is empty\n",
    "        if self.front == -1 :\n",
    "            self.front +=1\n",
    "            self.rear +=1\n",
    "            self.queue[self.rear] = value\n",
    "        else:\n",
    "            self.rear = (self.rear+1)%self.size\n",
    "            self.queue[self.rear] = value\n",
    "        return self.queue[self.rear]\n",
    "\n",
    "      # Delete from front\n",
    "    def dequeue(self):\n",
    "        #if queue is Empty:\n",
    "        if self.front == -1:\n",
    "            return \"Empty queue\"\n",
    "        elif self.front == self.rear :\n",
    "            a = self.queue[self.front]\n",
    "            self.queue[self.front] = None\n",
    "            self.front = -1\n",
    "            self.rear = -1\n",
    "        else :\n",
    "            a = self.queue[self.front]\n",
    "            self.queue[self.front] = None\n",
    "            self.front = (self.front+1)%self.size\n",
    "        return a\n",
    "\n",
    "      # Display Queue\n",
    "    def display(self):\n",
    "        # if queue is empty\n",
    "        if self.front == -1:\n",
    "            return \"Empty Queue\"\n",
    "        elif self.rear >= self.front:\n",
    "            for i in range(self.front,self.rear+1):\n",
    "                print(self.queue[i])\n",
    "        else :\n",
    "            for i in range(self.front,self.size):\n",
    "                print(self.queue[i])\n",
    "            for i in range(0,self.rear+1):\n",
    "                print(self.queue[i])\n"
   ]
  },
  {
   "cell_type": "code",
   "execution_count": 25,
   "metadata": {
    "id": "ntgDP1IE43JL"
   },
   "outputs": [],
   "source": [
    "a = C_Queue(5)"
   ]
  },
  {
   "cell_type": "code",
   "execution_count": 26,
   "metadata": {
    "colab": {
     "base_uri": "https://localhost:8080/"
    },
    "id": "jdAkKEiB5Xxi",
    "outputId": "a5c54788-cfaf-4429-f1f2-d98b10320e26"
   },
   "outputs": [
    {
     "name": "stdout",
     "output_type": "stream",
     "text": [
      "1\n",
      "2\n",
      "1\n",
      "3\n",
      "2\n",
      "4\n"
     ]
    }
   ],
   "source": [
    "print(a.enqueue(1))\n",
    "print(a.enqueue(2))\n",
    "print(a.dequeue())\n",
    "print(a.enqueue(3))\n",
    "print(a.dequeue())\n",
    "print(a.enqueue(4))\n"
   ]
  },
  {
   "cell_type": "code",
   "execution_count": 27,
   "metadata": {
    "id": "OFyz3q-Y5XuI"
   },
   "outputs": [],
   "source": [
    "b = C_Queue(3)"
   ]
  },
  {
   "cell_type": "code",
   "execution_count": 28,
   "metadata": {
    "colab": {
     "base_uri": "https://localhost:8080/"
    },
    "id": "UewGuprN6OJ_",
    "outputId": "772c0560-3f65-4df9-830d-075116c7ae36"
   },
   "outputs": [
    {
     "name": "stdout",
     "output_type": "stream",
     "text": [
      "1\n",
      "2\n",
      "3\n",
      "1\n",
      "4\n"
     ]
    }
   ],
   "source": [
    "print(b.enqueue(1))\n",
    "print(b.enqueue(2))\n",
    "print(b.enqueue(3))\n",
    "print(b.dequeue())\n",
    "print(b.enqueue(4))"
   ]
  },
  {
   "cell_type": "code",
   "execution_count": 29,
   "metadata": {
    "id": "aw2XfWfP58pD"
   },
   "outputs": [],
   "source": [
    "c = C_Queue(2)"
   ]
  },
  {
   "cell_type": "code",
   "execution_count": 30,
   "metadata": {
    "colab": {
     "base_uri": "https://localhost:8080/"
    },
    "id": "KHH9GwdT6P3c",
    "outputId": "8fc4272c-ba38-47b8-ce2d-f8a8509db5d4"
   },
   "outputs": [
    {
     "name": "stdout",
     "output_type": "stream",
     "text": [
      "1\n",
      "2\n",
      "1\n",
      "2\n",
      "None\n"
     ]
    }
   ],
   "source": [
    "print(c.enqueue(1))\n",
    "print(c.enqueue(2))\n",
    "print(c.dequeue())\n",
    "print(c.dequeue())\n",
    "print(c.peek())"
   ]
  },
  {
   "cell_type": "markdown",
   "metadata": {
    "id": "xF1oHhqnJpVm"
   },
   "source": [
    "Que 5)Write a Python program that uses both a stack and a queue to test whether the given string is a palindrome or\n",
    "not."
   ]
  },
  {
   "cell_type": "markdown",
   "metadata": {
    "id": "bFyp5mxSj6ZJ"
   },
   "source": [
    "a) Palindrome Using stack"
   ]
  },
  {
   "cell_type": "code",
   "execution_count": 31,
   "metadata": {
    "id": "lx5jyLqfJqCH"
   },
   "outputs": [],
   "source": [
    "def palindrome_s(a):\n",
    "    stack = []\n",
    "\n",
    "    # Enqueue each character from the input string\n",
    "    for char in a:\n",
    "        if (\"a\" <= char <= \"z\") or (\"A\" <= char <= \"Z\") :\n",
    "            stack.append(char.lower())\n",
    "\n",
    "    # Dequeue characters from the queue and compare for palindrome check\n",
    "    while len(stack) > 1:\n",
    "        front = stack.pop(0)\n",
    "        back = stack.pop()  # Dequeue the next character from the back\n",
    "\n",
    "        if front != back:\n",
    "            return False\n",
    "\n",
    "    return True\n"
   ]
  },
  {
   "cell_type": "code",
   "execution_count": 32,
   "metadata": {
    "colab": {
     "base_uri": "https://localhost:8080/"
    },
    "id": "Dvihuto32ZIn",
    "outputId": "746ec29b-5501-4533-f244-d1a19bf3f793"
   },
   "outputs": [
    {
     "name": "stdout",
     "output_type": "stream",
     "text": [
      "False\n",
      "True\n",
      "True\n"
     ]
    }
   ],
   "source": [
    "print(palindrome_s(\"Race a car\"))\n",
    "print(palindrome_s(\"Madam in Eden, I'm Adam\"))\n",
    "print(palindrome_s(\"Was it a car or a cat I saw?\"))"
   ]
  },
  {
   "cell_type": "code",
   "execution_count": 33,
   "metadata": {
    "id": "TN3tVIyul1e3"
   },
   "outputs": [],
   "source": [
    "def palindrome_q(a):\n",
    "    queue = []\n",
    "\n",
    "    # Enqueue each character from the input string\n",
    "    for char in a:\n",
    "      if (\"a\" <= char <= \"z\") or (\"A\" <= char <= \"Z\") :\n",
    "        queue.append(char.lower())\n",
    "\n",
    "    # Dequeue characters from the queue and compare for palindrome check\n",
    "    while len(queue) > 1:\n",
    "        front = queue.pop(0)\n",
    "        back = queue.pop()  # Dequeue the next character from the back\n",
    "\n",
    "        if front != back:\n",
    "            return False\n",
    "\n",
    "    return True\n"
   ]
  },
  {
   "cell_type": "code",
   "execution_count": 34,
   "metadata": {
    "colab": {
     "base_uri": "https://localhost:8080/"
    },
    "id": "vw7h3JmC1uaE",
    "outputId": "192bad99-fbc0-4ed4-ab38-ad90736cfd30"
   },
   "outputs": [
    {
     "name": "stdout",
     "output_type": "stream",
     "text": [
      "False\n",
      "True\n",
      "True\n"
     ]
    }
   ],
   "source": [
    "print(palindrome_q(\"Race a car\"))\n",
    "print(palindrome_q(\"Madam in Eden, I'm Adam\"))\n",
    "print(palindrome_q(\"Was it a car or a cat I saw?\"))"
   ]
  },
  {
   "cell_type": "markdown",
   "metadata": {
    "id": "bD4xhxSWJu8_"
   },
   "source": [
    "Que 6) Write a Python program to implement the following using a singly linked list.\n",
    "(a)Stack ADT (b) Queue ADT"
   ]
  },
  {
   "cell_type": "code",
   "execution_count": null,
   "metadata": {
    "id": "uPoY17JhJvsP"
   },
   "outputs": [],
   "source": [
    "# Done in Ques 2"
   ]
  },
  {
   "cell_type": "markdown",
   "metadata": {
    "id": "p4iZkdQmJ1Lu"
   },
   "source": [
    "Que 7)Write a Python program to implement the deque (double ended queue) ADT using Doubly linked list"
   ]
  },
  {
   "cell_type": "code",
   "execution_count": null,
   "metadata": {
    "id": "GCnWfq6buHmx"
   },
   "outputs": [],
   "source": [
    "class Node :\n",
    "    def __init__(self,value):\n",
    "        self.prev = None\n",
    "        self.data = value\n",
    "        self.next = None"
   ]
  },
  {
   "cell_type": "code",
   "execution_count": 37,
   "metadata": {
    "id": "qbl2IC-EJ2SS"
   },
   "outputs": [],
   "source": [
    "class DE_Queue:\n",
    "    def __init__(self):\n",
    "        self.front = None\n",
    "        self.rear = None\n",
    "        self.n = 0\n",
    "\n",
    "  #Check is Empty\n",
    "    def isEmpty(self):\n",
    "        if self.front == None:\n",
    "            return True\n",
    "        return False\n",
    "\n",
    "  # size of Queue\n",
    "    def __len__(self):\n",
    "        return self.n\n",
    "\n",
    "      # check Front element\n",
    "    def peek_f(self):\n",
    "        if self.isEmpty():\n",
    "            return \"Empty Queue\"\n",
    "        return self.front.data\n",
    "\n",
    "      # check rear element\n",
    "    def peek_r(self):\n",
    "        if self.isEmpty():\n",
    "            return \"Empty Queue\"\n",
    "        return self.rear.data\n",
    "\n",
    "      # Enqueue from rear\n",
    "    def Enqueue_r(self,value):\n",
    "        n_node = Node(value)\n",
    "        # If empty\n",
    "        if self.front == None:\n",
    "            self.front = n_node\n",
    "            self.rear = self.front\n",
    "        else :\n",
    "            n_node.prev = self.rear\n",
    "            self.rear.next = n_node\n",
    "            self.rear = n_node\n",
    "        self.n +=1\n",
    "        return self.rear.data\n",
    "\n",
    "      # Enqueue from front\n",
    "    def Enqueue_f(self,value):\n",
    "        n_node = Node(value)\n",
    "        # If empty\n",
    "        if self.front == None:\n",
    "            self.front = n_node\n",
    "            self.rear = self.front\n",
    "        else:\n",
    "            n_node.next = self.front\n",
    "            self.front.prev = n_node\n",
    "            self.front = n_node\n",
    "        self.n +=1\n",
    "        return self.front.data\n",
    "\n",
    "      # Dequeue from front\n",
    "    def Dequeue_f(self):\n",
    "        # if Empty\n",
    "        if self.front == None:\n",
    "            return \"Empty Queue\"\n",
    "        self.front = self.front.next\n",
    "        self.front.prev = None\n",
    "        self.n -=1\n",
    "        return self.front.data\n",
    "\n",
    "      # Dequeue from rear\n",
    "    def Dequeue_r(self):\n",
    "        # if Empty\n",
    "        if self.front == None:\n",
    "            return \"Empty Queue\"\n",
    "        self.rear = self.rear.prev\n",
    "        self.rear.next = None\n",
    "        self.n -=1\n",
    "        return self.rear.data\n",
    "\n",
    "      # Display\n",
    "    def Display(self):\n",
    "        temp = self.front\n",
    "        while temp != None:\n",
    "            print(temp.data,end = \" \")\n",
    "            temp = temp.next\n",
    "\n"
   ]
  },
  {
   "cell_type": "markdown",
   "metadata": {
    "id": "8FfAHQWC7r0D"
   },
   "source": [
    "Enqueue 1, then 2 from the front,\n",
    "Enqueue 3 and 6 from the rear,\n",
    "Perform Peek operation on the front element,\n",
    "Perform peek operation on the rear element,\n",
    "Perform dequeue operation on the front,\n",
    "Perform dequeue operation on the rear,\n",
    "Print size of the queue,\n",
    "Check if queue is empty"
   ]
  },
  {
   "cell_type": "code",
   "execution_count": 38,
   "metadata": {
    "id": "krEhozLezqrl"
   },
   "outputs": [],
   "source": [
    "a = DE_Queue()"
   ]
  },
  {
   "cell_type": "code",
   "execution_count": 39,
   "metadata": {
    "colab": {
     "base_uri": "https://localhost:8080/"
    },
    "id": "jx1Bh80bzwH3",
    "outputId": "4470f9fe-5df2-4341-a38e-8af5e5086690"
   },
   "outputs": [
    {
     "name": "stdout",
     "output_type": "stream",
     "text": [
      "1\n",
      "2\n",
      "3\n",
      "6\n",
      "2\n",
      "6\n",
      "1\n",
      "3\n",
      "2\n",
      "False\n"
     ]
    }
   ],
   "source": [
    "print(a.Enqueue_f(1))\n",
    "print(a.Enqueue_f(2))\n",
    "print(a.Enqueue_r(3))\n",
    "print(a.Enqueue_r(6))\n",
    "print(a.peek_f())\n",
    "print(a.peek_r())\n",
    "print(a.Dequeue_f())\n",
    "print(a.Dequeue_r())\n",
    "print(len(a))\n",
    "print(a.isEmpty())"
   ]
  },
  {
   "cell_type": "code",
   "execution_count": 40,
   "metadata": {
    "colab": {
     "base_uri": "https://localhost:8080/"
    },
    "id": "gmgjf6mIzv6U",
    "outputId": "dcfba6ad-2d2d-4dd5-cd2c-fc06b30a9634"
   },
   "outputs": [
    {
     "name": "stdout",
     "output_type": "stream",
     "text": [
      "1 3 "
     ]
    }
   ],
   "source": [
    "a.Display()"
   ]
  },
  {
   "cell_type": "markdown",
   "metadata": {
    "id": "G0Gcdl7sJ25Y"
   },
   "source": [
    "Que 8) Write a Python program to implement priority queue ADT."
   ]
  },
  {
   "cell_type": "code",
   "execution_count": 44,
   "metadata": {
    "id": "ukpqoAdGJ81o"
   },
   "outputs": [],
   "source": [
    "class Node:\n",
    "    def __init__(self,data ,prior):\n",
    "        self.data = data\n",
    "        self.prior = prior\n",
    "        self.next = None\n",
    "\n",
    "class P_Queue:\n",
    "    def __init__(self):\n",
    "        self.front = None\n",
    "        self.rear = None\n",
    "        self.n = 0\n",
    "\n",
    "    def peek(self):\n",
    "        return self.front.data\n",
    "\n",
    "    def Enqueue(self,data ,prior):\n",
    "        n_node = Node(data,prior)\n",
    "        if self.front == None :\n",
    "            self.front = n_node\n",
    "            self.rear = self.front\n",
    "        elif self.front.prior >= n_node.prior:\n",
    "            n_node.next = self.front\n",
    "            self.front = n_node\n",
    "        else :\n",
    "            temp = self.front\n",
    "            while temp.next != None :\n",
    "                if (n_node.prior >= temp.prior) and (n_node.prior <= temp.next.prior) :\n",
    "                    break\n",
    "                temp = temp.next\n",
    "\n",
    "            n_node.next = temp.next\n",
    "            temp.next = n_node\n",
    "\n",
    "        self.n +=1\n",
    "        return self.Display()\n",
    "\n",
    "    def Dequeue(self,t):\n",
    "        if self.front == None:\n",
    "            return \"Empty Queue\"\n",
    "        temp = self.front\n",
    "        while temp :\n",
    "            if temp.next.data == t:\n",
    "                a = temp.next.data\n",
    "                temp.next = temp.next.next\n",
    "                break\n",
    "            temp = temp.next\n",
    "        self.n -=1\n",
    "        return a\n",
    "\n",
    "    def Display(self):\n",
    "        if self.front == None:\n",
    "            return \"Empty Queue\"\n",
    "        temp = self.front\n",
    "        while temp != None:\n",
    "            print(temp.data,\" \")\n",
    "            temp = temp.next\n",
    "\n"
   ]
  },
  {
   "cell_type": "code",
   "execution_count": 45,
   "metadata": {
    "id": "A9YGoqrGHmWu"
   },
   "outputs": [],
   "source": [
    "a = P_Queue()"
   ]
  },
  {
   "cell_type": "code",
   "execution_count": 46,
   "metadata": {
    "colab": {
     "base_uri": "https://localhost:8080/"
    },
    "id": "oVRRi2JQHvbY",
    "outputId": "dbf35798-759a-48bf-e638-a8a8d7092b58"
   },
   "outputs": [
    {
     "name": "stdout",
     "output_type": "stream",
     "text": [
      "1  \n",
      "1  \n",
      "2  \n",
      "1  \n",
      "2  \n",
      "3  \n",
      "1  \n",
      "2  \n",
      "3  \n",
      "6  \n",
      "1\n"
     ]
    },
    {
     "data": {
      "text/plain": [
       "3"
      ]
     },
     "execution_count": 46,
     "metadata": {},
     "output_type": "execute_result"
    }
   ],
   "source": [
    "a.Enqueue(1,1)\n",
    "a.Enqueue(2,2)\n",
    "a.Enqueue(3,3)\n",
    "a.Enqueue(6,4)\n",
    "print(a.peek())\n",
    "a.Dequeue(3)"
   ]
  },
  {
   "cell_type": "markdown",
   "metadata": {
    "id": "2SIFLPkzJ9ZR"
   },
   "source": [
    "Que 9) Write a Python program to perform the following operations:"
   ]
  },
  {
   "cell_type": "markdown",
   "metadata": {
    "id": "MrFj1aJdunWq"
   },
   "source": [
    "(a) Construct a binary search tree of elements.\n"
   ]
  },
  {
   "cell_type": "code",
   "execution_count": 47,
   "metadata": {
    "id": "N9MrT1SfzX2J"
   },
   "outputs": [],
   "source": [
    "class TreeNode:\n",
    "    def __init__(self, value):\n",
    "        self.value = value\n",
    "        self.left = None\n",
    "        self.right = None\n",
    "\n",
    "class BinarySearchTree:\n",
    "    def __init__(self):\n",
    "        self.root = None\n",
    "\n",
    "    def insert(self, value):\n",
    "        if self.root is None:\n",
    "            self.root = TreeNode(value)\n",
    "        else:\n",
    "            self._insert_recursive(self.root, value)\n",
    "\n",
    "    def _insert_recursive(self, node, value):\n",
    "        if value < node.value:\n",
    "            if node.left is None:\n",
    "                node.left = TreeNode(value)\n",
    "            else:\n",
    "                self._insert_recursive(node.left, value)\n",
    "        else:\n",
    "            if node.right is None:\n",
    "                node.right = TreeNode(value)\n",
    "            else:\n",
    "                self._insert_recursive(node.right, value)\n",
    "\n",
    "    def inorder_traversal(self, node):\n",
    "        if node:\n",
    "            self.inorder_traversal(node.left)\n",
    "            print(node.value, end=\" \")\n",
    "            self.inorder_traversal(node.right)\n",
    "\n",
    "    def preorder_traversal(self, node):\n",
    "        if node:\n",
    "            print(node.value, end=\" \")\n",
    "            self.preorder_traversal(node.left)\n",
    "            self.preorder_traversal(node.right)\n",
    "\n",
    "    def postorder_traversal(self, node):\n",
    "        if node:\n",
    "            self.postorder_traversal(node.left)\n",
    "            self.postorder_traversal(node.right)\n",
    "            print(node.value, end=\" \")\n",
    "\n",
    "    def search(self, value):\n",
    "        return self._search_recursive(self.root, value)\n",
    "\n",
    "    def _search_recursive(self, node, value):\n",
    "        if node is None or node.value == value:\n",
    "            return node\n",
    "        if value < node.value:\n",
    "            return self._search_recursive(node.left, value)\n",
    "        return self._search_recursive(node.right, value)\n",
    "\n",
    "    def delete(self, value):\n",
    "        self.root = self._delete_recursive(self.root, value)\n",
    "\n",
    "    def _delete_recursive(self, node, value):\n",
    "        if node is None:\n",
    "            return node\n",
    "\n",
    "        if value < node.value:\n",
    "            node.left = self._delete_recursive(node.left, value)\n",
    "        elif value > node.value:\n",
    "            node.right = self._delete_recursive(node.right, value)\n",
    "        else:\n",
    "            # Case 1: No child or only one child\n",
    "            if node.left is None:\n",
    "                return node.right\n",
    "            elif node.right is None:\n",
    "                return node.left\n",
    "\n",
    "            # Case 2: Node has two children\n",
    "            # Find the minimum value in the right subtree\n",
    "            temp = self._find_min(node.right)\n",
    "            # Copy the minimum value to the node to be deleted\n",
    "            node.value = temp.value\n",
    "            # Delete the minimum value node in the right subtree\n",
    "            node.right = self._delete_recursive(node.right, temp.value)\n",
    "\n",
    "        return node\n",
    "\n",
    "    def _find_min(self, node):\n",
    "        current = node\n",
    "        while current.left is not None:\n",
    "            current = current.left\n",
    "        return current\n"
   ]
  },
  {
   "cell_type": "code",
   "execution_count": 48,
   "metadata": {
    "id": "xf2zOzNPfQjE"
   },
   "outputs": [],
   "source": [
    "bst = BinarySearchTree()"
   ]
  },
  {
   "cell_type": "code",
   "execution_count": 49,
   "metadata": {
    "id": "x2cKwKmvffTj"
   },
   "outputs": [],
   "source": [
    "bst.insert(7)\n",
    "bst.insert(4)\n",
    "bst.insert(1)\n",
    "bst.insert(5)\n",
    "bst.insert(16)\n",
    "bst.insert(8)\n",
    "bst.insert(11)\n",
    "bst.insert(12)"
   ]
  },
  {
   "cell_type": "code",
   "execution_count": 50,
   "metadata": {
    "colab": {
     "base_uri": "https://localhost:8080/"
    },
    "id": "AJQBGKxlgCca",
    "outputId": "d6c07ade-ef4e-44cd-9f68-c2422b7c451f"
   },
   "outputs": [
    {
     "data": {
      "text/plain": [
       "<__main__.TreeNode at 0x22bd3e58a90>"
      ]
     },
     "execution_count": 50,
     "metadata": {},
     "output_type": "execute_result"
    }
   ],
   "source": [
    "bst.search(8)"
   ]
  },
  {
   "cell_type": "code",
   "execution_count": 51,
   "metadata": {
    "id": "kNL6CSpZgV0a"
   },
   "outputs": [],
   "source": [
    "bst.delete(5)"
   ]
  },
  {
   "cell_type": "markdown",
   "metadata": {
    "id": "7rX3Wgb9KJXz"
   },
   "source": [
    "Que 10) Write a Python program to implement all the functions of a dictionary (ADT) using Hashing"
   ]
  },
  {
   "cell_type": "code",
   "execution_count": 52,
   "metadata": {
    "id": "pwRgQ-L3KKV3"
   },
   "outputs": [],
   "source": [
    "class Hash:\n",
    "    def __init__(self, size):\n",
    "        self.size = size\n",
    "        self.table = [None] * self.size\n",
    "\n",
    "    def isFull(self):\n",
    "        for i in range(self.size):\n",
    "            if self.table[i] is None:\n",
    "                return False\n",
    "        return True\n",
    "\n",
    "    def hashfunc(self, value):\n",
    "        if isinstance(value, str):\n",
    "            total = 0\n",
    "            for char in value:\n",
    "                total += ord(char)\n",
    "            return total % self.size\n",
    "        else:\n",
    "            return value % self.size\n",
    "\n",
    "    def insert(self, value):\n",
    "        if self.isFull():\n",
    "            print(\"Hash table is full. Cannot insert.\")\n",
    "            return\n",
    "        key = self.hashfunc(value)\n",
    "        while self.table[key] is not None:\n",
    "            key = (key + 1) % self.size\n",
    "        self.table[key] = value\n",
    "\n",
    "    def insert(self, key, value):\n",
    "        if self.isFull():\n",
    "            print(\"Hash table is full. Cannot insert.\")\n",
    "            return\n",
    "        hash_key = self.hashfunc(key)\n",
    "        while self.table[hash_key] is not None:\n",
    "            hash_key = (hash_key + 1) % self.size\n",
    "        self.table[hash_key] = (key, value)\n",
    "\n",
    "    def delete_v(self, value):\n",
    "        key = self.search_i(value)\n",
    "        if key is not None:\n",
    "            self.table[key] = None\n",
    "\n",
    "    def delete_i(self, key):\n",
    "        if 0 <= key < self.size:\n",
    "            self.table[key] = None\n",
    "\n",
    "    def search_i(self, value):\n",
    "        key = self.hashfunc(value)\n",
    "        initial_key = key\n",
    "        while self.table[key] is not None:\n",
    "            if self.table[key] == value:\n",
    "                return key\n",
    "            key = (key + 1) % self.size\n",
    "            if key == initial_key:\n",
    "                break\n",
    "        return None\n",
    "\n",
    "    def search_v(self, key):\n",
    "        hash_key = self.hashfunc(key)\n",
    "        initial_key = hash_key\n",
    "        while self.table[hash_key] is not None:\n",
    "            if self.table[hash_key][0] == key:\n",
    "                return self.table[hash_key][1]\n",
    "            hash_key = (hash_key + 1) % self.size\n",
    "            if hash_key == initial_key:\n",
    "                break\n",
    "        return None\n"
   ]
  },
  {
   "cell_type": "code",
   "execution_count": 53,
   "metadata": {
    "id": "wkISprYVeWaE"
   },
   "outputs": [],
   "source": [
    "a = Hash(10)"
   ]
  },
  {
   "cell_type": "code",
   "execution_count": 54,
   "metadata": {
    "id": "I6J6C2uZeeqM"
   },
   "outputs": [],
   "source": [
    "a.insert(1,\"a\")\n",
    "a.insert(2,\"b\")\n",
    "a.insert(3,\"c\")\n",
    "a.insert(6,\"e\")"
   ]
  },
  {
   "cell_type": "code",
   "execution_count": 55,
   "metadata": {
    "id": "86wcbJuBjITh"
   },
   "outputs": [],
   "source": [
    "a.delete_v(\"e\")"
   ]
  },
  {
   "cell_type": "code",
   "execution_count": 56,
   "metadata": {
    "id": "BByViJZMjSSg"
   },
   "outputs": [],
   "source": [
    "a.search_v(\"b\")"
   ]
  },
  {
   "cell_type": "code",
   "execution_count": 57,
   "metadata": {
    "colab": {
     "base_uri": "https://localhost:8080/"
    },
    "id": "KmRUUekkeemp",
    "outputId": "9b4c6372-9e9d-4727-cb19-7380838c3654"
   },
   "outputs": [
    {
     "name": "stdout",
     "output_type": "stream",
     "text": [
      "[None, (1, 'a'), (2, 'b'), (3, 'c'), None, None, (6, 'e'), None, None, None]\n"
     ]
    }
   ],
   "source": [
    "print(a.table)"
   ]
  },
  {
   "cell_type": "markdown",
   "metadata": {
    "id": "5amZ2QQvKNG3"
   },
   "source": [
    "Que 11)Write a Python program to implement Dijkstra’s algorithm for single source shortest path problem"
   ]
  },
  {
   "cell_type": "code",
   "execution_count": 58,
   "metadata": {
    "id": "wdFfdgiDkUUm"
   },
   "outputs": [],
   "source": [
    "from collections import defaultdict\n",
    "import heapq\n",
    "\n",
    "class Graph:\n",
    "    def __init__(self):\n",
    "        self.graph = defaultdict(list)\n",
    "\n",
    "    def add_edge(self, u, v, weight):\n",
    "        self.graph[u].append((v, weight))\n",
    "        self.graph[v].append((u, weight))  # Assuming undirected graph\n",
    "\n",
    "    def dijkstra(self, start):\n",
    "        # Initialize distances with infinity for all nodes in the graph\n",
    "        distances = {node: float('inf') for node in self.graph}\n",
    "        # Set the distance of the start node to 0\n",
    "        distances[start] = 0\n",
    "        # Priority queue to store vertices and their distances\n",
    "        pq = [(0, start)]  # (distance, vertex)\n",
    "\n",
    "        while pq:\n",
    "            # Pop the vertex with the smallest distance from the priority queue\n",
    "            current_distance, current_vertex = heapq.heappop(pq)\n",
    "\n",
    "            # Ignore if the distance to the current vertex is greater than the computed distance\n",
    "            if current_distance > distances[current_vertex]:\n",
    "                continue\n",
    "\n",
    "            # Update distances for neighboring vertices\n",
    "            for neighbor, weight in self.graph[current_vertex]:\n",
    "                distance = current_distance + weight\n",
    "                # If the distance is shorter than the stored distance, update it\n",
    "                if distance < distances[neighbor]:\n",
    "                    distances[neighbor] = distance\n",
    "                    heapq.heappush(pq, (distance, neighbor))\n",
    "\n",
    "        return distances\n"
   ]
  },
  {
   "cell_type": "code",
   "execution_count": 59,
   "metadata": {
    "colab": {
     "base_uri": "https://localhost:8080/"
    },
    "id": "9lvznL8akajP",
    "outputId": "a9d5e920-5688-4594-8d66-ab02143013cb"
   },
   "outputs": [
    {
     "name": "stdout",
     "output_type": "stream",
     "text": [
      "Shortest distances from node A\n",
      "Node: A - Distance: 0\n",
      "Node: B - Distance: 1\n",
      "Node: C - Distance: 3\n",
      "Node: D - Distance: 4\n"
     ]
    }
   ],
   "source": [
    "# Create the graph\n",
    "g = Graph()\n",
    "g.add_edge('A', 'B', 1)\n",
    "g.add_edge('A', 'C', 4)\n",
    "g.add_edge('B', 'C', 2)\n",
    "g.add_edge('B', 'D', 5)\n",
    "g.add_edge('C', 'D', 1)\n",
    "\n",
    "start_node = 'A'\n",
    "shortest_distances = g.dijkstra(start_node)\n",
    "\n",
    "print(\"Shortest distances from node\", start_node)\n",
    "for node, distance in shortest_distances.items():\n",
    "    print(\"Node:\", node, \"- Distance:\", distance)"
   ]
  },
  {
   "cell_type": "markdown",
   "metadata": {
    "id": "pXhV9EwRKRwO"
   },
   "source": [
    "Que 12)Write a Python program that use recursive functions to traverse the given binary tree in\n"
   ]
  },
  {
   "cell_type": "code",
   "execution_count": 60,
   "metadata": {
    "id": "huokNYxeKSVw"
   },
   "outputs": [],
   "source": [
    "class TreeNode:\n",
    "    def __init__(self, value):\n",
    "        self.value = value\n",
    "        self.left = None\n",
    "        self.right = None\n",
    "\n",
    "def build_binary_tree(arr, index):\n",
    "    if index < len(arr):\n",
    "        node = TreeNode(arr[index])\n",
    "        node.left = build_binary_tree(arr, 2 * index + 1)  # Left child\n",
    "        node.right = build_binary_tree(arr, 2 * index + 2)  # Right child\n",
    "        return node\n",
    "    return None\n",
    "\n",
    "def preorder_traversal(node):\n",
    "    if node:\n",
    "        print(node.value, end=\" \")\n",
    "        preorder_traversal(node.left)\n",
    "        preorder_traversal(node.right)\n",
    "\n",
    "def postorder_traversal(node):\n",
    "    if node:\n",
    "        postorder_traversal(node.left)\n",
    "        postorder_traversal(node.right)\n",
    "        print(node.value, end=\" \")\n",
    "\n",
    "def inorder_traversal(node):\n",
    "    if node:\n",
    "        inorder_traversal(node.left)\n",
    "        print(node.value, end=\" \")\n",
    "        inorder_traversal(node.right)"
   ]
  },
  {
   "cell_type": "code",
   "execution_count": 61,
   "metadata": {
    "colab": {
     "base_uri": "https://localhost:8080/"
    },
    "id": "NlLSQsQJlhX-",
    "outputId": "40aebc26-0c8b-4145-a27d-f2bc574f7573"
   },
   "outputs": [
    {
     "name": "stdout",
     "output_type": "stream",
     "text": [
      "Pre-order traversal:\n",
      "1 2 4 5 3 6 7 \n",
      "In-order traversal:\n",
      "4 2 5 1 6 3 7 \n",
      "Post-order traversal:\n",
      "4 5 2 6 7 3 1 \n"
     ]
    }
   ],
   "source": [
    "arr = [1, 2, 3, 4, 5, 6, 7]\n",
    "\n",
    "# Build the binary tree from the array\n",
    "root = build_binary_tree(arr, 0)\n",
    "\n",
    "# Print Pre-order traversal\n",
    "print(\"Pre-order traversal:\")\n",
    "preorder_traversal(root)\n",
    "print()\n",
    "\n",
    "# Print In-order traversal\n",
    "print(\"In-order traversal:\")\n",
    "inorder_traversal(root)\n",
    "print()\n",
    "\n",
    "# Print Post-order traversal\n",
    "print(\"Post-order traversal:\")\n",
    "postorder_traversal(root)\n",
    "print()"
   ]
  },
  {
   "cell_type": "markdown",
   "metadata": {
    "id": "1bP1h-EWKUuY"
   },
   "source": [
    "Que 13)Write a Python program for the implementation of BFS and DFS for a given graph."
   ]
  },
  {
   "cell_type": "code",
   "execution_count": 62,
   "metadata": {
    "id": "XC-mFmTYKVSA"
   },
   "outputs": [],
   "source": [
    "from collections import defaultdict\n",
    "\n",
    "class Graph:\n",
    "    def __init__(self):\n",
    "        self.graph = defaultdict(list)\n",
    "\n",
    "    def add_edge(self, u, v):\n",
    "        self.graph[u].append(v)\n",
    "\n",
    "    def bfs(self, start):\n",
    "        visited = set()\n",
    "        queue = [start]\n",
    "        bfs_traversal = []\n",
    "\n",
    "        while queue:\n",
    "            vertex = queue.pop(0)\n",
    "            if vertex not in visited:\n",
    "                bfs_traversal.append(vertex)\n",
    "                visited.add(vertex)\n",
    "                queue.extend(self.graph[vertex])\n",
    "\n",
    "        return bfs_traversal\n",
    "\n",
    "    def dfs(self, start):\n",
    "        visited = set()\n",
    "        dfs_traversal = []\n",
    "        self._dfs_recursive(start, visited, dfs_traversal)\n",
    "        return dfs_traversal\n",
    "\n",
    "    def _dfs_recursive(self, vertex, visited, dfs_traversal):\n",
    "        visited.add(vertex)\n",
    "        dfs_traversal.append(vertex)\n",
    "        for neighbor in self.graph[vertex]:\n",
    "            if neighbor not in visited:\n",
    "                self._dfs_recursive(neighbor, visited, dfs_traversal)\n",
    "\n"
   ]
  },
  {
   "cell_type": "code",
   "execution_count": 63,
   "metadata": {
    "colab": {
     "base_uri": "https://localhost:8080/"
    },
    "id": "rlbvfhJqmHjY",
    "outputId": "feb6f144-c7e1-494a-8f6c-a6918f06b4c1"
   },
   "outputs": [
    {
     "name": "stdout",
     "output_type": "stream",
     "text": [
      "BFS Traversal starting from node 0 : [0, 1, 2, 3]\n",
      "DFS Traversal starting from node 0 : [0, 1, 2, 3]\n"
     ]
    }
   ],
   "source": [
    "# Create a graph instance\n",
    "g = Graph()\n",
    "\n",
    "# Add edges to the graph based on the provided set of edges\n",
    "edges = [(0, 1), (0, 2), (1, 2), (2, 0), (2, 3), (3, 3)]\n",
    "for u, v in edges:\n",
    "    g.add_edge(u, v)\n",
    "\n",
    "# Perform BFS traversal starting from node 0\n",
    "start_node_bfs = 0\n",
    "bfs_result = g.bfs(start_node_bfs)\n",
    "print(\"BFS Traversal starting from node\", start_node_bfs, \":\", bfs_result)\n",
    "\n",
    "# Perform DFS traversal starting from node 0\n",
    "start_node_dfs = 0\n",
    "dfs_result = g.dfs(start_node_dfs)\n",
    "print(\"DFS Traversal starting from node\", start_node_dfs, \":\", dfs_result)"
   ]
  },
  {
   "cell_type": "markdown",
   "metadata": {
    "id": "OU0Uv6QbKYEd"
   },
   "source": [
    "Que 14) Write a Python program for implementing the following sorting methods:\n"
   ]
  },
  {
   "cell_type": "markdown",
   "metadata": {
    "id": "p4Di7yVwvG_U"
   },
   "source": [
    " (a) Bubble sort"
   ]
  },
  {
   "cell_type": "code",
   "execution_count": 66,
   "metadata": {
    "id": "eQaxy9eTKYs6"
   },
   "outputs": [],
   "source": [
    "def bub_sort(l1):\n",
    "    for i in range(len(l1)-1):\n",
    "        for j in range(1,len(l1)-i):\n",
    "            if l1[j] < l1[j-1]:\n",
    "                l1[j],l1[j-1] = l1[j-1],l1[j]\n",
    "    return l1\n"
   ]
  },
  {
   "cell_type": "code",
   "execution_count": 67,
   "metadata": {
    "colab": {
     "base_uri": "https://localhost:8080/"
    },
    "id": "iA9r5YUt0WZg",
    "outputId": "c5c0b180-fc42-4dc9-f944-4dd879cac130"
   },
   "outputs": [
    {
     "data": {
      "text/plain": [
       "[11, 12, 22, 25, 34, 64, 90]"
      ]
     },
     "execution_count": 67,
     "metadata": {},
     "output_type": "execute_result"
    }
   ],
   "source": [
    "bub_sort([64, 34, 25, 12, 22, 11, 90])"
   ]
  },
  {
   "cell_type": "markdown",
   "metadata": {
    "id": "jaiEBgOSvSvV"
   },
   "source": [
    "(b)Insertion sort"
   ]
  },
  {
   "cell_type": "code",
   "execution_count": 68,
   "metadata": {
    "id": "phfTEMLDvSA_"
   },
   "outputs": [],
   "source": [
    "def ins_sort(l1):\n",
    "    for i in range(len(l1)-1):\n",
    "        min = i\n",
    "        for j in range(i,len(l1)):\n",
    "            if l1[j] < l1[min] :\n",
    "                min = j\n",
    "        l1[i],l1[min] = l1[min],l1[i]\n",
    "    return l1"
   ]
  },
  {
   "cell_type": "code",
   "execution_count": 69,
   "metadata": {
    "colab": {
     "base_uri": "https://localhost:8080/"
    },
    "id": "S-MV1UIx3BY1",
    "outputId": "8146f7ff-377b-4554-ebc2-970af0f44232"
   },
   "outputs": [
    {
     "data": {
      "text/plain": [
       "[11, 12, 22, 25, 34, 64, 90]"
      ]
     },
     "execution_count": 69,
     "metadata": {},
     "output_type": "execute_result"
    }
   ],
   "source": [
    "ins_sort([64, 34, 25, 12, 22, 11, 90])"
   ]
  },
  {
   "cell_type": "markdown",
   "metadata": {
    "id": "DVkHp9ssvRw1"
   },
   "source": [
    "(c)Quick sort"
   ]
  },
  {
   "cell_type": "code",
   "execution_count": 71,
   "metadata": {
    "id": "2_5120uvvRcB"
   },
   "outputs": [],
   "source": [
    "def quick_sort(l1):\n",
    "    if l1 == []:\n",
    "        return l1\n",
    "    left = []\n",
    "    right = []\n",
    "    key = l1[0]\n",
    "    for i in l1:\n",
    "        if i < key :\n",
    "            left.append(i)\n",
    "        elif i > key:\n",
    "            right.append(i)\n",
    "\n",
    "    return quick_sort(left) + [key] + quick_sort(right)"
   ]
  },
  {
   "cell_type": "code",
   "execution_count": 72,
   "metadata": {
    "colab": {
     "base_uri": "https://localhost:8080/"
    },
    "id": "41PDJKwv7aoE",
    "outputId": "9172871b-d009-4797-ddd7-cc3712abf2a3"
   },
   "outputs": [
    {
     "data": {
      "text/plain": [
       "[11, 12, 22, 25, 34, 64, 90]"
      ]
     },
     "execution_count": 72,
     "metadata": {},
     "output_type": "execute_result"
    }
   ],
   "source": [
    "quick_sort([64, 34, 25, 12, 22, 11, 90])"
   ]
  },
  {
   "cell_type": "markdown",
   "metadata": {
    "id": "Kqp3HijGvRGp"
   },
   "source": [
    "(d) Merge sort"
   ]
  },
  {
   "cell_type": "code",
   "execution_count": 73,
   "metadata": {
    "id": "oTDOXTZevQtV"
   },
   "outputs": [],
   "source": [
    "def merged_sort(l1,l2):\n",
    "    l = []\n",
    "    i = 0\n",
    "    j = 0\n",
    "    while l1 and l2:\n",
    "        if l1[i]<l2[j]:\n",
    "            l.append(l1.pop(0))\n",
    "        else:\n",
    "            l.append(l2.pop(0))\n",
    "    while l1:\n",
    "        l.append(l1.pop(0))\n",
    "    while l2:\n",
    "        l.append(l2.pop(0))\n",
    "    return l\n",
    "\n",
    "def merge_sort(l1):\n",
    "    if (len(l1) == 0 )or (len(l1) == 1) :\n",
    "        return l1\n",
    "    n = len(l1)\n",
    "    left = merge_sort(l1[:n//2])\n",
    "    right = merge_sort(l1[n//2:])\n",
    "    return merged_sort(left,right)"
   ]
  },
  {
   "cell_type": "code",
   "execution_count": 74,
   "metadata": {
    "colab": {
     "base_uri": "https://localhost:8080/"
    },
    "id": "3uSATZ0q_Mcn",
    "outputId": "584b0903-fd05-4326-9af0-57b4f1efa605"
   },
   "outputs": [
    {
     "data": {
      "text/plain": [
       "[11, 12, 22, 25, 34, 64, 90]"
      ]
     },
     "execution_count": 74,
     "metadata": {},
     "output_type": "execute_result"
    }
   ],
   "source": [
    "merge_sort([64, 34, 25, 12, 22, 11, 90])"
   ]
  },
  {
   "cell_type": "markdown",
   "metadata": {
    "id": "zN7IRamgvQQd"
   },
   "source": [
    "(g) Binary tree sort"
   ]
  },
  {
   "cell_type": "code",
   "execution_count": 75,
   "metadata": {
    "id": "ewHnhmpYvj9i"
   },
   "outputs": [],
   "source": [
    "class TreeNode:\n",
    "    def __init__(self, value):\n",
    "        self.value = value\n",
    "        self.left = None\n",
    "        self.right = None\n",
    "\n",
    "def insert(root, value):\n",
    "    if root is None:\n",
    "        return TreeNode(value)\n",
    "    if value < root.value:\n",
    "        root.left = insert(root.left, value)\n",
    "    else:\n",
    "        root.right = insert(root.right, value)\n",
    "    return root\n",
    "\n",
    "def inorder_traversal(node, sorted_list):\n",
    "    if node:\n",
    "        inorder_traversal(node.left, sorted_list)\n",
    "        sorted_list.append(node.value)\n",
    "        inorder_traversal(node.right, sorted_list)\n",
    "\n",
    "def binary_tree_sort(arr):\n",
    "    if not arr:\n",
    "        return []\n",
    "\n",
    "    root = None\n",
    "    for num in arr:\n",
    "        root = insert(root, num)\n",
    "\n",
    "    sorted_list = []\n",
    "    inorder_traversal(root, sorted_list)\n",
    "    return sorted_list\n"
   ]
  },
  {
   "cell_type": "code",
   "execution_count": 76,
   "metadata": {
    "colab": {
     "base_uri": "https://localhost:8080/"
    },
    "id": "ggqB1JM2moJX",
    "outputId": "eb082b71-a030-4bb2-c0a4-7edd955bcb8c"
   },
   "outputs": [
    {
     "data": {
      "text/plain": [
       "[11, 12, 22, 25, 34, 64, 90]"
      ]
     },
     "execution_count": 76,
     "metadata": {},
     "output_type": "execute_result"
    }
   ],
   "source": [
    "binary_tree_sort([64, 34, 25, 12, 22, 11, 90])"
   ]
  },
  {
   "cell_type": "markdown",
   "metadata": {
    "id": "d2f-nxe6vNhU"
   },
   "source": [
    "(e) Heap sort"
   ]
  },
  {
   "cell_type": "code",
   "execution_count": 77,
   "metadata": {
    "id": "mA2-msUUvONV"
   },
   "outputs": [],
   "source": [
    "def heapify(arr, n, i):\n",
    "    largest = i\n",
    "    left = 2 * i + 1\n",
    "    right = 2 * i + 2\n",
    "\n",
    "    if left < n and arr[left] > arr[largest]:\n",
    "        largest = left\n",
    "\n",
    "    if right < n and arr[right] > arr[largest]:\n",
    "        largest = right\n",
    "\n",
    "    if largest != i:\n",
    "        arr[i], arr[largest] = arr[largest], arr[i]\n",
    "        heapify(arr, n, largest)\n",
    "\n",
    "def heap_sort(arr):\n",
    "    n = len(arr)\n",
    "\n",
    "    # Build a max heap\n",
    "    for i in range(n // 2 - 1, -1, -1):\n",
    "        heapify(arr, n, i)\n",
    "\n",
    "    # Extract elements one by one from the heap\n",
    "    for i in range(n - 1, 0, -1):\n",
    "        arr[i], arr[0] = arr[0], arr[i]  # Swap the root (max element) with the last element\n",
    "        heapify(arr, i, 0)  # Heapify the reduced heap\n",
    "\n",
    "    return arr\n"
   ]
  },
  {
   "cell_type": "code",
   "execution_count": 78,
   "metadata": {
    "colab": {
     "base_uri": "https://localhost:8080/"
    },
    "id": "KLuVbdslm7Fe",
    "outputId": "e4f40260-59b8-4aa2-f3aa-81815bafa512"
   },
   "outputs": [
    {
     "data": {
      "text/plain": [
       "[11, 12, 22, 25, 34, 64, 90]"
      ]
     },
     "execution_count": 78,
     "metadata": {},
     "output_type": "execute_result"
    }
   ],
   "source": [
    "heap_sort([64, 34, 25, 12, 22, 11, 90])"
   ]
  },
  {
   "cell_type": "markdown",
   "metadata": {
    "id": "_9AAfYnLKdKx"
   },
   "source": [
    "Que 15) Write a Python program that implements Kruskal’s algorithm to generate minimum cost spanning tree"
   ]
  },
  {
   "cell_type": "code",
   "execution_count": 79,
   "metadata": {
    "id": "QlpZ23zfKeEM"
   },
   "outputs": [],
   "source": [
    "class Graph:\n",
    "    def __init__(self, vertices):\n",
    "        self.V = vertices\n",
    "        self.graph = []\n",
    "\n",
    "    def add_edge(self, u, v, w):\n",
    "        self.graph.append([u, v, w])\n",
    "\n",
    "    def find_parent(self, parent, i):\n",
    "        if parent[i] == i:\n",
    "            return i\n",
    "        return self.find_parent(parent, parent[i])\n",
    "\n",
    "    def union(self, parent, rank, x, y):\n",
    "        x_root = self.find_parent(parent, x)\n",
    "        y_root = self.find_parent(parent, y)\n",
    "\n",
    "        if rank[x_root] < rank[y_root]:\n",
    "            parent[x_root] = y_root\n",
    "        elif rank[x_root] > rank[y_root]:\n",
    "            parent[y_root] = x_root\n",
    "        else:\n",
    "            parent[y_root] = x_root\n",
    "            rank[x_root] += 1\n",
    "\n",
    "    def kruskal(self):\n",
    "        result = []\n",
    "        i, e = 0, 0\n",
    "        self.graph = sorted(self.graph, key=lambda item: item[2])\n",
    "        parent = []\n",
    "        rank = []\n",
    "\n",
    "        for node in range(self.V):\n",
    "            parent.append(node)\n",
    "            rank.append(0)\n",
    "\n",
    "        while e < self.V - 1:\n",
    "            u, v, w = self.graph[i]\n",
    "            i += 1\n",
    "            x = self.find_parent(parent, u)\n",
    "            y = self.find_parent(parent, v)\n",
    "\n",
    "            if x != y:\n",
    "                e += 1\n",
    "                result.append([u, v, w])\n",
    "                self.union(parent, rank, x, y)\n",
    "\n",
    "        min_cost = 0\n",
    "        print(\"Edges in the Minimum Spanning Tree:\")\n",
    "        for u, v, weight in result:\n",
    "            print(f\"{u} -- {v} == {weight}\")\n",
    "            min_cost += weight\n",
    "        print(\"Minimum Cost:\", min_cost)\n"
   ]
  },
  {
   "cell_type": "code",
   "execution_count": 80,
   "metadata": {
    "colab": {
     "base_uri": "https://localhost:8080/"
    },
    "id": "iPmrvmWPnpwJ",
    "outputId": "aef021d9-4fa2-435a-e35d-56bf8c292fb4"
   },
   "outputs": [
    {
     "name": "stdout",
     "output_type": "stream",
     "text": [
      "Edges in the Minimum Spanning Tree:\n",
      "2 -- 3 == 4\n",
      "0 -- 3 == 5\n",
      "0 -- 1 == 10\n",
      "Minimum Cost: 19\n"
     ]
    }
   ],
   "source": [
    "# Create a Graph instance with 4 vertices\n",
    "g = Graph(4)\n",
    "\n",
    "# Add edges to the graph\n",
    "edges = [(0, 1, 10), (0, 2, 6), (0, 3, 5), (1, 3, 15), (2, 3, 4)]\n",
    "for u, v, w in edges:\n",
    "    g.add_edge(u, v, w)\n",
    "\n",
    "# Perform Kruskal's algorithm to find Minimum Spanning Tree\n",
    "g.kruskal()"
   ]
  },
  {
   "cell_type": "markdown",
   "metadata": {
    "id": "j4B3GMJAKgvL"
   },
   "source": [
    "Que 16 ) Write a Python program that implements KMP algorithm for pattern matching"
   ]
  },
  {
   "cell_type": "code",
   "execution_count": 81,
   "metadata": {
    "id": "EcecVyyEKhfh"
   },
   "outputs": [],
   "source": [
    "def compute_lps_array(pattern):\n",
    "    m = len(pattern)\n",
    "    lps = [0] * m\n",
    "    length = 0  # Length of the previous longest prefix suffix\n",
    "\n",
    "    i = 1\n",
    "    while i < m:\n",
    "        if pattern[i] == pattern[length]:\n",
    "            length += 1\n",
    "            lps[i] = length\n",
    "            i += 1\n",
    "        else:\n",
    "            if length != 0:\n",
    "                length = lps[length - 1]\n",
    "            else:\n",
    "                lps[i] = 0\n",
    "                i += 1\n",
    "    return lps\n",
    "\n",
    "def kmp_search(text, pattern):\n",
    "    n = len(text)\n",
    "    m = len(pattern)\n",
    "    lps = compute_lps_array(pattern)\n",
    "\n",
    "    i = 0  # Index for text[]\n",
    "    j = 0  # Index for pattern[]\n",
    "\n",
    "    while i < n:\n",
    "        if pattern[j] == text[i]:\n",
    "            i += 1\n",
    "            j += 1\n",
    "\n",
    "            if j == m:\n",
    "                print(\"Pattern found at index\", i - j)\n",
    "                j = lps[j - 1]\n",
    "        else:\n",
    "            if j != 0:\n",
    "                j = lps[j - 1]\n",
    "            else:\n",
    "                i += 1\n"
   ]
  },
  {
   "cell_type": "code",
   "execution_count": 82,
   "metadata": {
    "colab": {
     "base_uri": "https://localhost:8080/"
    },
    "id": "MxpWydhin_I2",
    "outputId": "dc72f162-379d-4520-8da1-8b8835334131"
   },
   "outputs": [
    {
     "name": "stdout",
     "output_type": "stream",
     "text": [
      "Pattern found at index 5\n"
     ]
    }
   ],
   "source": [
    "kmp_search(\"ABABDAABACDABABCABAB\",\"AABA\")"
   ]
  },
  {
   "cell_type": "code",
   "execution_count": 83,
   "metadata": {
    "colab": {
     "base_uri": "https://localhost:8080/"
    },
    "id": "GEm6Z0d8n--n",
    "outputId": "9476df49-c50b-4629-ab4b-5c8bae5985ce"
   },
   "outputs": [
    {
     "name": "stdout",
     "output_type": "stream",
     "text": [
      "Pattern found at index 5\n",
      "Pattern found at index 17\n"
     ]
    }
   ],
   "source": [
    "kmp_search(\"tetththeheehthtehthetht\",\"the\")"
   ]
  },
  {
   "cell_type": "markdown",
   "metadata": {
    "id": "DHhNaoC3KlY2"
   },
   "source": [
    "Que 17) Write a Python program that reads lines of text from a file and makes frequency count of words. It should\n",
    "then display words followed by their frequency count"
   ]
  },
  {
   "cell_type": "code",
   "execution_count": 84,
   "metadata": {
    "colab": {
     "base_uri": "https://localhost:8080/",
     "height": 349
    },
    "id": "ocECxHrSKmQA",
    "outputId": "6cbf8e8c-4877-4258-d3bf-7ba6f8814f59"
   },
   "outputs": [
    {
     "name": "stdout",
     "output_type": "stream",
     "text": [
      "person@age@sex@funny@age.mon: 1\n",
      "Peter@??@M@High@504: 1\n",
      "Lois@40@F@??@480: 1\n",
      "Meg@17@F@Low@204: 1\n",
      "Chris@14@M@Med@168: 1\n",
      "Stewie@1@M@High@??: 1\n",
      "Brian@??@M@Med@??: 1\n"
     ]
    }
   ],
   "source": [
    "def count_word_frequency(file_path):\n",
    "    word_frequency = {}\n",
    "\n",
    "    with open(file_path, 'r') as file:\n",
    "        for line in file:\n",
    "            # Split the line into words\n",
    "            words = line.strip().split()\n",
    "\n",
    "            # Update the word frequency dictionary\n",
    "            for word in words:\n",
    "                word_frequency[word] = word_frequency.get(word, 0) + 1\n",
    "\n",
    "    return word_frequency\n",
    "\n",
    "def display_word_frequency(word_frequency):\n",
    "    for word, frequency in word_frequency.items():\n",
    "        print(f\"{word}: {frequency}\")\n",
    "\n",
    "# Example usage\n",
    "file_path = r\"C:\\Users\\HARSHITA\\OneDrive\\Documents\\somenewfile.txt\"  # Update with your file path\n",
    "word_frequency = count_word_frequency(file_path)\n",
    "display_word_frequency(word_frequency)\n"
   ]
  },
  {
   "cell_type": "code",
   "execution_count": null,
   "metadata": {
    "id": "6W1kc_-p4PFt"
   },
   "outputs": [],
   "source": []
  }
 ],
 "metadata": {
  "colab": {
   "provenance": []
  },
  "kernelspec": {
   "display_name": "Python 3 (ipykernel)",
   "language": "python",
   "name": "python3"
  },
  "language_info": {
   "codemirror_mode": {
    "name": "ipython",
    "version": 3
   },
   "file_extension": ".py",
   "mimetype": "text/x-python",
   "name": "python",
   "nbconvert_exporter": "python",
   "pygments_lexer": "ipython3",
   "version": "3.11.4"
  }
 },
 "nbformat": 4,
 "nbformat_minor": 1
}
