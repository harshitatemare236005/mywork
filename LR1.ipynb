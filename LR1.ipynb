{
 "cells": [
  {
   "cell_type": "code",
   "execution_count": 40,
   "id": "da8c2eb7",
   "metadata": {},
   "outputs": [],
   "source": [
    "import numpy as np\n",
    "import random \n",
    "import matplotlib.pyplot as plt\n",
    "import pandas as pd\n",
    "import seaborn as sns\n",
    "%matplotlib inline\n",
    "import sklearn"
   ]
  },
  {
   "cell_type": "code",
   "execution_count": 33,
   "id": "98225ce4",
   "metadata": {},
   "outputs": [
    {
     "data": {
      "text/plain": [
       "<matplotlib.collections.PathCollection at 0x1bb76aaa220>"
      ]
     },
     "execution_count": 33,
     "metadata": {},
     "output_type": "execute_result"
    },
    {
     "data": {
      "image/png": "[encoded data removed]",
      "text/plain": [
       "<Figure size 432x288 with 1 Axes>"
      ]
     },
     "metadata": {
      "needs_background": "light"
     },
     "output_type": "display_data"
    }
   ],
   "source": [
    "x=np.linspace(1,100,100)\n",
    "t=x**3+4+np.random.normal(10,np.sqrt(50),x.size)\n",
    "plt.scatter(x,t,color=\"red\")\n",
    "\n"
   ]
  },
  {
   "cell_type": "code",
   "execution_count": 24,
   "id": "e6424873",
   "metadata": {},
   "outputs": [
    {
     "name": "stdout",
     "output_type": "stream",
     "text": [
      "[[  1.   1.]\n",
      " [  1.   2.]\n",
      " [  1.   3.]\n",
      " [  1.   4.]\n",
      " [  1.   5.]\n",
      " [  1.   6.]\n",
      " [  1.   7.]\n",
      " [  1.   8.]\n",
      " [  1.   9.]\n",
      " [  1.  10.]\n",
      " [  1.  11.]\n",
      " [  1.  12.]\n",
      " [  1.  13.]\n",
      " [  1.  14.]\n",
      " [  1.  15.]\n",
      " [  1.  16.]\n",
      " [  1.  17.]\n",
      " [  1.  18.]\n",
      " [  1.  19.]\n",
      " [  1.  20.]\n",
      " [  1.  21.]\n",
      " [  1.  22.]\n",
      " [  1.  23.]\n",
      " [  1.  24.]\n",
      " [  1.  25.]\n",
      " [  1.  26.]\n",
      " [  1.  27.]\n",
      " [  1.  28.]\n",
      " [  1.  29.]\n",
      " [  1.  30.]\n",
      " [  1.  31.]\n",
      " [  1.  32.]\n",
      " [  1.  33.]\n",
      " [  1.  34.]\n",
      " [  1.  35.]\n",
      " [  1.  36.]\n",
      " [  1.  37.]\n",
      " [  1.  38.]\n",
      " [  1.  39.]\n",
      " [  1.  40.]\n",
      " [  1.  41.]\n",
      " [  1.  42.]\n",
      " [  1.  43.]\n",
      " [  1.  44.]\n",
      " [  1.  45.]\n",
      " [  1.  46.]\n",
      " [  1.  47.]\n",
      " [  1.  48.]\n",
      " [  1.  49.]\n",
      " [  1.  50.]\n",
      " [  1.  51.]\n",
      " [  1.  52.]\n",
      " [  1.  53.]\n",
      " [  1.  54.]\n",
      " [  1.  55.]\n",
      " [  1.  56.]\n",
      " [  1.  57.]\n",
      " [  1.  58.]\n",
      " [  1.  59.]\n",
      " [  1.  60.]\n",
      " [  1.  61.]\n",
      " [  1.  62.]\n",
      " [  1.  63.]\n",
      " [  1.  64.]\n",
      " [  1.  65.]\n",
      " [  1.  66.]\n",
      " [  1.  67.]\n",
      " [  1.  68.]\n",
      " [  1.  69.]\n",
      " [  1.  70.]\n",
      " [  1.  71.]\n",
      " [  1.  72.]\n",
      " [  1.  73.]\n",
      " [  1.  74.]\n",
      " [  1.  75.]\n",
      " [  1.  76.]\n",
      " [  1.  77.]\n",
      " [  1.  78.]\n",
      " [  1.  79.]\n",
      " [  1.  80.]\n",
      " [  1.  81.]\n",
      " [  1.  82.]\n",
      " [  1.  83.]\n",
      " [  1.  84.]\n",
      " [  1.  85.]\n",
      " [  1.  86.]\n",
      " [  1.  87.]\n",
      " [  1.  88.]\n",
      " [  1.  89.]\n",
      " [  1.  90.]\n",
      " [  1.  91.]\n",
      " [  1.  92.]\n",
      " [  1.  93.]\n",
      " [  1.  94.]\n",
      " [  1.  95.]\n",
      " [  1.  96.]\n",
      " [  1.  97.]\n",
      " [  1.  98.]\n",
      " [  1.  99.]\n",
      " [  1. 100.]]\n"
     ]
    }
   ],
   "source": [
    "a=np.ones(x.size)\n",
    "a=np.array(a).reshape(100,1)\n",
    "x=np.array(x).reshape(100,1)\n",
    "X=np.append(a,x,axis=1)\n",
    "print(X)"
   ]
  },
  {
   "cell_type": "code",
   "execution_count": 36,
   "id": "17f91c66",
   "metadata": {},
   "outputs": [
    {
     "data": {
      "text/plain": [
       "array([-207054.27426169,    9150.3667968 ])"
      ]
     },
     "execution_count": 36,
     "metadata": {},
     "output_type": "execute_result"
    }
   ],
   "source": [
    "u=np.matmul(np.transpose(X),X)\n",
    "v=np.matmul(np.linalg.inv(u),np.transpose(X))\n",
    "w=np.matmul(v,y)\n",
    "(w)\n"
   ]
  },
  {
   "cell_type": "code",
   "execution_count": 30,
   "id": "a26dcd2e",
   "metadata": {},
   "outputs": [
    {
     "data": {
      "text/plain": [
       "[<matplotlib.lines.Line2D at 0x1bb7722af70>]"
      ]
     },
     "execution_count": 30,
     "metadata": {},
     "output_type": "execute_result"
    },
    {
     "data": {
      "image/png": "[encoded data removed]",
      "text/plain": [
       "<Figure size 432x288 with 1 Axes>"
      ]
     },
     "metadata": {
      "needs_background": "light"
     },
     "output_type": "display_data"
    }
   ],
   "source": [
    "w1=w[1]\n",
    "w0=w[0]\n",
    "plt.plot(x,w1*x+w0,color=\"green\")\n"
   ]
  },
  {
   "cell_type": "code",
   "execution_count": 34,
   "id": "e632b7b7",
   "metadata": {},
   "outputs": [
    {
     "data": {
      "text/plain": [
       "[<matplotlib.lines.Line2D at 0x1bb76b04a60>]"
      ]
     },
     "execution_count": 34,
     "metadata": {},
     "output_type": "execute_result"
    },
    {
     "data": {
      "image/png": "[encoded data removed]",
      "text/plain": [
       "<Figure size 432x288 with 1 Axes>"
      ]
     },
     "metadata": {
      "needs_background": "light"
     },
     "output_type": "display_data"
    }
   ],
   "source": [
    "plt.scatter(x,t,color=\"red\")\n",
    "plt.plot(x,w1*x+w0,color=\"green\")\n"
   ]
  },
  {
   "cell_type": "code",
   "execution_count": 48,
   "id": "212b3f50",
   "metadata": {},
   "outputs": [
    {
     "data": {
      "text/plain": [
       "LinearRegression()"
      ]
     },
     "execution_count": 48,
     "metadata": {},
     "output_type": "execute_result"
    }
   ],
   "source": [
    "from sklearn.linear_model import LinearRegression\n",
    "model=LinearRegression(fit_intercept=True)\n",
    "model.fit(X,t)"
   ]
  }
 ],
 "metadata": {
  "kernelspec": {
   "display_name": "Python 3 (ipykernel)",
   "language": "python",
   "name": "python3"
  },
  "language_info": {
   "codemirror_mode": {
    "name": "ipython",
    "version": 3
   },
   "file_extension": ".py",
   "mimetype": "text/x-python",
   "name": "python",
   "nbconvert_exporter": "python",
   "pygments_lexer": "ipython3",
   "version": "3.11.4"
  }
 },
 "nbformat": 4,
 "nbformat_minor": 5
}
