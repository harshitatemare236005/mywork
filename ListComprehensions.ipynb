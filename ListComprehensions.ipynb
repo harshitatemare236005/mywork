{
 "cells": [
  {
   "cell_type": "code",
   "execution_count": 14,
   "metadata": {
    "id": "BiCvYpaStGLz"
   },
   "outputs": [],
   "source": [
    "nums = [1, 2, 3, 4]"
   ]
  },
  {
   "cell_type": "code",
   "execution_count": 15,
   "metadata": {
    "colab": {
     "base_uri": "https://localhost:8080/"
    },
    "id": "Q6UP9hPptLTU",
    "outputId": "aabb7718-8904-44a2-8bb6-f57a9f71743a"
   },
   "outputs": [
    {
     "name": "stdout",
     "output_type": "stream",
     "text": [
      "[10, 20, 30, 40]\n"
     ]
    }
   ],
   "source": [
    "nums = [x*10 for x in nums]\n",
    "print(nums)"
   ]
  },
  {
   "cell_type": "code",
   "execution_count": 16,
   "metadata": {
    "colab": {
     "base_uri": "https://localhost:8080/"
    },
    "id": "bjGj3LwvtMw7",
    "outputId": "a41cb6e3-f6d8-4120-d201-d25716f8bb06"
   },
   "outputs": [
    {
     "name": "stdout",
     "output_type": "stream",
     "text": [
      "[100, 200, 300, 400]\n"
     ]
    }
   ],
   "source": [
    "print([x * 10 for x in nums])"
   ]
  },
  {
   "cell_type": "code",
   "execution_count": 17,
   "metadata": {
    "colab": {
     "base_uri": "https://localhost:8080/"
    },
    "id": "lPecmMJ-tN9z",
    "outputId": "e6176701-880e-4d32-b8e1-284eeccd0791"
   },
   "outputs": [
    {
     "name": "stdout",
     "output_type": "stream",
     "text": [
      "['H', 'U', 'M', 'A', 'Y', 'U', 'N']\n"
     ]
    }
   ],
   "source": [
    "name = 'humayun'\n",
    "\n",
    "_name = [char.upper() for char in name]\n",
    "print(_name)\n",
    "\n"
   ]
  },
  {
   "cell_type": "code",
   "execution_count": 18,
   "metadata": {
    "colab": {
     "base_uri": "https://localhost:8080/"
    },
    "id": "4geW08TotPi7",
    "outputId": "1bd00196-89bb-4455-e466-d118a63f294c"
   },
   "outputs": [
    {
     "name": "stdout",
     "output_type": "stream",
     "text": [
      "['S', 'T', 'P']\n"
     ]
    }
   ],
   "source": [
    "friends = [\"sriju\", \"tani\", \"puja\"]\n",
    "\n",
    "print([friend[0].upper() for friend in friends])\n",
    "# print(my_friend)\n",
    "\n"
   ]
  },
  {
   "cell_type": "code",
   "execution_count": 2,
   "metadata": {
    "colab": {
     "base_uri": "https://localhost:8080/"
    },
    "id": "ADqTH6chtRaz",
    "outputId": "ea5bec91-509f-4b97-aa98-497f9bb02ebd"
   },
   "outputs": [
    {
     "name": "stdout",
     "output_type": "stream",
     "text": [
      "[2, 4, 6, 8, 10]\n",
      "[1, 3, 5, 7, 9]\n",
      "[1, 3, 5, 7, 9]\n"
     ]
    }
   ],
   "source": [
    "numbers = range(1, 11)\n",
    "\n",
    "evens = [x for x in numbers if x % 2 == 0]\n",
    "odds  = [x for x in numbers if x % 2 == 1]\n",
    "print(evens)\n",
    "print(odds)\n",
    "\n",
    "e_ind =[numbers[x] for x in range(len(numbers)) if x % 2 == 0]\n",
    "print(e_ind)"
   ]
  },
  {
   "cell_type": "code",
   "execution_count": 3,
   "metadata": {
    "colab": {
     "base_uri": "https://localhost:8080/"
    },
    "id": "BpNO8XdqtR9j",
    "outputId": "c9179ef5-b497-47ab-f638-5f8199e383eb"
   },
   "outputs": [
    {
     "name": "stdout",
     "output_type": "stream",
     "text": [
      "[2, 1.0, 6, 2.0, 10, 3.0, 14, 4.0, 18, 5.0]\n"
     ]
    }
   ],
   "source": [
    "special = [x * 2 if x % 2 == 1 else x / 2 for x in numbers]\n",
    "print(special)"
   ]
  },
  {
   "cell_type": "code",
   "execution_count": 21,
   "metadata": {
    "colab": {
     "base_uri": "https://localhost:8080/"
    },
    "id": "V0QxlVdmtURT",
    "outputId": "2417d90c-418c-468c-b29b-ee3f7a9b44c2"
   },
   "outputs": [
    {
     "name": "stdout",
     "output_type": "stream",
     "text": [
      "1 2 3 \n",
      "4 5 6 \n",
      "7 8 9 \n",
      "9\n",
      "\n",
      "\n",
      "1\n",
      "2\n",
      "3\n",
      "4\n",
      "5\n",
      "6\n",
      "7\n",
      "8\n",
      "9\n"
     ]
    },
    {
     "data": {
      "text/plain": [
       "[[None, None, None], [None, None, None], [None, None, None]]"
      ]
     },
     "execution_count": 21,
     "metadata": {},
     "output_type": "execute_result"
    }
   ],
   "source": [
    "maze = [\n",
    "    [1, 2, 3],\n",
    "    [4, 5, 6],\n",
    "    [7, 8, 9]\n",
    "]\n",
    "\n",
    "for row in maze:\n",
    "    for val in row:\n",
    "        print(val, end=' ')\n",
    "    print()\n",
    "print(maze[2][2])\n",
    "print()\n",
    "print()\n",
    "[[print(val) for val in row ] for row in maze]"
   ]
  }
 ],
 "metadata": {
  "colab": {
   "provenance": []
  },
  "kernelspec": {
   "display_name": "Python 3 (ipykernel)",
   "language": "python",
   "name": "python3"
  },
  "language_info": {
   "codemirror_mode": {
    "name": "ipython",
    "version": 3
   },
   "file_extension": ".py",
   "mimetype": "text/x-python",
   "name": "python",
   "nbconvert_exporter": "python",
   "pygments_lexer": "ipython3",
   "version": "3.11.4"
  }
 },
 "nbformat": 4,
 "nbformat_minor": 1
}
