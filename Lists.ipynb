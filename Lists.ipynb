{
 "cells": [
  {
   "cell_type": "code",
   "execution_count": 3,
   "metadata": {},
   "outputs": [
    {
     "name": "stdout",
     "output_type": "stream",
     "text": [
      "Enter an number :45\n",
      "MMMMMMMMMMMMMMMMMMMMMMMMMMMMMMMMMMMMMMMMMMMMMLV\n"
     ]
    }
   ],
   "source": [
    "num1 = int(input(\"Enter an number :\"))\n",
    "str1 = \"\"    \n",
    "if num1%1000 >0:\n",
    "    r = num1%1000\n",
    "    for i in range(r):\n",
    "        str1 +=\"M\"\n",
    "    num1 %=1000\n",
    "    if num1%100>0:\n",
    "        r = num1% 100\n",
    "        if r<3:\n",
    "            for i in range(r):\n",
    "                str1 += \"C\"\n",
    "    elif r==4:\n",
    "        str1 += \"CD\"\n",
    "    else:\n",
    "        str1 += \"D\"\n",
    "        r %=5\n",
    "        for i in range(r):\n",
    "            str1 += \"C\"\n",
    "    num1 %=100\n",
    "    if num1%10>0:\n",
    "        r = num1%10\n",
    "        if r<3:\n",
    "            for i in range(r):\n",
    "                str1 += \"X\"\n",
    "        elif r==4:\n",
    "            str1 += \"XL\"\n",
    "        else:\n",
    "            str1 += \"L\"\n",
    "            r %=5\n",
    "            for i in range(r):\n",
    "                str1 += \"X\"\n",
    "    num1 %=10\n",
    "    if num1>0:\n",
    "        r = num1\n",
    "        if r<3:\n",
    "            for i in range(r):\n",
    "                str1 += \"I\"\n",
    "        elif r==4:\n",
    "            str1 += \"IV\"\n",
    "        else:\n",
    "            str1 += \"V\"\n",
    "            r %=5\n",
    "            for i in range(r):\n",
    "                str1 += \"I\"\n",
    "    \n",
    "\n",
    "print(str1)"
   ]
  },
  {
   "cell_type": "code",
   "execution_count": 4,
   "metadata": {},
   "outputs": [],
   "source": [
    "str1 = \"Hello World\""
   ]
  },
  {
   "cell_type": "code",
   "execution_count": 6,
   "metadata": {},
   "outputs": [],
   "source": [
    "l1 = str1.split(\" \")"
   ]
  },
  {
   "cell_type": "code",
   "execution_count": 7,
   "metadata": {},
   "outputs": [
    {
     "data": {
      "text/plain": [
       "['Hello', 'World']"
      ]
     },
     "execution_count": 7,
     "metadata": {},
     "output_type": "execute_result"
    }
   ],
   "source": [
    " l1"
   ]
  },
  {
   "cell_type": "code",
   "execution_count": 8,
   "metadata": {},
   "outputs": [
    {
     "data": {
      "text/plain": [
       "5"
      ]
     },
     "execution_count": 8,
     "metadata": {},
     "output_type": "execute_result"
    }
   ],
   "source": [
    "len(l1[-1])"
   ]
  },
  {
   "cell_type": "code",
   "execution_count": null,
   "metadata": {},
   "outputs": [],
   "source": []
  }
 ],
 "metadata": {
  "colab": {
   "provenance": []
  },
  "kernelspec": {
   "display_name": "Python 3 (ipykernel)",
   "language": "python",
   "name": "python3"
  },
  "language_info": {
   "codemirror_mode": {
    "name": "ipython",
    "version": 3
   },
   "file_extension": ".py",
   "mimetype": "text/x-python",
   "name": "python",
   "nbconvert_exporter": "python",
   "pygments_lexer": "ipython3",
   "version": "3.11.4"
  }
 },
 "nbformat": 4,
 "nbformat_minor": 1
}
