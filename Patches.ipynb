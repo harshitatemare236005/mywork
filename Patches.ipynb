{
 "cells": [
  {
   "cell_type": "code",
   "execution_count": 1,
   "metadata": {
    "colab": {
     "base_uri": "https://localhost:8080/"
    },
    "id": "PsosOcZKREO3",
    "outputId": "df86f49d-4ce8-44ef-b4d3-d72808401690"
   },
   "outputs": [
    {
     "name": "stdout",
     "output_type": "stream",
     "text": [
      "Collecting patchify\n",
      "  Obtaining dependency information for patchify from https://files.pythonhosted.org/packages/00/ce/d76647d95aad98d5532b5d25801dedda788c6b5d4c7457d30ae3612132af/patchify-0.2.3-py3-none-any.whl.metadata\n",
      "  Downloading patchify-0.2.3-py3-none-any.whl.metadata (3.0 kB)\n",
      "Requirement already satisfied: numpy<2,>=1 in c:\\users\\harshita\\anaconda3\\lib\\site-packages (from patchify) (1.24.3)\n",
      "Downloading patchify-0.2.3-py3-none-any.whl (6.6 kB)\n",
      "Installing collected packages: patchify\n",
      "Successfully installed patchify-0.2.3\n"
     ]
    }
   ],
   "source": [
    "!pip install patchify"
   ]
  },
  {
   "cell_type": "code",
   "execution_count": 15,
   "metadata": {},
   "outputs": [],
   "source": [
    "import os"
   ]
  },
  {
   "cell_type": "code",
   "execution_count": 25,
   "metadata": {},
   "outputs": [],
   "source": [
    "# https://youtu.be/7IL7LKSLb9I\n",
    "\"\"\"\n",
    "pip install patchify\n",
    "\"\"\"\n",
    "\n",
    "import numpy as np\n",
    "from matplotlib import pyplot as plt\n",
    "from patchify import patchify\n",
    "import tifffile as tiff\n",
    "\n",
    "large_image_stack = tiff.imread(r\"C:\\Users\\HARSHITA\\Downloads\\training.tif\")\n",
    "large_mask_stack = tiff.imread(r\"C:\\Users\\HARSHITA\\Downloads\\training_groundtruth.tif\")\n",
    "\n",
    "for img in range(large_image_stack.shape[0]):\n",
    "\n",
    "    large_image = large_image_stack[img]\n",
    "    \n",
    "    patches_img = patchify(large_image, (256, 256), step=256)  #Step=256 for 256 patches means no overlap\n",
    "    \n",
    "    for i in range(patches_img.shape[0]):\n",
    "        for j in range(patches_img.shape[1]):\n",
    "            \n",
    "            single_patch_img = patches_img[i,j,:,:]\n",
    "            tiff.imwrite(r'C:\\Users\\HARSHITA\\OneDrive\\Documents\\patches/images/' + 'image_' + str(img) + '_' + str(i) + str(j) + \".tif\", single_patch_img)\n",
    "\n",
    "            \n",
    "\n",
    "for msk in range(large_mask_stack.shape[0]):\n",
    "     \n",
    "    large_mask = large_mask_stack[msk]\n",
    "    \n",
    "    patches_mask = patchify(large_mask, (256, 256), step=256)  #Step=256 for 256 patches means no overlap\n",
    "    \n",
    "\n",
    "    for i in range(patches_mask.shape[0]):\n",
    "        for j in range(patches_mask.shape[1]):\n",
    "            \n",
    "            single_patch_mask = patches_mask[i,j,:,:]\n",
    "            tiff.imwrite(r'C:\\Users\\HARSHITA\\OneDrive\\Documents\\patches/masks/' + 'mask_' + str(msk) + '_' + str(i) + str(j) + \".tif\", single_patch_mask)\n",
    "\n",
    "            single_patch_mask = single_patch_mask / 255.\n",
    "            \n"
   ]
  },
  {
   "cell_type": "code",
   "execution_count": null,
   "metadata": {},
   "outputs": [],
   "source": []
  }
 ],
 "metadata": {
  "colab": {
   "provenance": []
  },
  "kernelspec": {
   "display_name": "Python 3 (ipykernel)",
   "language": "python",
   "name": "python3"
  },
  "language_info": {
   "codemirror_mode": {
    "name": "ipython",
    "version": 3
   },
   "file_extension": ".py",
   "mimetype": "text/x-python",
   "name": "python",
   "nbconvert_exporter": "python",
   "pygments_lexer": "ipython3",
   "version": "3.11.4"
  }
 },
 "nbformat": 4,
 "nbformat_minor": 1
}
