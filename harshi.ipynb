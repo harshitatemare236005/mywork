{
 "cells": [
  {
   "cell_type": "code",
   "execution_count": 6,
   "id": "870f4dbc",
   "metadata": {},
   "outputs": [
    {
     "name": "stdout",
     "output_type": "stream",
     "text": [
      "Value of a is :  10\n"
     ]
    }
   ],
   "source": [
    "a=10\n",
    "print('Value of a is : ',a)"
   ]
  },
  {
   "cell_type": "code",
   "execution_count": 9,
   "id": "0e210fe5",
   "metadata": {},
   "outputs": [
    {
     "name": "stdout",
     "output_type": "stream",
     "text": [
      "<class 'int'>\n"
     ]
    },
    {
     "data": {
      "text/plain": [
       "complex"
      ]
     },
     "execution_count": 9,
     "metadata": {},
     "output_type": "execute_result"
    }
   ],
   "source": [
    "a=10\n",
    "b=10+2j\n",
    "print(type(a))\n",
    "type(b)"
   ]
  },
  {
   "cell_type": "code",
   "execution_count": 10,
   "id": "e7b0aea7",
   "metadata": {},
   "outputs": [
    {
     "name": "stdout",
     "output_type": "stream",
     "text": [
      "10\n",
      "<class 'str'>\n"
     ]
    },
    {
     "data": {
      "text/plain": [
       "int"
      ]
     },
     "execution_count": 10,
     "metadata": {},
     "output_type": "execute_result"
    }
   ],
   "source": [
    "x='10'\n",
    "print(x)\n",
    "print(type(x))\n",
    "x=int(x)\n",
    "type(x)"
   ]
  },
  {
   "cell_type": "code",
   "execution_count": 11,
   "id": "0b2fef27",
   "metadata": {},
   "outputs": [
    {
     "name": "stdout",
     "output_type": "stream",
     "text": [
      "Enter the First no. : 10\n",
      "Enter the Second no. : 5\n",
      "Sum of 2 nos.:  15\n",
      "Difference of 2 nos.:  5\n",
      "Product of 2 nos.:  50\n",
      "Division of 2 nos.:  2.0\n",
      "num1 to the power num 2 .:  100000\n"
     ]
    }
   ],
   "source": [
    "a = int(input(\"Enter the First no. : \"))\n",
    "b = int(input(\"Enter the Second no. : \"))\n",
    "print(\"Sum of 2 nos.: \", a+b)\n",
    "print(\"Difference of 2 nos.: \", a-b)\n",
    "print(\"Product of 2 nos.: \", a*b)\n",
    "print(\"Division of 2 nos.: \", a/b)\n",
    "print(\"num1 to the power num 2 .: \", a**b)"
   ]
  },
  {
   "cell_type": "code",
   "execution_count": 12,
   "id": "3c803da0",
   "metadata": {},
   "outputs": [
    {
     "name": "stdout",
     "output_type": "stream",
     "text": [
      "71\n",
      "A\n",
      "EOP\n"
     ]
    }
   ],
   "source": [
    "# Result (Marking)\n",
    "\n",
    "marks= int( input())\n",
    "if marks>=91:\n",
    "    print(\"o\")\n",
    "elif marks>=81:\n",
    "    print(\"A+\")\n",
    "elif marks>=71:\n",
    "    print(\"A\")\n",
    "elif marks>=61:\n",
    "    print(\"B+\")\n",
    "elif marks>=51:\n",
    "    print(\"B\")\n",
    "elif marks>=41:\n",
    "    print(\"C\")\n",
    "else:\n",
    "    print(\"F\")\n",
    "print(\"EOP\")\n"
   ]
  },
  {
   "cell_type": "code",
   "execution_count": 22,
   "id": "9bccbc4a",
   "metadata": {},
   "outputs": [
    {
     "name": "stdout",
     "output_type": "stream",
     "text": [
      "1900\n",
      "1900  is a not leap year\n"
     ]
    }
   ],
   "source": [
    "# Identifying Leap Year\n",
    "\n",
    "year=int(input())\n",
    "if(year%4==0 and year%100!=0) or (year%400==0):\n",
    "    print( year,\"is a leap year\")\n",
    "else:\n",
    "    print(year ,\" is a not leap year\")\n",
    "    "
   ]
  },
  {
   "cell_type": "code",
   "execution_count": 16,
   "id": "7c757700",
   "metadata": {},
   "outputs": [
    {
     "name": "stdout",
     "output_type": "stream",
     "text": [
      "Enter the unit used 900\n",
      "5850.0 is your electricity bill.\n"
     ]
    }
   ],
   "source": [
    "# Generating Electricity Bill\n",
    "\n",
    "a = int (input(\"Enter the unit used \"))\n",
    "if a>100:\n",
    "    if a>200:\n",
    "        if a>300:\n",
    "            if a>400:\n",
    "                t=(a-400)*10+ 100*4 + 100*2.5 + 100*1.5 + (100*0.5)\n",
    "            else:\n",
    "                t=(a%100)*4 + 100*2.5 + 100*1.5 + 100*0.5\n",
    "        else:\n",
    "            t=(a%100)*2.5 + 100*1.5 + 100*0.5\n",
    "    else:\n",
    "        t=(a%100)*1.5 + 100*0.5\n",
    "else:\n",
    "    t=a*0.5\n",
    "\n",
    "print(t ,\"is your electricity bill.\")"
   ]
  },
  {
   "cell_type": "code",
   "execution_count": 23,
   "id": "c5dbb97e",
   "metadata": {},
   "outputs": [
    {
     "name": "stdout",
     "output_type": "stream",
     "text": [
      "45\n",
      "54\n",
      "98\n",
      "98 is the largest no.\n"
     ]
    }
   ],
   "source": [
    "# Greatest of Three numbers\n",
    "\n",
    "a=input()\n",
    "b=input()\n",
    "c=input()\n",
    "\n",
    "if a>b:\n",
    "    if a>c:\n",
    "        print(a,\"is the largest no.\")\n",
    "    else:\n",
    "        print(c,\"is the largest no.\")\n",
    "else:\n",
    "    if b>c:\n",
    "        print(b,\"is the largest no.\")\n",
    "    else:\n",
    "        print(c,\"is the largest no.\")\n"
   ]
  },
  {
   "cell_type": "code",
   "execution_count": 1,
   "id": "b01a8ecf",
   "metadata": {},
   "outputs": [
    {
     "name": "stdout",
     "output_type": "stream",
     "text": [
      "This is python class\n",
      "This is python class\n",
      "This is python class\n",
      "This is python class\n",
      "This is python class\n",
      "This is python class\n",
      "This is python class\n",
      "This is python class\n",
      "This is python class\n",
      "This is python class\n"
     ]
    }
   ],
   "source": [
    "# Knowing Loops\n",
    "\n",
    "i=1\n",
    "while i<11:\n",
    "    print(\"This is python class\")\n",
    "    i +=1\n",
    "\n"
   ]
  },
  {
   "cell_type": "code",
   "execution_count": 3,
   "id": "ca5f4f7a",
   "metadata": {},
   "outputs": [
    {
     "name": "stdout",
     "output_type": "stream",
     "text": [
      "4\n",
      "4 * 1 = 4\n",
      "4 * 2 = 8\n",
      "4 * 3 = 12\n",
      "4 * 4 = 16\n",
      "4 * 5 = 20\n",
      "4 * 6 = 24\n",
      "4 * 7 = 28\n",
      "4 * 8 = 32\n",
      "4 * 9 = 36\n",
      "4 * 10 = 40\n"
     ]
    }
   ],
   "source": [
    "# Table of no.\n",
    "\n",
    "num = int(input())\n",
    "for i in range(1,11):\n",
    "    print(num,\"*\",i,\"=\",i*num)\n",
    "    "
   ]
  },
  {
   "cell_type": "code",
   "execution_count": 5,
   "id": "8b33ee18",
   "metadata": {},
   "outputs": [
    {
     "name": "stdout",
     "output_type": "stream",
     "text": [
      "538\n",
      "16\n"
     ]
    }
   ],
   "source": [
    "# Sum of Digits\n",
    "\n",
    "a=int(input())\n",
    "sum=0\n",
    "while a>0:\n",
    "    sum +=a%10\n",
    "    a //=10\n",
    "print(sum)"
   ]
  },
  {
   "cell_type": "code",
   "execution_count": 1,
   "id": "497f1a25",
   "metadata": {},
   "outputs": [
    {
     "name": "stdout",
     "output_type": "stream",
     "text": [
      "0\n",
      "2\n",
      "4\n",
      "6\n",
      "8\n",
      "10\n",
      "12\n",
      "14\n",
      "16\n",
      "18\n",
      "20\n",
      "22\n",
      "24\n"
     ]
    }
   ],
   "source": [
    "# Print even nos.\n",
    "\n",
    "for i in range(0,25,2):\n",
    "    print(i)"
   ]
  },
  {
   "cell_type": "code",
   "execution_count": 2,
   "id": "f91e4adb",
   "metadata": {},
   "outputs": [
    {
     "name": "stdout",
     "output_type": "stream",
     "text": [
      "printing nos.\n",
      "1\n",
      "2\n",
      "skipping the no.\n",
      "4\n",
      "5\n",
      "skipping the no.\n",
      "7\n",
      "8\n",
      "skipping the no.\n",
      "10\n",
      "11\n",
      "skipping the no.\n",
      "13\n",
      "14\n",
      "skipping the no.\n",
      "16\n",
      "17\n",
      "skipping the no.\n",
      "19\n",
      "20\n",
      "skipping the no.\n",
      "22\n",
      "23\n",
      "skipping the no.\n"
     ]
    }
   ],
   "source": [
    "# continue implementation in for loop\n",
    "\n",
    "print(\"printing nos.\")\n",
    "for i in range(1,25):\n",
    "    if i%3==0:\n",
    "        print (\"skipping the no.\")\n",
    "        continue\n",
    "    print(i)"
   ]
  },
  {
   "cell_type": "code",
   "execution_count": 3,
   "id": "74e49864",
   "metadata": {},
   "outputs": [
    {
     "name": "stdout",
     "output_type": "stream",
     "text": [
      "printing nos.\n",
      "2\n",
      "skipping the no.\n",
      "4\n",
      "5\n",
      "skipping the no.\n",
      "7\n",
      "8\n",
      "skipping the no.\n",
      "10\n",
      "11\n",
      "skipping the no.\n",
      "13\n",
      "14\n",
      "skipping the no.\n",
      "16\n",
      "17\n",
      "skipping the no.\n",
      "19\n",
      "20\n",
      "skipping the no.\n",
      "22\n",
      "23\n",
      "skipping the no.\n"
     ]
    }
   ],
   "source": [
    "# continue implementation in while loop\n",
    "\n",
    "print(\"printing nos.\")\n",
    "i=2\n",
    "while i<25:\n",
    "    if i%3==0:\n",
    "        i+=1\n",
    "        print (\"skipping the no.\")\n",
    "        continue\n",
    "    print(i)\n",
    "    i+=1"
   ]
  },
  {
   "cell_type": "code",
   "execution_count": 11,
   "id": "101f10d0",
   "metadata": {},
   "outputs": [
    {
     "name": "stdout",
     "output_type": "stream",
     "text": [
      "printing nos.\n",
      "1\n",
      "2\n",
      "3\n",
      "4\n",
      "5\n",
      "6\n",
      "7\n",
      "8\n",
      "9\n",
      "skipping the no.\n",
      "end\n"
     ]
    }
   ],
   "source": [
    "# break implementation in for loop\n",
    "\n",
    "print(\"printing nos.\")\n",
    "for i in range(1,101):\n",
    "    if i%10==0:\n",
    "        print (\"skipping the no.\")\n",
    "        break\n",
    "    print(i)\n",
    "print(\"end\")"
   ]
  },
  {
   "cell_type": "code",
   "execution_count": 12,
   "id": "662c90c0",
   "metadata": {},
   "outputs": [
    {
     "name": "stdout",
     "output_type": "stream",
     "text": [
      "2\n",
      "3\n",
      "4\n",
      "5\n",
      "6\n",
      "7\n",
      "8\n",
      "9\n",
      "End\n"
     ]
    }
   ],
   "source": [
    "# break implementation in while loop\n",
    "\n",
    "i=2\n",
    "while i<101:\n",
    "    if i%10==0:\n",
    "        i+=1\n",
    "        break\n",
    "    print(i)\n",
    "    i+=1\n",
    "print(\"End\")"
   ]
  },
  {
   "cell_type": "code",
   "execution_count": 13,
   "id": "5059975f",
   "metadata": {},
   "outputs": [
    {
     "name": "stdout",
     "output_type": "stream",
     "text": [
      "Enter any no.12\n",
      "12 * 10 = 120\n",
      "12 * 9 = 108\n",
      "12 * 8 = 96\n",
      "12 * 7 = 84\n",
      "12 * 6 = 72\n",
      "12 * 5 = 60\n",
      "12 * 4 = 48\n",
      "12 * 3 = 36\n",
      "12 * 2 = 24\n",
      "12 * 1 = 12\n"
     ]
    }
   ],
   "source": [
    "# Reversing a Table\n",
    "\n",
    "a=int(input(\"Enter any no.\"))\n",
    "for i in range(10,0,-1):\n",
    "    print(a,\"*\",i,\"=\",a*i)\n"
   ]
  },
  {
   "cell_type": "code",
   "execution_count": 4,
   "id": "1a299d4d",
   "metadata": {},
   "outputs": [
    {
     "name": "stdout",
     "output_type": "stream",
     "text": [
      "Enter any no.5\n",
      "*****\n",
      "****\n",
      "***\n",
      "**\n",
      "*\n"
     ]
    }
   ],
   "source": [
    "# Printing Patterns\n",
    "\n",
    "a=int(input(\"Enter any no.\"))\n",
    "\n",
    "for i in range(a,0,-1):\n",
    "    print(i*\"*\")\n",
    "    \n"
   ]
  },
  {
   "cell_type": "code",
   "execution_count": 6,
   "id": "bcead9b7",
   "metadata": {},
   "outputs": [
    {
     "name": "stdout",
     "output_type": "stream",
     "text": [
      "Enter any no.5\n",
      "*\n",
      "**\n",
      "***\n",
      "****\n",
      "*****\n"
     ]
    }
   ],
   "source": [
    "# Printing Patterns\n",
    "a=int(input(\"Enter any no.\"))\n",
    "\n",
    "for i in range(1,a+1):\n",
    "    print(i*\"*\")"
   ]
  },
  {
   "cell_type": "code",
   "execution_count": 1,
   "id": "8b0d525e",
   "metadata": {},
   "outputs": [
    {
     "name": "stdout",
     "output_type": "stream",
     "text": [
      "5\n",
      "* * * * * \n",
      " * * * * \n",
      "  * * * \n",
      "   * * \n",
      "    * \n",
      "   * * \n",
      "  * * * \n",
      " * * * * \n",
      "* * * * * \n"
     ]
    }
   ],
   "source": [
    "# printing Patterns\n",
    "a=int(input())\n",
    "for i in range(a,0,-1):\n",
    "    print((a-i)*\" \"+i*\"* \")\n",
    "for i in range(2,a+1):\n",
    "    print((a-i)*\" \" + i*\"* \")"
   ]
  },
  {
   "cell_type": "code",
   "execution_count": 8,
   "id": "80e3b193",
   "metadata": {},
   "outputs": [
    {
     "name": "stdout",
     "output_type": "stream",
     "text": [
      "5\n",
      "*\n",
      "**\n",
      "***\n",
      "****\n",
      "*****\n",
      "****\n",
      "***\n",
      "**\n",
      "*\n"
     ]
    }
   ],
   "source": [
    "# printing Patterns\n",
    "a=int(input())\n",
    "for i in range(1,a+1): \n",
    "    print(i*\"*\")\n",
    "for i in range(a-1,0,-1):\n",
    "    print(i*\"*\")"
   ]
  },
  {
   "cell_type": "code",
   "execution_count": 9,
   "id": "573e2089",
   "metadata": {},
   "outputs": [
    {
     "name": "stdout",
     "output_type": "stream",
     "text": [
      "4\n",
      "    *\n",
      "   ***\n",
      "  *****\n",
      " *******\n"
     ]
    }
   ],
   "source": [
    "# printing Patterns\n",
    "a=int(input())\n",
    "for i in range(0,a):\n",
    "    print((a-i)*\" \" + (2*i+1)*\"*\")\n"
   ]
  },
  {
   "cell_type": "code",
   "execution_count": 9,
   "id": "ba67e2a4",
   "metadata": {},
   "outputs": [
    {
     "name": "stdout",
     "output_type": "stream",
     "text": [
      "5\n",
      "***********\n",
      " *********\n",
      "  *******\n",
      "   *****\n",
      "    ***\n"
     ]
    }
   ],
   "source": [
    "# printing Patterns\n",
    "a=int(input())\n",
    "for i in range(a,0,-1):\n",
    "    print((a-i)*\" \" + (2*i+1)*\"*\")\n"
   ]
  },
  {
   "cell_type": "code",
   "execution_count": 12,
   "id": "af39e76c",
   "metadata": {},
   "outputs": [
    {
     "name": "stdout",
     "output_type": "stream",
     "text": [
      "Enter the string  Har00ita4\n",
      "Alphabets =  6\n",
      "Numbers =  3\n"
     ]
    }
   ],
   "source": [
    "# To input a string and count the no. of alphabets and nos,\n",
    "\n",
    "countA =0\n",
    "countN =0\n",
    "str = input(\"Enter the string  \")\n",
    "nstr =\"\"\n",
    "for i in str:\n",
    "    if (i>=\"A\" and i<=\"Z\")or(i>=\"a\" and i<=\"z\"):\n",
    "        nstr += i\n",
    "print(\"Alphabets = \",len(nstr))\n",
    "print(\"Numbers = \",len(str)-len(nstr))"
   ]
  },
  {
   "cell_type": "code",
   "execution_count": 11,
   "id": "5459279b",
   "metadata": {},
   "outputs": [
    {
     "name": "stdout",
     "output_type": "stream",
     "text": [
      "Enter the string  Har00ita4\n",
      "HAR00ITA4\n"
     ]
    }
   ],
   "source": [
    "# Convert string to upper case\n",
    "\n",
    "str1 = input(\"Enter the string  \")\n",
    "print(str1.upper())"
   ]
  },
  {
   "cell_type": "code",
   "execution_count": 27,
   "id": "1b36b5a5",
   "metadata": {},
   "outputs": [
    {
     "name": "stdout",
     "output_type": "stream",
     "text": [
      "Enter the String  ydgfyag\n",
      "zehgzbh\n"
     ]
    }
   ],
   "source": [
    "# Change every letter of string to its next letter\n",
    "\n",
    "str1 = input(\"Enter the String  \")\n",
    "nstr=\"\"\n",
    "stra= \"ABCDEFGHIJKLMNOPQRSTUWXYZ\"\n",
    "strA= \"abcdefghijklmnopqrstuvwxyz\"\n",
    "\n",
    "for i in str1:\n",
    "    if i in strA:\n",
    "        nstr += strA[strA.index(i)+1]\n",
    "    elif i in stra:\n",
    "        nstr += stra[stra.index(i)+1]\n",
    "    else:\n",
    "        print(\"Enter a Valid String\")\n",
    "print(nstr)\n"
   ]
  },
  {
   "cell_type": "code",
   "execution_count": 28,
   "id": "482eea6d",
   "metadata": {},
   "outputs": [
    {
     "name": "stdout",
     "output_type": "stream",
     "text": [
      "Enter the String  my-name-is-harhita\n",
      "my name is harhita\n"
     ]
    }
   ],
   "source": [
    "# WAP to change a hyphen separated string to whitespace separated string\n",
    "\n",
    "str1 = input(\"Enter the String  \")\n",
    "nstr=\"\"\n",
    "\n",
    "for i in str1:\n",
    "    if i==\"-\":\n",
    "        nstr += \" \"\n",
    "    else:\n",
    "        nstr += str1[str1.index(i)]\n",
    "print(nstr)\n"
   ]
  },
  {
   "cell_type": "code",
   "execution_count": 7,
   "id": "946ca991",
   "metadata": {},
   "outputs": [
    {
     "name": "stdout",
     "output_type": "stream",
     "text": [
      "[1, 2, 3, 4, 5]\n",
      "3\n"
     ]
    },
    {
     "data": {
      "text/plain": [
       "list"
      ]
     },
     "execution_count": 7,
     "metadata": {},
     "output_type": "execute_result"
    }
   ],
   "source": [
    "# List Fuction Implementation\n",
    "\n",
    "l1=[1,2,3]\n",
    "l2=[4,5]\n",
    "l1.extend(l2)\n",
    "print(l1)\n",
    "print(l1[2])\n",
    "l2=[]\n",
    "type(l2)"
   ]
  },
  {
   "cell_type": "code",
   "execution_count": 1,
   "id": "9ff445cd",
   "metadata": {},
   "outputs": [
    {
     "name": "stdout",
     "output_type": "stream",
     "text": [
      "no. of entries to be in list3\n",
      "Enter the values in list\n",
      "4\n",
      "5\n",
      "4\n",
      "[4, 5, 4]\n",
      "[0, 0, 0, 0, 2, 1, 0, 0, 0, 0]\n"
     ]
    }
   ],
   "source": [
    "# WAP to check the frequency of nos. in list\n",
    "\n",
    "n=int(input(\"no. of entries to be in list : \"))\n",
    "print(\"Enter the values in list\")\n",
    "l1=[]\n",
    "l2=[]\n",
    "\n",
    "for x in range(0,n):\n",
    "    l=int(input())\n",
    "    if l>10:\n",
    "        print(\"INVALID DATA\")\n",
    "    else :\n",
    "        l1.append(l)\n",
    "    \n",
    "for y in range(0,10) :\n",
    "    count = 0\n",
    "    for z in l1:\n",
    "        if y==z:\n",
    "            count+=1\n",
    "    l2.append(count)\n",
    "    \n",
    "print(l1)\n",
    "print(l2)"
   ]
  },
  {
   "cell_type": "code",
   "execution_count": 13,
   "id": "653cf359",
   "metadata": {},
   "outputs": [
    {
     "name": "stdout",
     "output_type": "stream",
     "text": [
      "Enter the sequence hello world and practice makes perfect and hello world again\n",
      "['again', 'and', 'hello', 'makes', 'perfect', 'practice', 'world']\n"
     ]
    }
   ],
   "source": [
    "# Write a program that accepts a sequence of whitespace separated words as input and prints the words after\n",
    "#removing all duplicate words and sorting them alphanumerically.\n",
    "'''Suppose the following input is supplied to the program:\n",
    "hello world and practice makes perfect and hello world again\n",
    "Then, the output should be:\n",
    "again and hello makes perfect practice world'''\n",
    "\n",
    "n=input(\"Enter the sequence \")\n",
    "l1 = n.split(\" \")\n",
    "l1.sort()\n",
    "l2 = []\n",
    "\n",
    "for x in l1:\n",
    "    if x not in l2:\n",
    "        l2.append(x)\n",
    "        \n",
    "print(l2)"
   ]
  },
  {
   "cell_type": "code",
   "execution_count": 27,
   "id": "6576171a",
   "metadata": {},
   "outputs": [
    {
     "name": "stdout",
     "output_type": "stream",
     "text": [
      "Enter the sequence 1001,1010,0101,1100\n",
      "1\n",
      "1010\n",
      "0101\n"
     ]
    }
   ],
   "source": [
    "# Write a program which accepts a sequence of comma separated 4 digit binary numbers as its input and then check whether they are divisible by 5 or not. The numbers that are divisible by 5 are to be printed in a comma separated sequence.\n",
    "'''Example:\n",
    "0100,0011,1010,1001\n",
    "Then the output should be:\n",
    "1010\n",
    "Notes: Assume the data is input by console.\n",
    "'''\n",
    "n=input(\"Enter the sequence \")\n",
    "l1 = n.split(\",\")\n",
    "\n",
    "for i in l1:\n",
    "    x1 = int(i[0])\n",
    "    x2 = int(i[1])\n",
    "    x3 = int(i[2])\n",
    "    x4 = int(i[3])\n",
    "    x = ((x1*8)+(x2*4)+(x3*2)+(x4))\n",
    "    \n",
    "    if x%5==0:\n",
    "        print(i)\n",
    "        "
   ]
  },
  {
   "cell_type": "code",
   "execution_count": 28,
   "id": "376455ba",
   "metadata": {},
   "outputs": [
    {
     "name": "stdout",
     "output_type": "stream",
     "text": [
      "Enter the no. of Entries : 5\n",
      "name= tom\n",
      "age= 19\n",
      "score= 80\n",
      "name= John\n",
      "age= 20\n",
      "score= 19\n",
      "name= Jony\n",
      "age= 17,91\n",
      "score= Jony\n",
      "name= 17\n",
      "age= 93\n",
      "score= 98\n",
      "name= json\n",
      "age= 21\n",
      "score= 56\n",
      "[('17', '93', '98'), ('John', '20', '19'), ('Jony', '17,91', 'Jony'), ('json', '21', '56'), ('tom', '19', '80')]\n"
     ]
    }
   ],
   "source": [
    "# You are required to write a program to sort the (name, age, height) tuples by ascending order where name is string, age and height are numbers. The tuples are input by console. The sort criteria is:\n",
    "'''1: Sort based on name;\n",
    "2: Then sort based on age;\n",
    "3: Then sort by score.\n",
    "The priority is that name > age > score.\n",
    "If the following tuples are given as input to the program:\n",
    "Tom,19,80\n",
    "John,20,90\n",
    "Jony,17,91\n",
    "Jony,17,93\n",
    "Json,21,85\n",
    "Then, the output of the program should be:\n",
    "[('John', '20', '90'), ('Jony', '17', '91'), ('Jony', '17', '93'), ('Json', '21', '85'), ('Tom', '19', '80')]\n",
    "\n",
    "Hints:\n",
    "In case of input data being supplied to the question, it should be assumed to be a console input.\n",
    "We use itemgetter to enable multiple sort keys.'''\n",
    "\n",
    "n= int(input(\"Enter the no. of Entries : \"))\n",
    "l=[]\n",
    "for i in range(n):\n",
    "    x=(input(\"name= \"),input(\"age= \"),input(\"score= \"))\n",
    "    l.append(x)\n",
    "    \n",
    "l.sort()\n",
    "\n",
    "print(l)"
   ]
  },
  {
   "cell_type": "code",
   "execution_count": null,
   "id": "41530a20",
   "metadata": {},
   "outputs": [],
   "source": []
  },
  {
   "cell_type": "code",
   "execution_count": 1,
   "id": "445c6e96",
   "metadata": {},
   "outputs": [
    {
     "name": "stdout",
     "output_type": "stream",
     "text": [
      " Enter your first name : Vaishnavi \n",
      " Enter your last name : Kumari\n",
      "Vaishnavi Kumari\n"
     ]
    }
   ],
   "source": [
    "# Concatenation of Strings\n",
    "\n",
    "str1 = input(\" Enter your first name : \")\n",
    "str2 = input(\" Enter your last name : \")\n",
    "\n",
    "print(str1+str2)"
   ]
  },
  {
   "cell_type": "code",
   "execution_count": 4,
   "id": "d46c60bd",
   "metadata": {},
   "outputs": [
    {
     "name": "stdout",
     "output_type": "stream",
     "text": [
      "Enter the no. of inputs in list : 7\n",
      "45,67,98,31,64,09,83\n",
      "7\n",
      "45\n",
      "Enter any no. : 54\n",
      "['45', '67', '98', '31', '64', '09', '83', '54']\n",
      "45\n",
      "['67', '98', '31', '64', '09', '83', '54']\n",
      "['54', '83', '09', '64', '31', '98', '67']\n",
      "['09', '31', '54', '64', '67', '83', '98']\n"
     ]
    }
   ],
   "source": [
    "# List functions Implementation\n",
    "\n",
    "\n",
    "x= int(input(\"Enter the no. of inputs in list : \"))\n",
    "l1 = [x  for x in input().split(\",\")]\n",
    "\n",
    "print(len(l1))\n",
    "print(l1[0])\n",
    "\n",
    "y = input(\"Enter any no. : \")\n",
    "l1.append(y)\n",
    "print (l1)\n",
    "print(l1[-len(l1)])\n",
    "\n",
    "l1.remove(l1[0])\n",
    "print(l1)\n",
    "l1.reverse()\n",
    "print(l1)\n",
    "l1.sort()\n",
    "print(l1)\n"
   ]
  },
  {
   "cell_type": "code",
   "execution_count": 6,
   "id": "de9ca2ed",
   "metadata": {},
   "outputs": [
    {
     "name": "stdout",
     "output_type": "stream",
     "text": [
      "[23, 45, 98, 87, 67, 85]\n"
     ]
    }
   ],
   "source": [
    "\n",
    "l1=[23,45,98,87]\n",
    "l2 = [67,85]\n",
    "print(l1+l2)"
   ]
  },
  {
   "cell_type": "code",
   "execution_count": 18,
   "id": "e6dfd81e",
   "metadata": {},
   "outputs": [
    {
     "name": "stdout",
     "output_type": "stream",
     "text": [
      "{'Mumbai': 'Maharastra', 'Delhi': 'Delhi', 'Chennai': 'Tamil Naidu', 'Kolkata': 'West Bengal'}\n",
      "dict_values(['Maharastra', 'Delhi', 'Tamil Naidu', 'West Bengal', 'Madhya Pradesh'])\n"
     ]
    },
    {
     "data": {
      "text/plain": [
       "dict_items([('Mumbai', 'Maharastra'), ('Delhi', 'Delhi'), ('Chennai', 'Tamil Naidu'), ('Kolkata', 'West Bengal'), ('Indore', 'Madhya Pradesh')])"
      ]
     },
     "execution_count": 18,
     "metadata": {},
     "output_type": "execute_result"
    }
   ],
   "source": [
    "# Dictionary Implementation\n",
    "\n",
    "city = dict([('Mumbai','Maharastra'),('Delhi','Delhi'),('Chennai','Tamil Naidu'),('Kolkata','West Bengal')])\n",
    "print(city)\n",
    "city.update([('Indore','Madhya Pradesh')])\n",
    "print(city.values())\n",
    "city.items()"
   ]
  },
  {
   "cell_type": "code",
   "execution_count": 21,
   "id": "0fcc0436",
   "metadata": {},
   "outputs": [
    {
     "data": {
      "text/plain": [
       "[2, 4]"
      ]
     },
     "execution_count": 21,
     "metadata": {},
     "output_type": "execute_result"
    }
   ],
   "source": [
    "l1=[1,2,3,4,5,6]\n",
    "l1[1:5:2]\n",
    "\n"
   ]
  },
  {
   "cell_type": "code",
   "execution_count": 20,
   "id": "674d0e47",
   "metadata": {},
   "outputs": [
    {
     "data": {
      "text/plain": [
       "('Indore', 'Madhya Pradesh')"
      ]
     },
     "execution_count": 20,
     "metadata": {},
     "output_type": "execute_result"
    }
   ],
   "source": [
    "city.pop('Mumbai')\n",
    "city.popitem()"
   ]
  },
  {
   "cell_type": "code",
   "execution_count": 48,
   "id": "30914703",
   "metadata": {},
   "outputs": [
    {
     "name": "stdout",
     "output_type": "stream",
     "text": [
      "(1, 2, 3, 4, 5, 6, 7)\n",
      "1\n",
      "2\n",
      "(1, 2, 3, 4, 5, 6, 7, 9)\n"
     ]
    }
   ],
   "source": [
    "tuple1 = (1,2,3,4,5,6,7)\n",
    "print(tuple1)\n",
    "    \n",
    "len(tuple1)\n",
    "2*tuple1\n",
    "x1,x2,x3,x4,x5,x6,x7 = tuple1\n",
    "print(x1)\n",
    "print(x2)\n",
    "tuple1[2:5]\n",
    " \n",
    "y=(9,)\n",
    "\n",
    "tuple2 = tuple1 + y\n",
    "\n",
    "print(tuple2)\n"
   ]
  },
  {
   "cell_type": "code",
   "execution_count": 1,
   "id": "6ffcda16",
   "metadata": {},
   "outputs": [
    {
     "name": "stdout",
     "output_type": "stream",
     "text": [
      "Enter the no. you want to play : 5\n",
      "\"Enter\n",
      "    1 for Rock\n",
      "    2 for Paper\n",
      "    3 for Scissor\n",
      "3\n",
      "Rock,Scissor\n",
      "You Lose\n",
      "\"Enter\n",
      "    1 for Rock\n",
      "    2 for Paper\n",
      "    3 for Scissor\n",
      "2\n",
      "Paper,Paper\n",
      "Draw\n",
      "\"Enter\n",
      "    1 for Rock\n",
      "    2 for Paper\n",
      "    3 for Scissor\n",
      "2\n",
      "Rock,Paper\n",
      " You Win \n",
      "\"Enter\n",
      "    1 for Rock\n",
      "    2 for Paper\n",
      "    3 for Scissor\n",
      "1\n",
      "Paper,Rock\n",
      "You Lose\n",
      "\"Enter\n",
      "    1 for Rock\n",
      "    2 for Paper\n",
      "    3 for Scissor\n",
      "3\n",
      "Rock,Scissor\n",
      "You Lose\n"
     ]
    }
   ],
   "source": [
    "# Game : Stone,Paper,Scissor\n",
    "\n",
    "from random import random\n",
    "\n",
    "def RPC(b):\n",
    "    a = random()\n",
    "    if (a<=0.33):\n",
    "        if(b==1):\n",
    "            print(\"Rock,Rock\")\n",
    "            print(\"Draw\")\n",
    "        elif(b==2):\n",
    "            print(\"Rock,Paper\")\n",
    "            print(\" You Win \")\n",
    "        else:\n",
    "            print(\"Rock,Scissor\")\n",
    "            print(\"You Lose\")\n",
    "    elif (a<=0.66):\n",
    "        if(b==2):\n",
    "            print(\"Paper,Paper\")\n",
    "            print(\"Draw\")\n",
    "        elif(b==3):\n",
    "            print(\"Paper,Scissor\")\n",
    "            print(\" You Win \")\n",
    "        else:\n",
    "            print(\"Paper,Rock\") \n",
    "            print(\"You Lose\")\n",
    "    else :\n",
    "        if(b==3):\n",
    "            print(\"Scissor,Scissor\")\n",
    "            print(\"Draw\")\n",
    "        elif(b==1):\n",
    "            print(\"Scissor,Rock\")\n",
    "            print(\" You Win \")\n",
    "        else:\n",
    "            print(\"Scissor,Paper\")\n",
    "            print(\"You Lose\")\n",
    "            \n",
    "c=int(input(\"Enter the no. you want to play : \"))\n",
    "\n",
    "for x in range(c):\n",
    "    print(\"\"\"\"Enter\n",
    "    1 for Rock\n",
    "    2 for Paper\n",
    "    3 for Scissor\"\"\")\n",
    "    b=int(input())\n",
    "    RPC(b)"
   ]
  },
  {
   "cell_type": "markdown",
   "id": "702fd0eb",
   "metadata": {},
   "source": []
  },
  {
   "cell_type": "code",
   "execution_count": 3,
   "id": "7f2e1e9e",
   "metadata": {},
   "outputs": [
    {
     "name": "stdout",
     "output_type": "stream",
     "text": [
      "[1 2 3]\n"
     ]
    }
   ],
   "source": [
    "# Library :NUMPY\n",
    "\n",
    "import numpy as np\n",
    "\n",
    "a = np.array([1,2,3],dtype='int32')\n",
    "print(a)"
   ]
  },
  {
   "cell_type": "code",
   "execution_count": 4,
   "id": "6603db83",
   "metadata": {},
   "outputs": [
    {
     "name": "stdout",
     "output_type": "stream",
     "text": [
      "[[9. 8. 7.]\n",
      " [6. 5. 4.]]\n"
     ]
    }
   ],
   "source": [
    "b = np.array([[9.0,8.0,7.0],[6.0,5.0,4.0]])\n",
    "print(b)"
   ]
  },
  {
   "cell_type": "code",
   "execution_count": 5,
   "id": "2ec74aa5",
   "metadata": {},
   "outputs": [
    {
     "data": {
      "text/plain": [
       "1"
      ]
     },
     "execution_count": 5,
     "metadata": {},
     "output_type": "execute_result"
    }
   ],
   "source": [
    "a.ndim"
   ]
  },
  {
   "cell_type": "code",
   "execution_count": 6,
   "id": "95524f1e",
   "metadata": {},
   "outputs": [
    {
     "data": {
      "text/plain": [
       "(3,)"
      ]
     },
     "execution_count": 6,
     "metadata": {},
     "output_type": "execute_result"
    }
   ],
   "source": [
    "a.shape"
   ]
  },
  {
   "cell_type": "code",
   "execution_count": 7,
   "id": "cd115fe8",
   "metadata": {},
   "outputs": [
    {
     "data": {
      "text/plain": [
       "dtype('float64')"
      ]
     },
     "execution_count": 7,
     "metadata": {},
     "output_type": "execute_result"
    }
   ],
   "source": [
    "b.dtype"
   ]
  },
  {
   "cell_type": "code",
   "execution_count": 8,
   "id": "709fd3f4",
   "metadata": {},
   "outputs": [
    {
     "data": {
      "text/plain": [
       "4"
      ]
     },
     "execution_count": 8,
     "metadata": {},
     "output_type": "execute_result"
    }
   ],
   "source": [
    "a.itemsize"
   ]
  },
  {
   "cell_type": "code",
   "execution_count": 9,
   "id": "cf7cf949",
   "metadata": {},
   "outputs": [
    {
     "data": {
      "text/plain": [
       "12"
      ]
     },
     "execution_count": 9,
     "metadata": {},
     "output_type": "execute_result"
    }
   ],
   "source": [
    "a.nbytes"
   ]
  },
  {
   "cell_type": "code",
   "execution_count": 10,
   "id": "91686a9d",
   "metadata": {},
   "outputs": [
    {
     "data": {
      "text/plain": [
       "3"
      ]
     },
     "execution_count": 10,
     "metadata": {},
     "output_type": "execute_result"
    }
   ],
   "source": [
    "a.size"
   ]
  },
  {
   "cell_type": "code",
   "execution_count": 11,
   "id": "6abee894",
   "metadata": {},
   "outputs": [],
   "source": [
    "a=np.array([[1,2,3,4,5,6,7],[8,9,10,11,12,13,14]])"
   ]
  },
  {
   "cell_type": "code",
   "execution_count": 12,
   "id": "95ee227b",
   "metadata": {},
   "outputs": [],
   "source": [
    "t=a"
   ]
  },
  {
   "cell_type": "code",
   "execution_count": 13,
   "id": "302fabdb",
   "metadata": {},
   "outputs": [],
   "source": [
    "t[0,0]=10"
   ]
  },
  {
   "cell_type": "code",
   "execution_count": 14,
   "id": "0d1b9b06",
   "metadata": {},
   "outputs": [
    {
     "data": {
      "text/plain": [
       "array([[10,  2,  3,  4,  5,  6,  7],\n",
       "       [ 8,  9, 10, 11, 12, 13, 14]])"
      ]
     },
     "execution_count": 14,
     "metadata": {},
     "output_type": "execute_result"
    }
   ],
   "source": [
    "a"
   ]
  },
  {
   "cell_type": "code",
   "execution_count": 15,
   "id": "c876281b",
   "metadata": {},
   "outputs": [
    {
     "data": {
      "text/plain": [
       "13"
      ]
     },
     "execution_count": 15,
     "metadata": {},
     "output_type": "execute_result"
    }
   ],
   "source": [
    "# get a specific elements\n",
    "a[1,5]"
   ]
  },
  {
   "cell_type": "code",
   "execution_count": 16,
   "id": "78d09d2d",
   "metadata": {},
   "outputs": [
    {
     "data": {
      "text/plain": [
       "array([10,  2,  3,  4,  5,  6,  7])"
      ]
     },
     "execution_count": 16,
     "metadata": {},
     "output_type": "execute_result"
    }
   ],
   "source": [
    "# get a specific row\n",
    "a[0,:]"
   ]
  },
  {
   "cell_type": "code",
   "execution_count": 17,
   "id": "78850361",
   "metadata": {},
   "outputs": [
    {
     "data": {
      "text/plain": [
       "array([ 3, 10])"
      ]
     },
     "execution_count": 17,
     "metadata": {},
     "output_type": "execute_result"
    }
   ],
   "source": [
    "# Get a specific col\n",
    "a[:,2]"
   ]
  },
  {
   "cell_type": "code",
   "execution_count": 18,
   "id": "a81df721",
   "metadata": {},
   "outputs": [
    {
     "data": {
      "text/plain": [
       "array([2, 4, 6])"
      ]
     },
     "execution_count": 18,
     "metadata": {},
     "output_type": "execute_result"
    }
   ],
   "source": [
    "# Getting a Little more fancy [start index: endindex:stepsize]\n",
    "a[0,1:-1:2]"
   ]
  },
  {
   "cell_type": "code",
   "execution_count": 19,
   "id": "284bf6f0",
   "metadata": {},
   "outputs": [],
   "source": [
    "a[1,5] = 20"
   ]
  },
  {
   "cell_type": "code",
   "execution_count": 20,
   "id": "1e22e13e",
   "metadata": {},
   "outputs": [
    {
     "name": "stdout",
     "output_type": "stream",
     "text": [
      "[[10  2  1  4  5  6  7]\n",
      " [ 8  9  2 11 12 20 14]]\n"
     ]
    }
   ],
   "source": [
    "a[:,2]=[1,2]\n",
    "print(a)"
   ]
  },
  {
   "cell_type": "code",
   "execution_count": 21,
   "id": "bba1f1db",
   "metadata": {},
   "outputs": [
    {
     "name": "stdout",
     "output_type": "stream",
     "text": [
      "[[[1 2]\n",
      "  [3 4]]\n",
      "\n",
      " [[5 6]\n",
      "  [7 8]]]\n"
     ]
    }
   ],
   "source": [
    "b = np.array([[[1,2],[3,4]],[[5,6],[7,8]]])\n",
    "print(b)"
   ]
  },
  {
   "cell_type": "code",
   "execution_count": 22,
   "id": "e8f67573",
   "metadata": {},
   "outputs": [
    {
     "data": {
      "text/plain": [
       "4"
      ]
     },
     "execution_count": 22,
     "metadata": {},
     "output_type": "execute_result"
    }
   ],
   "source": [
    "# get a specific element (work out side in)\n",
    "b[0,1,1]"
   ]
  },
  {
   "cell_type": "code",
   "execution_count": 23,
   "id": "5d9379c7",
   "metadata": {},
   "outputs": [
    {
     "name": "stdout",
     "output_type": "stream",
     "text": [
      "[[[1 2]\n",
      "  [9 9]]\n",
      "\n",
      " [[5 6]\n",
      "  [8 8]]]\n"
     ]
    }
   ],
   "source": [
    "# Replace\n",
    "b[:,1,:] = [[9,9],[8,8]]\n",
    "print(b)"
   ]
  },
  {
   "cell_type": "code",
   "execution_count": 24,
   "id": "cd54a518",
   "metadata": {},
   "outputs": [
    {
     "data": {
      "text/plain": [
       "array([[0., 0., 0.],\n",
       "       [0., 0., 0.]])"
      ]
     },
     "execution_count": 24,
     "metadata": {},
     "output_type": "execute_result"
    }
   ],
   "source": [
    "#All 0s matrix\n",
    "np.zeros((2,3))"
   ]
  },
  {
   "cell_type": "code",
   "execution_count": 25,
   "id": "257326c8",
   "metadata": {},
   "outputs": [
    {
     "data": {
      "text/plain": [
       "array([[[1, 1],\n",
       "        [1, 1],\n",
       "        [1, 1],\n",
       "        [1, 1]],\n",
       "\n",
       "       [[1, 1],\n",
       "        [1, 1],\n",
       "        [1, 1],\n",
       "        [1, 1]],\n",
       "\n",
       "       [[1, 1],\n",
       "        [1, 1],\n",
       "        [1, 1],\n",
       "        [1, 1]],\n",
       "\n",
       "       [[1, 1],\n",
       "        [1, 1],\n",
       "        [1, 1],\n",
       "        [1, 1]]])"
      ]
     },
     "execution_count": 25,
     "metadata": {},
     "output_type": "execute_result"
    }
   ],
   "source": [
    "# All 1s matrix\n",
    "np.ones((4,4,2),dtype='int32')"
   ]
  },
  {
   "cell_type": "code",
   "execution_count": 26,
   "id": "9981946f",
   "metadata": {},
   "outputs": [
    {
     "data": {
      "text/plain": [
       "array([[99, 99],\n",
       "       [99, 99]])"
      ]
     },
     "execution_count": 26,
     "metadata": {},
     "output_type": "execute_result"
    }
   ],
   "source": [
    "# Any other no.\n",
    "np.full((2,2),99)"
   ]
  },
  {
   "cell_type": "code",
   "execution_count": 27,
   "id": "a1fd5557",
   "metadata": {},
   "outputs": [
    {
     "data": {
      "text/plain": [
       "array([[4, 4, 4, 4, 4, 4, 4],\n",
       "       [4, 4, 4, 4, 4, 4, 4]])"
      ]
     },
     "execution_count": 27,
     "metadata": {},
     "output_type": "execute_result"
    }
   ],
   "source": [
    "#Any other no.(full_like)\n",
    "np.full_like(a,4)"
   ]
  },
  {
   "cell_type": "code",
   "execution_count": 28,
   "id": "3dd03384",
   "metadata": {},
   "outputs": [
    {
     "data": {
      "text/plain": [
       "array([[0.47080849, 0.98299602],\n",
       "       [0.1766759 , 0.31896063],\n",
       "       [0.31829992, 0.47438801],\n",
       "       [0.98157223, 0.53149983]])"
      ]
     },
     "execution_count": 28,
     "metadata": {},
     "output_type": "execute_result"
    }
   ],
   "source": [
    "# Random decimal nos.\n",
    "np.random.rand(4,2)"
   ]
  },
  {
   "cell_type": "code",
   "execution_count": 29,
   "id": "753ea3c0",
   "metadata": {},
   "outputs": [
    {
     "data": {
      "text/plain": [
       "array([[ 2,  5,  2],\n",
       "       [ 7, -4, -3],\n",
       "       [-3,  6, -2]])"
      ]
     },
     "execution_count": 29,
     "metadata": {},
     "output_type": "execute_result"
    }
   ],
   "source": [
    "# Random Integer values\n",
    "\n",
    "np.random.randint(-4,8,size=(3,3))"
   ]
  },
  {
   "cell_type": "code",
   "execution_count": 30,
   "id": "d911b245",
   "metadata": {},
   "outputs": [
    {
     "data": {
      "text/plain": [
       "array([[1., 0., 0., 0., 0.],\n",
       "       [0., 1., 0., 0., 0.],\n",
       "       [0., 0., 1., 0., 0.],\n",
       "       [0., 0., 0., 1., 0.],\n",
       "       [0., 0., 0., 0., 1.]])"
      ]
     },
     "execution_count": 30,
     "metadata": {},
     "output_type": "execute_result"
    }
   ],
   "source": [
    "# Identity Matrix\n",
    "np.identity(5)"
   ]
  },
  {
   "cell_type": "code",
   "execution_count": 31,
   "id": "ce654604",
   "metadata": {},
   "outputs": [
    {
     "name": "stdout",
     "output_type": "stream",
     "text": [
      "[[1 2 3]\n",
      " [1 2 3]\n",
      " [1 2 3]]\n"
     ]
    }
   ],
   "source": [
    "# Repeat an array\n",
    "arr = np.array([[1,2,3]])\n",
    "r1 = np.repeat(arr,3,axis=0)\n",
    "print(r1)"
   ]
  },
  {
   "cell_type": "code",
   "execution_count": 32,
   "id": "ec51649f",
   "metadata": {},
   "outputs": [
    {
     "name": "stdout",
     "output_type": "stream",
     "text": [
      "[[1. 1. 1. 1. 1.]\n",
      " [1. 1. 1. 1. 1.]\n",
      " [1. 1. 1. 1. 1.]\n",
      " [1. 1. 1. 1. 1.]\n",
      " [1. 1. 1. 1. 1.]]\n",
      "[[0. 0. 0.]\n",
      " [0. 9. 0.]\n",
      " [0. 0. 0.]]\n",
      "[[1. 1. 1. 1. 1.]\n",
      " [1. 0. 0. 0. 1.]\n",
      " [1. 0. 9. 0. 1.]\n",
      " [1. 0. 0. 0. 1.]\n",
      " [1. 1. 1. 1. 1.]]\n"
     ]
    }
   ],
   "source": [
    "\n",
    "output = np.ones((5,5))\n",
    "print(output)\n",
    "\n",
    "z= np.zeros((3,3))\n",
    "z[1,1]=9\n",
    "print(z)\n",
    "\n",
    "output[1:-1,1:-1] =z\n",
    "print(output)"
   ]
  },
  {
   "cell_type": "code",
   "execution_count": 33,
   "id": "2f01770b",
   "metadata": {},
   "outputs": [
    {
     "name": "stdout",
     "output_type": "stream",
     "text": [
      "[1 2 3 4]\n"
     ]
    }
   ],
   "source": [
    "a= np.array([1,2,3,4])\n",
    "b=a.copy()\n",
    "b[0]=100\n",
    "print(a)\n"
   ]
  },
  {
   "cell_type": "code",
   "execution_count": 34,
   "id": "43bcba4a",
   "metadata": {},
   "outputs": [
    {
     "data": {
      "text/plain": [
       "array([3, 4, 5, 6])"
      ]
     },
     "execution_count": 34,
     "metadata": {},
     "output_type": "execute_result"
    }
   ],
   "source": [
    "a+2"
   ]
  },
  {
   "cell_type": "code",
   "execution_count": 35,
   "id": "7982fe54",
   "metadata": {},
   "outputs": [
    {
     "data": {
      "text/plain": [
       "array([-1,  0,  1,  2])"
      ]
     },
     "execution_count": 35,
     "metadata": {},
     "output_type": "execute_result"
    }
   ],
   "source": [
    "a-2"
   ]
  },
  {
   "cell_type": "code",
   "execution_count": 36,
   "id": "f0d92bd4",
   "metadata": {},
   "outputs": [
    {
     "data": {
      "text/plain": [
       "array([2, 4, 6, 8])"
      ]
     },
     "execution_count": 36,
     "metadata": {},
     "output_type": "execute_result"
    }
   ],
   "source": [
    "a*2"
   ]
  },
  {
   "cell_type": "code",
   "execution_count": 37,
   "id": "31587465",
   "metadata": {},
   "outputs": [
    {
     "data": {
      "text/plain": [
       "array([0.5, 1. , 1.5, 2. ])"
      ]
     },
     "execution_count": 37,
     "metadata": {},
     "output_type": "execute_result"
    }
   ],
   "source": [
    "a/2"
   ]
  },
  {
   "cell_type": "code",
   "execution_count": 38,
   "id": "e1de8758",
   "metadata": {},
   "outputs": [
    {
     "data": {
      "text/plain": [
       "array([2, 2, 4, 4])"
      ]
     },
     "execution_count": 38,
     "metadata": {},
     "output_type": "execute_result"
    }
   ],
   "source": [
    "b= np.array([1,0,1,0])\n",
    "a+b"
   ]
  },
  {
   "cell_type": "code",
   "execution_count": 39,
   "id": "b804e12d",
   "metadata": {},
   "outputs": [
    {
     "name": "stdout",
     "output_type": "stream",
     "text": [
      "[ 1  4  9 16]\n"
     ]
    }
   ],
   "source": [
    "print(a**2)"
   ]
  },
  {
   "cell_type": "code",
   "execution_count": 40,
   "id": "97d88705",
   "metadata": {},
   "outputs": [
    {
     "data": {
      "text/plain": [
       "array([ 0.54030231, -0.41614684, -0.9899925 , -0.65364362])"
      ]
     },
     "execution_count": 40,
     "metadata": {},
     "output_type": "execute_result"
    }
   ],
   "source": [
    "# Take a sin\n",
    "np.cos(a)"
   ]
  },
  {
   "cell_type": "code",
   "execution_count": 41,
   "id": "86bf3ac9",
   "metadata": {},
   "outputs": [
    {
     "name": "stdout",
     "output_type": "stream",
     "text": [
      "[[1. 1. 1.]\n",
      " [1. 1. 1.]]\n",
      "[[2 2]\n",
      " [2 2]\n",
      " [2 2]]\n"
     ]
    },
    {
     "data": {
      "text/plain": [
       "array([[6., 6.],\n",
       "       [6., 6.]])"
      ]
     },
     "execution_count": 41,
     "metadata": {},
     "output_type": "execute_result"
    }
   ],
   "source": [
    "a=np.ones((2,3))\n",
    "print(a)\n",
    "\n",
    "b=np.full((3,2),2)\n",
    "print(b)\n",
    "\n",
    "np.matmul(a,b)"
   ]
  },
  {
   "cell_type": "code",
   "execution_count": 42,
   "id": "ee127672",
   "metadata": {},
   "outputs": [
    {
     "data": {
      "text/plain": [
       "1.0"
      ]
     },
     "execution_count": 42,
     "metadata": {},
     "output_type": "execute_result"
    }
   ],
   "source": [
    "# Find the Determinant\n",
    "c= np.identity(3)\n",
    "np.linalg.det(c)"
   ]
  },
  {
   "cell_type": "code",
   "execution_count": 43,
   "id": "c9a02616",
   "metadata": {},
   "outputs": [],
   "source": [
    "## Reference docs (https://docs.spicy.org.doc/numpy/reference./routines.linalg.html)\n",
    "\n",
    "# Determinant \n",
    "# Trace\n",
    "# Singular Vector Decomposition\n",
    "# Eigenvalues\n",
    "# Matrix Norm\n",
    "# Inverse\n",
    "# Etc...\n"
   ]
  },
  {
   "cell_type": "code",
   "execution_count": 44,
   "id": "a08bd210",
   "metadata": {},
   "outputs": [
    {
     "data": {
      "text/plain": [
       "array([[1, 2, 3],\n",
       "       [4, 5, 6]])"
      ]
     },
     "execution_count": 44,
     "metadata": {},
     "output_type": "execute_result"
    }
   ],
   "source": [
    "stats = np.array([[1,2,3],[4,5,6]])\n",
    "stats"
   ]
  },
  {
   "cell_type": "code",
   "execution_count": 45,
   "id": "f81695bd",
   "metadata": {},
   "outputs": [
    {
     "data": {
      "text/plain": [
       "1"
      ]
     },
     "execution_count": 45,
     "metadata": {},
     "output_type": "execute_result"
    }
   ],
   "source": [
    "np.min(stats)"
   ]
  },
  {
   "cell_type": "code",
   "execution_count": 46,
   "id": "975aa9e1",
   "metadata": {},
   "outputs": [
    {
     "data": {
      "text/plain": [
       "array([3, 6])"
      ]
     },
     "execution_count": 46,
     "metadata": {},
     "output_type": "execute_result"
    }
   ],
   "source": [
    "np.max(stats,axis=1)"
   ]
  },
  {
   "cell_type": "code",
   "execution_count": 47,
   "id": "6a29572d",
   "metadata": {},
   "outputs": [
    {
     "data": {
      "text/plain": [
       "array([5, 7, 9])"
      ]
     },
     "execution_count": 47,
     "metadata": {},
     "output_type": "execute_result"
    }
   ],
   "source": [
    "np.sum(stats,axis=0)"
   ]
  },
  {
   "cell_type": "code",
   "execution_count": 48,
   "id": "3ad24b25",
   "metadata": {},
   "outputs": [
    {
     "name": "stdout",
     "output_type": "stream",
     "text": [
      "[[1 2 3 4]\n",
      " [5 6 7 8]]\n",
      "[[1 2]\n",
      " [3 4]\n",
      " [5 6]\n",
      " [7 8]]\n"
     ]
    }
   ],
   "source": [
    "before = np.array([[1,2,3,4],[5,6,7,8]])\n",
    "print(before)\n",
    "after = before.reshape((4,2))\n",
    "print(after)"
   ]
  },
  {
   "cell_type": "code",
   "execution_count": 49,
   "id": "88e8a501",
   "metadata": {},
   "outputs": [
    {
     "data": {
      "text/plain": [
       "array([[1, 2, 3, 4],\n",
       "       [5, 6, 7, 8],\n",
       "       [1, 2, 3, 4],\n",
       "       [5, 6, 7, 8]])"
      ]
     },
     "execution_count": 49,
     "metadata": {},
     "output_type": "execute_result"
    }
   ],
   "source": [
    "# Vertically stacking vectors\n",
    "v1 = np.array([1,2,3,4])\n",
    "v2 = np.array([5,6,7,8])\n",
    "\n",
    "np.vstack([v1,v2,v1,v2])\n"
   ]
  },
  {
   "cell_type": "code",
   "execution_count": 51,
   "id": "7be51685",
   "metadata": {},
   "outputs": [
    {
     "data": {
      "text/plain": [
       "array([[1., 1., 1., 1., 0., 0.],\n",
       "       [1., 1., 1., 1., 0., 0.]])"
      ]
     },
     "execution_count": 51,
     "metadata": {},
     "output_type": "execute_result"
    }
   ],
   "source": [
    "#Horizontal stack\n",
    "\n",
    "h1 = np.ones((2,4))\n",
    "h2 = np.zeros((2,2))\n",
    "\n",
    "np.hstack((h1,h2))\n"
   ]
  },
  {
   "cell_type": "code",
   "execution_count": 52,
   "id": "83468e85",
   "metadata": {},
   "outputs": [],
   "source": [
    "h = range(10)"
   ]
  },
  {
   "cell_type": "code",
   "execution_count": 55,
   "id": "7fa3398b",
   "metadata": {},
   "outputs": [],
   "source": [
    "h = list(h)"
   ]
  },
  {
   "cell_type": "code",
   "execution_count": 56,
   "id": "428f8367",
   "metadata": {},
   "outputs": [
    {
     "data": {
      "text/plain": [
       "[0, 1, 2, 3, 4, 5, 6, 7, 8, 9]"
      ]
     },
     "execution_count": 56,
     "metadata": {},
     "output_type": "execute_result"
    }
   ],
   "source": [
    "h"
   ]
  },
  {
   "cell_type": "code",
   "execution_count": 64,
   "id": "0168e1c9",
   "metadata": {},
   "outputs": [],
   "source": [
    "def double(x):\n",
    "    return 2*x"
   ]
  },
  {
   "cell_type": "code",
   "execution_count": 68,
   "id": "834d1e20",
   "metadata": {},
   "outputs": [],
   "source": [
    "j= lambda x,y: x+y "
   ]
  },
  {
   "cell_type": "code",
   "execution_count": 69,
   "id": "706a971d",
   "metadata": {},
   "outputs": [
    {
     "data": {
      "text/plain": [
       "17"
      ]
     },
     "execution_count": 69,
     "metadata": {},
     "output_type": "execute_result"
    }
   ],
   "source": [
    "j(9,8)"
   ]
  },
  {
   "cell_type": "code",
   "execution_count": 73,
   "id": "2b6046b6",
   "metadata": {},
   "outputs": [],
   "source": [
    "a=123456789 \n",
    "b= 1.23456789* 10**8"
   ]
  },
  {
   "cell_type": "code",
   "execution_count": 74,
   "id": "d18462df",
   "metadata": {},
   "outputs": [
    {
     "data": {
      "text/plain": [
       "123456789"
      ]
     },
     "execution_count": 74,
     "metadata": {},
     "output_type": "execute_result"
    }
   ],
   "source": [
    "a"
   ]
  },
  {
   "cell_type": "code",
   "execution_count": 75,
   "id": "48d174d7",
   "metadata": {},
   "outputs": [
    {
     "data": {
      "text/plain": [
       "123456788.99999999"
      ]
     },
     "execution_count": 75,
     "metadata": {},
     "output_type": "execute_result"
    }
   ],
   "source": [
    "b"
   ]
  },
  {
   "cell_type": "code",
   "execution_count": null,
   "id": "65c6a1dc",
   "metadata": {},
   "outputs": [],
   "source": [
    "def cd(a,b):\n",
    "    if(a%b==0 or b%a==0):\n",
    "        return T\n",
    "    elif (a>b):\n",
    "        return cd(a,b%a)\n",
    "    elif (b>a):\n",
    "        return cd(b,a%b)\n",
    "    else:\n",
    "        return F\n",
    "    \n",
    "    \n",
    "print(cd(9,6))"
   ]
  },
  {
   "cell_type": "code",
   "execution_count": null,
   "id": "210f4842",
   "metadata": {},
   "outputs": [],
   "source": []
  }
 ],
 "metadata": {
  "kernelspec": {
   "display_name": "Python 3 (ipykernel)",
   "language": "python",
   "name": "python3"
  },
  "language_info": {
   "codemirror_mode": {
    "name": "ipython",
    "version": 3
   },
   "file_extension": ".py",
   "mimetype": "text/x-python",
   "name": "python",
   "nbconvert_exporter": "python",
   "pygments_lexer": "ipython3",
   "version": "3.11.4"
  }
 },
 "nbformat": 4,
 "nbformat_minor": 5
}
