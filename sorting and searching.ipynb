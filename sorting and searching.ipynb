{
 "cells": [
  {
   "cell_type": "markdown",
   "id": "e83304cd",
   "metadata": {},
   "source": [
    "Binary search"
   ]
  },
  {
   "cell_type": "code",
   "execution_count": 9,
   "id": "6d67562b",
   "metadata": {},
   "outputs": [],
   "source": [
    "def b_search(n,s):\n",
    "    low = 0\n",
    "    high = len(n)-1\n",
    "    while low <= high:\n",
    "        mid = (low + high )//2 +1\n",
    "        guess = n[mid]\n",
    "        if guess==s:\n",
    "            print(mid)\n",
    "            return mid\n",
    "        elif guess > s:\n",
    "            low = mid+1\n",
    "        else:\n",
    "            high = mid-1\n",
    "    return None"
   ]
  },
  {
   "cell_type": "code",
   "execution_count": 10,
   "id": "bbd32d75",
   "metadata": {},
   "outputs": [],
   "source": [
    "l = [2,3,5,6,8,9]"
   ]
  },
  {
   "cell_type": "code",
   "execution_count": null,
   "id": "e7228e10",
   "metadata": {},
   "outputs": [],
   "source": [
    "print(b_search(l,8))"
   ]
  },
  {
   "cell_type": "code",
   "execution_count": null,
   "id": "6fe8eae8",
   "metadata": {},
   "outputs": [],
   "source": [
    "def q_sort(arr):\n",
    "    if len(arr)<2:\n",
    "        return arr\n",
    "    else:\n",
    "        pivot = arr[0]\n",
    "        lesser = [i for i in arr[1:] if i < pivot]\n",
    "        greater = [i for i in arr[1:] if i > pivot]\n",
    "        left = q_sort(lesser)\n",
    "        right = q_sort(greater)\n",
    "        if left == None:\n",
    "            left = [pivot,]\n",
    "        left.append(pivot)\n",
    "        right = left.extend(right)\n",
    "        return right"
   ]
  },
  {
   "cell_type": "code",
   "execution_count": null,
   "id": "9f630e76-f69a-4216-8e17-3b1392f7074c",
   "metadata": {
    "jupyter": {
     "source_hidden": true
    },
    "tags": []
   },
   "outputs": [],
   "source": []
  },
  {
   "cell_type": "code",
   "execution_count": null,
   "id": "d6d146d3-cfc2-49b4-bed6-772c59fadbce",
   "metadata": {},
   "outputs": [],
   "source": []
  }
 ],
 "metadata": {
  "kernelspec": {
   "display_name": "Python 3 (ipykernel)",
   "language": "python",
   "name": "python3"
  },
  "language_info": {
   "codemirror_mode": {
    "name": "ipython",
    "version": 3
   },
   "file_extension": ".py",
   "mimetype": "text/x-python",
   "name": "python",
   "nbconvert_exporter": "python",
   "pygments_lexer": "ipython3",
   "version": "3.11.4"
  }
 },
 "nbformat": 4,
 "nbformat_minor": 5
}
